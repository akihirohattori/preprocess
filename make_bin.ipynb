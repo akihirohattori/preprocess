{
 "cells": [
  {
   "cell_type": "code",
   "execution_count": 2,
   "metadata": {},
   "outputs": [],
   "source": [
    "from astropy.io import fits\n",
    "import numpy as np\n",
    "import glob\n",
    "import os\n",
    "import pathlib\n",
    "from pathlib import Path\n",
    "import re\n",
    "from datetime import datetime\n",
    "import pandas as pd"
   ]
  },
  {
   "cell_type": "code",
   "execution_count": 5,
   "metadata": {},
   "outputs": [],
   "source": [
    "def atoi(text):\n",
    "    return int(text) if text.isdigit() else text\n",
    "\n",
    "def natural_keys(text):\n",
    "    return [ atoi(c) for c in re.split(r'(\\d+)', text) ]"
   ]
  },
  {
   "cell_type": "code",
   "execution_count": 8,
   "metadata": {},
   "outputs": [],
   "source": [
    "def bin_image(size):\n",
    "    home_dir = os.path.expanduser(\"~\")\n",
    "    save_dir = os.path.join(home_dir, \"Documents/after_graduate2/preprocess/flat_filt/\")\n",
    "    save_dir = \"flat_filt\"\n",
    "    path = Path(save_dir)\n",
    "    path.mkdir(exist_ok=True)\n",
    "    save_dir = \"flat_filt/binned_original\"\n",
    "    path = Path(save_dir)\n",
    "    path.mkdir(exist_ok=True)\n",
    "    save_dir = os.path.join(home_dir, \"Documents/after_graduate2/preprocess/flat_filt/binned_original/\")\n",
    "    p = os.path.join(home_dir, \"Documents/gra/HAY_A_AMICA_3_HAYAMICA_V1_0/data/preflight\")\n",
    "    for f in glob.glob(p+\"/flat_*.fit\"):\n",
    "        data = fits.getdata(f)\n",
    "        rows, columns = data.shape\n",
    "        binned_rows = rows // size\n",
    "        binned_columns = columns // size\n",
    "        binned_image = np.zeros((binned_rows, binned_columns))\n",
    "        for i in range(0, binned_rows * size, size):\n",
    "            for j in range(0, binned_columns * size, size):\n",
    "                block = data[i:i + size, j:j + size]\n",
    "                binned_image[i // size, j // size] = np.mean(block)\n",
    "        part = f.split(\"flat\")\n",
    "        pa = f\"{save_dir}bin_{size}flat{part[1]}\"\n",
    "        if 0 in binned_image:\n",
    "            print(f\"bin_{size}flat{part[1]}は要素に０を持ちます\")\n",
    "        else:\n",
    "            print(f\"bin_{size}flat{part[1]}は要素に０を持ちません\")\n",
    "        fits.writeto(pa,binned_image, overwrite=True)"
   ]
  },
  {
   "cell_type": "code",
   "execution_count": 9,
   "metadata": {},
   "outputs": [
    {
     "name": "stdout",
     "output_type": "stream",
     "text": [
      "bin_1flat_x.fitは要素に０を持ちます\n",
      "bin_1flat_wide.fitは要素に０を持ちます\n",
      "bin_1flat_zs.fitは要素に０を持ちます\n",
      "bin_1flat_p.fitは要素に０を持ちません\n",
      "bin_1flat_b.fitは要素に０を持ちます\n",
      "bin_1flat_w.fitは要素に０を持ちません\n",
      "bin_1flat_ul.fitは要素に０を持ちます\n",
      "bin_1flat_v.fitは要素に０を持ちます\n",
      "bin_2flat_x.fitは要素に０を持ちません\n",
      "bin_2flat_wide.fitは要素に０を持ちません\n",
      "bin_2flat_zs.fitは要素に０を持ちません\n",
      "bin_2flat_p.fitは要素に０を持ちません\n",
      "bin_2flat_b.fitは要素に０を持ちます\n",
      "bin_2flat_w.fitは要素に０を持ちません\n",
      "bin_2flat_ul.fitは要素に０を持ちません\n",
      "bin_2flat_v.fitは要素に０を持ちます\n",
      "bin_4flat_x.fitは要素に０を持ちません\n",
      "bin_4flat_wide.fitは要素に０を持ちません\n",
      "bin_4flat_zs.fitは要素に０を持ちません\n",
      "bin_4flat_p.fitは要素に０を持ちません\n",
      "bin_4flat_b.fitは要素に０を持ちます\n",
      "bin_4flat_w.fitは要素に０を持ちません\n",
      "bin_4flat_ul.fitは要素に０を持ちません\n",
      "bin_4flat_v.fitは要素に０を持ちます\n",
      "bin_8flat_x.fitは要素に０を持ちません\n",
      "bin_8flat_wide.fitは要素に０を持ちません\n",
      "bin_8flat_zs.fitは要素に０を持ちません\n",
      "bin_8flat_p.fitは要素に０を持ちません\n",
      "bin_8flat_b.fitは要素に０を持ちます\n",
      "bin_8flat_w.fitは要素に０を持ちません\n",
      "bin_8flat_ul.fitは要素に０を持ちません\n",
      "bin_8flat_v.fitは要素に０を持ちません\n"
     ]
    }
   ],
   "source": [
    "bin_image(1)\n",
    "bin_image(2)\n",
    "bin_image(4)\n",
    "bin_image(8)"
   ]
  },
  {
   "cell_type": "code",
   "execution_count": 13,
   "metadata": {},
   "outputs": [
    {
     "name": "stdout",
     "output_type": "stream",
     "text": [
      "/Users/hattoriakihiro/Documents/after_graduate2/preprocess\n",
      "./flat_filt/binned_original/bin_1flat_b.fit\n",
      "bin_1flat_b.fit\n",
      "b\n",
      "0を含む行が何行目か: []\n",
      "0を含む列が何列目か: []\n",
      "bin_1flat_p.fit\n",
      "p\n",
      "bin_1flat_ul.fit\n",
      "ul\n",
      "0を含む行が何行目か: []\n",
      "0を含む列が何列目か: []\n",
      "bin_1flat_v.fit\n",
      "v\n",
      "0を含む行が何行目か: []\n",
      "0を含む列が何列目か: []\n",
      "bin_1flat_w.fit\n",
      "w\n",
      "bin_1flat_wide.fit\n",
      "wide\n",
      "0を含む行が何行目か: []\n",
      "0を含む列が何列目か: []\n",
      "bin_1flat_x.fit\n",
      "x\n",
      "0を含む行が何行目か: []\n",
      "0を含む列が何列目か: []\n",
      "bin_1flat_zs.fit\n",
      "zs\n",
      "0を含む行が何行目か: []\n",
      "0を含む列が何列目か: []\n",
      "bin_2flat_b.fit\n",
      "b\n",
      "0を含む行が何行目か: []\n",
      "0を含む列が何列目か: []\n",
      "bin_2flat_p.fit\n",
      "p\n",
      "bin_2flat_ul.fit\n",
      "ul\n",
      "bin_2flat_v.fit\n",
      "v\n",
      "0を含む行が何行目か: []\n",
      "0を含む列が何列目か: []\n",
      "bin_2flat_w.fit\n",
      "w\n",
      "bin_2flat_wide.fit\n",
      "wide\n",
      "bin_2flat_x.fit\n",
      "x\n",
      "bin_2flat_zs.fit\n",
      "zs\n",
      "bin_4flat_b.fit\n",
      "b\n",
      "0を含む行が何行目か: []\n",
      "0を含む列が何列目か: []\n",
      "bin_4flat_p.fit\n",
      "p\n",
      "bin_4flat_ul.fit\n",
      "ul\n",
      "bin_4flat_v.fit\n",
      "v\n",
      "0を含む行が何行目か: []\n",
      "0を含む列が何列目か: []\n",
      "bin_4flat_w.fit\n",
      "w\n",
      "bin_4flat_wide.fit\n",
      "wide\n",
      "bin_4flat_x.fit\n",
      "x\n",
      "bin_4flat_zs.fit\n",
      "zs\n",
      "bin_8flat_b.fit\n",
      "b\n",
      "0を含む行が何行目か: []\n",
      "0を含む列が何列目か: []\n",
      "bin_8flat_p.fit\n",
      "p\n",
      "bin_8flat_ul.fit\n",
      "ul\n",
      "bin_8flat_v.fit\n",
      "v\n",
      "bin_8flat_w.fit\n",
      "w\n",
      "bin_8flat_wide.fit\n",
      "wide\n",
      "bin_8flat_x.fit\n",
      "x\n",
      "bin_8flat_zs.fit\n",
      "zs\n"
     ]
    }
   ],
   "source": [
    "print(os.getcwd())\n",
    "save_dir = (\"./flat_filt/crop_ver/\")\n",
    "path = Path(save_dir)\n",
    "path.mkdir(exist_ok=True)\n",
    "\n",
    "flat_files = sorted((glob.glob(\"./flat_filt/binned_original/*.fit\")), key = natural_keys)\n",
    "print(flat_files[0])\n",
    "\n",
    "def find_first_zero(row):\n",
    "    return row.eq(0).idxmax()\n",
    "for flat_file in flat_files:\n",
    "    name = flat_file.split(\"binned_original/bin\")\n",
    "    num_bin = flat_file.split(\"n_\")\n",
    "    num_bin = num_bin[1].split(\"flat\")\n",
    "    num = int(num_bin[0])\n",
    "    n = f\"bin{name[1]}\"\n",
    "    print(n)\n",
    "    pat = flat_file.split(\"/bin_\")\n",
    "    pa = pat[1].split(\"t_\")\n",
    "    p = pa[1].split(\".f\")\n",
    "    filt = p[0]\n",
    "    print(filt)\n",
    "    data = fits.getdata(flat_file)\n",
    "    contains_zero = (data == 0).any()\n",
    "    if contains_zero:\n",
    "        data[data==0] = 100000\n",
    "        a = pd.DataFrame(data)\n",
    "        rows_with_zeros = a.index[a.apply(lambda row: any(row == 0), axis=1)].tolist()\n",
    "        columns_with_zeros = a.columns[a.isin([0]).any()].tolist()\n",
    "        print(\"0を含む行が何行目か:\", rows_with_zeros)\n",
    "        print(\"0を含む列が何列目か:\", columns_with_zeros)\n",
    "        data = a.values\n",
    "        fits.writeto(f\"{save_dir}{n}\",data, overwrite = True)\n",
    "    else:\n",
    "        fits.writeto(f\"{save_dir}{n}\",data, overwrite = True)"
   ]
  },
  {
   "cell_type": "code",
   "execution_count": 15,
   "metadata": {},
   "outputs": [
    {
     "name": "stdout",
     "output_type": "stream",
     "text": [
      "True\n"
     ]
    }
   ],
   "source": [
    "data = fits.getdata(\"../HAY_A_AMICA_3_HAYAMICA_V1_0/data/preflight/flat_b.fit\")\n",
    "data1 = fits.getdata(\"./flat_filt/binned_original/bin_1flat_b.fit\")\n",
    "\n",
    "print((data == data1).all())"
   ]
  },
  {
   "cell_type": "code",
   "execution_count": 3,
   "metadata": {},
   "outputs": [],
   "source": [
    "flat = fits.getdata(\"./flat_filt/crop_ver/bin_1flat_b.fit\")\n",
    "a = fits.open(\"../HAY_A_AMICA_3_HAYAMICA_V1_0/data/20050917/st_2385559680_b.fit\")\n",
    "header = a[0].header\n",
    "data = a[0].data\n",
    "startH = header[\"START_H\"]\n",
    "startV = header[\"START_V\"]"
   ]
  },
  {
   "cell_type": "code",
   "execution_count": 7,
   "metadata": {},
   "outputs": [],
   "source": [
    "flat = pd.DataFrame(flat)\n",
    "crop = flat.iloc[startV : startV + data.shape[0], startH : startH + data.shape[1]].values\n",
    "crop[294][337]\n",
    "fits.writeto(\"crop_flat.fit\", crop)"
   ]
  },
  {
   "cell_type": "code",
   "execution_count": 6,
   "metadata": {},
   "outputs": [
    {
     "name": "stdout",
     "output_type": "stream",
     "text": [
      "True\n"
     ]
    }
   ],
   "source": [
    "flat_data = fits.getdata(\"./test/before_ref/bef_scacor1_st_2385559680_b.fit\")\n",
    "\n",
    "print(((data/crop)==flat_data).all())"
   ]
  }
 ],
 "metadata": {
  "kernelspec": {
   "display_name": "base",
   "language": "python",
   "name": "python3"
  },
  "language_info": {
   "codemirror_mode": {
    "name": "ipython",
    "version": 3
   },
   "file_extension": ".py",
   "mimetype": "text/x-python",
   "name": "python",
   "nbconvert_exporter": "python",
   "pygments_lexer": "ipython3",
   "version": "3.8.12"
  }
 },
 "nbformat": 4,
 "nbformat_minor": 2
}
