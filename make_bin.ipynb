{
 "cells": [
  {
   "cell_type": "code",
   "execution_count": 1,
   "metadata": {},
   "outputs": [],
   "source": [
    "from astropy.io import fits\n",
    "import numpy as np\n",
    "import glob\n",
    "import os\n",
    "import pathlib\n",
    "import re\n",
    "from datetime import datetime"
   ]
  },
  {
   "cell_type": "code",
   "execution_count": 21,
   "metadata": {},
   "outputs": [],
   "source": [
    "def bin_image(size):\n",
    "    home_dir = os.path.expanduser(\"~\")\n",
    "    save_dir = os.path.join(home_dir, \"Documents/after_graduate2/preprocess/flat_filt/\")\n",
    "    p = os.path.join(home_dir, \"Documents/gra/HAY_A_AMICA_3_HAYAMICA_V1_0/data/preflight\")\n",
    "    for f in glob.glob(p+\"/flat_*.fit\"):\n",
    "        data = fits.getdata(f)\n",
    "        rows, columns = data.shape\n",
    "        binned_rows = rows // size\n",
    "        binned_columns = columns // size\n",
    "        binned_image = np.zeros((binned_rows, binned_columns))\n",
    "        for i in range(0, binned_rows * size, size):\n",
    "            for j in range(0, binned_columns * size, size):\n",
    "                block = data[i:i + size, j:j + size]\n",
    "                binned_image[i // size, j // size] = np.mean(block)\n",
    "        part = f.split(\"flat\")\n",
    "        pa = f\"{save_dir}bin_{size}flat{part[1]}\"\n",
    "        if 0 in binned_image:\n",
    "            print(f\"bin_{size}flat{part[1]}は要素に０を持ちます\")\n",
    "        else:\n",
    "            print(f\"bin_{size}flat{part[1]}は要素に０を持ちません\")\n",
    "        fits.writeto(pa,binned_image, overwrite=True)"
   ]
  },
  {
   "cell_type": "code",
   "execution_count": 23,
   "metadata": {},
   "outputs": [
    {
     "name": "stdout",
     "output_type": "stream",
     "text": [
      "bin_1flat_x.fitは要素に０を持ちます\n",
      "bin_1flat_wide.fitは要素に０を持ちます\n",
      "bin_1flat_zs.fitは要素に０を持ちます\n",
      "bin_1flat_p.fitは要素に０を持ちません\n",
      "bin_1flat_b.fitは要素に０を持ちます\n",
      "bin_1flat_w.fitは要素に０を持ちません\n",
      "bin_1flat_ul.fitは要素に０を持ちます\n",
      "bin_1flat_v.fitは要素に０を持ちます\n",
      "bin_2flat_x.fitは要素に０を持ちません\n",
      "bin_2flat_wide.fitは要素に０を持ちません\n",
      "bin_2flat_zs.fitは要素に０を持ちません\n",
      "bin_2flat_p.fitは要素に０を持ちません\n",
      "bin_2flat_b.fitは要素に０を持ちます\n",
      "bin_2flat_w.fitは要素に０を持ちません\n",
      "bin_2flat_ul.fitは要素に０を持ちません\n",
      "bin_2flat_v.fitは要素に０を持ちます\n",
      "bin_4flat_x.fitは要素に０を持ちません\n",
      "bin_4flat_wide.fitは要素に０を持ちません\n",
      "bin_4flat_zs.fitは要素に０を持ちません\n",
      "bin_4flat_p.fitは要素に０を持ちません\n",
      "bin_4flat_b.fitは要素に０を持ちます\n",
      "bin_4flat_w.fitは要素に０を持ちません\n",
      "bin_4flat_ul.fitは要素に０を持ちません\n",
      "bin_4flat_v.fitは要素に０を持ちます\n",
      "bin_8flat_x.fitは要素に０を持ちません\n",
      "bin_8flat_wide.fitは要素に０を持ちません\n",
      "bin_8flat_zs.fitは要素に０を持ちません\n",
      "bin_8flat_p.fitは要素に０を持ちません\n",
      "bin_8flat_b.fitは要素に０を持ちます\n",
      "bin_8flat_w.fitは要素に０を持ちません\n",
      "bin_8flat_ul.fitは要素に０を持ちません\n",
      "bin_8flat_v.fitは要素に０を持ちません\n"
     ]
    }
   ],
   "source": [
    "bin_image(1)\n",
    "bin_image(2)\n",
    "bin_image(4)\n",
    "bin_image(8)"
   ]
  },
  {
   "cell_type": "code",
   "execution_count": 16,
   "metadata": {},
   "outputs": [
    {
     "name": "stdout",
     "output_type": "stream",
     "text": [
      "True\n"
     ]
    }
   ],
   "source": [
    "data = fits.getdata(\"../HAY_A_AMICA_3_HAYAMICA_V1_0/data/preflight/flat_b.fit\")\n",
    "data1 = fits.getdata(\"./flat_filt/bin_1flat_b.fit\")\n",
    "\n",
    "print((data == data1).all())"
   ]
  }
 ],
 "metadata": {
  "kernelspec": {
   "display_name": "base",
   "language": "python",
   "name": "python3"
  },
  "language_info": {
   "codemirror_mode": {
    "name": "ipython",
    "version": 3
   },
   "file_extension": ".py",
   "mimetype": "text/x-python",
   "name": "python",
   "nbconvert_exporter": "python",
   "pygments_lexer": "ipython3",
   "version": "3.11.5"
  }
 },
 "nbformat": 4,
 "nbformat_minor": 2
}
