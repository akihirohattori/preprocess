{
 "cells": [
  {
   "cell_type": "code",
   "execution_count": 1,
   "metadata": {},
   "outputs": [],
   "source": [
    "from astropy.io import fits\n",
    "import cv2\n",
    "import matplotlib.pyplot as plt\n",
    "import os\n",
    "import re\n",
    "import glob"
   ]
  },
  {
   "cell_type": "code",
   "execution_count": 2,
   "metadata": {},
   "outputs": [],
   "source": [
    "def atoi(text):\n",
    "    return int(text) if text.isdigit() else text\n",
    "\n",
    "def natural_keys(text):\n",
    "    return [ atoi(c) for c in re.split(r'(\\d+)', text) ]"
   ]
  },
  {
   "cell_type": "code",
   "execution_count": 3,
   "metadata": {},
   "outputs": [],
   "source": [
    "def split_images(image_files, batch_size):\n",
    "    return [image_files[i:i + batch_size] for i in range(0, len(image_files), batch_size)]"
   ]
  },
  {
   "cell_type": "code",
   "execution_count": 4,
   "metadata": {},
   "outputs": [],
   "source": [
    "\n",
    "# FITSファイルの読み込み\n",
    "fits_file_path = '../output_preprocess/20050925/registration/cor2_st_2407418769_v_reg_.fits'\n",
    "hdulist = fits.open(fits_file_path)\n",
    "data = hdulist[0].data\n",
    "\n",
    "# 画像のサイズを変更（例: 2倍に拡大）\n",
    "new_size = (data.shape[1] * 2, data.shape[0] * 2)\n",
    "# OpenCVを使用する場合\n",
    "resized_image_opencv = cv2.resize(data, new_size, interpolation=cv2.INTER_LINEAR)"
   ]
  },
  {
   "cell_type": "code",
   "execution_count": 6,
   "metadata": {},
   "outputs": [
    {
     "name": "stdout",
     "output_type": "stream",
     "text": [
      "../output_preprocess/resize/\n"
     ]
    }
   ],
   "source": [
    "print(f\"{save_dir[0]}resize{save_dir[1]}\")\n",
    "\"../output_preprocess/resize/\""
   ]
  },
  {
   "cell_type": "code",
   "execution_count": 5,
   "metadata": {},
   "outputs": [
    {
     "name": "stdout",
     "output_type": "stream",
     "text": [
      "20050925\n",
      "['../output_preprocess/20050925/registration/cor2_st_2406717897_b_reg_.fits', '../output_preprocess/20050925/registration/cor2_st_2406727508_v_reg_.fits', '../output_preprocess/20050925/registration/cor2_st_2406737168_w_reg_.fits', '../output_preprocess/20050925/registration/cor2_st_2406766067_p_reg_.fits']\n"
     ]
    },
    {
     "ename": "PermissionError",
     "evalue": "[Errno 1] Operation not permitted: '../output_preprocess/resize/'",
     "output_type": "error",
     "traceback": [
      "\u001b[0;31m---------------------------------------------------------------------------\u001b[0m",
      "\u001b[0;31mPermissionError\u001b[0m                           Traceback (most recent call last)",
      "\u001b[1;32m/Users/m5261113/Documents/after_graduate2/preprocess/change_image_size.ipynb セル 5\u001b[0m line \u001b[0;36m2\n\u001b[1;32m     <a href='vscode-notebook-cell:/Users/m5261113/Documents/after_graduate2/preprocess/change_image_size.ipynb#W4sZmlsZQ%3D%3D?line=20'>21</a>\u001b[0m hdu\u001b[39m.\u001b[39mheader[\u001b[39m\"\u001b[39m\u001b[39mEXP_0\u001b[39m\u001b[39m\"\u001b[39m] \u001b[39m=\u001b[39m t\n\u001b[1;32m     <a href='vscode-notebook-cell:/Users/m5261113/Documents/after_graduate2/preprocess/change_image_size.ipynb#W4sZmlsZQ%3D%3D?line=21'>22</a>\u001b[0m hdulist \u001b[39m=\u001b[39m fits\u001b[39m.\u001b[39mHDUList([hdu])\n\u001b[0;32m---> <a href='vscode-notebook-cell:/Users/m5261113/Documents/after_graduate2/preprocess/change_image_size.ipynb#W4sZmlsZQ%3D%3D?line=22'>23</a>\u001b[0m hdulist\u001b[39m.\u001b[39mwriteto(\u001b[39mf\u001b[39m\u001b[39m\"\u001b[39m\u001b[39m{\u001b[39;00msave_dir[\u001b[39m0\u001b[39m]\u001b[39m}\u001b[39;00m\u001b[39mresize\u001b[39m\u001b[39m{\u001b[39;00msave_dir[\u001b[39m1\u001b[39m]\u001b[39m}\u001b[39;00m\u001b[39m\"\u001b[39m, overwrite\u001b[39m=\u001b[39m\u001b[39mTrue\u001b[39;00m)\n",
      "File \u001b[0;32m~/anaconda3/lib/python3.11/site-packages/astropy/io/fits/hdu/hdulist.py:939\u001b[0m, in \u001b[0;36mHDUList.writeto\u001b[0;34m(self, fileobj, output_verify, overwrite, checksum)\u001b[0m\n\u001b[1;32m    935\u001b[0m mode \u001b[39m=\u001b[39m FILE_MODES[fileobj_mode(fileobj)] \u001b[39mif\u001b[39;00m isfile(fileobj) \u001b[39melse\u001b[39;00m \u001b[39m'\u001b[39m\u001b[39mostream\u001b[39m\u001b[39m'\u001b[39m\n\u001b[1;32m    937\u001b[0m \u001b[39m# This can accept an open file object that's open to write only, or in\u001b[39;00m\n\u001b[1;32m    938\u001b[0m \u001b[39m# append/update modes but only if the file doesn't exist.\u001b[39;00m\n\u001b[0;32m--> 939\u001b[0m fileobj \u001b[39m=\u001b[39m _File(fileobj, mode\u001b[39m=\u001b[39mmode, overwrite\u001b[39m=\u001b[39moverwrite)\n\u001b[1;32m    940\u001b[0m hdulist \u001b[39m=\u001b[39m \u001b[39mself\u001b[39m\u001b[39m.\u001b[39mfromfile(fileobj)\n\u001b[1;32m    941\u001b[0m \u001b[39mtry\u001b[39;00m:\n",
      "File \u001b[0;32m~/anaconda3/lib/python3.11/site-packages/astropy/io/fits/file.py:170\u001b[0m, in \u001b[0;36m_File.__init__\u001b[0;34m(self, fileobj, mode, memmap, overwrite, cache)\u001b[0m\n\u001b[1;32m    168\u001b[0m     \u001b[39mself\u001b[39m\u001b[39m.\u001b[39m_open_fileobj(fileobj, mode, overwrite)\n\u001b[1;32m    169\u001b[0m \u001b[39melif\u001b[39;00m \u001b[39misinstance\u001b[39m(fileobj, (\u001b[39mstr\u001b[39m, \u001b[39mbytes\u001b[39m)):\n\u001b[0;32m--> 170\u001b[0m     \u001b[39mself\u001b[39m\u001b[39m.\u001b[39m_open_filename(fileobj, mode, overwrite)\n\u001b[1;32m    171\u001b[0m \u001b[39melse\u001b[39;00m:\n\u001b[1;32m    172\u001b[0m     \u001b[39mself\u001b[39m\u001b[39m.\u001b[39m_open_filelike(fileobj, mode, overwrite)\n",
      "File \u001b[0;32m~/anaconda3/lib/python3.11/site-packages/astropy/io/fits/file.py:551\u001b[0m, in \u001b[0;36m_File._open_filename\u001b[0;34m(self, filename, mode, overwrite)\u001b[0m\n\u001b[1;32m    548\u001b[0m \u001b[39m\u001b[39m\u001b[39m\"\"\"Open a FITS file from a filename string.\"\"\"\u001b[39;00m\n\u001b[1;32m    550\u001b[0m \u001b[39mif\u001b[39;00m mode \u001b[39m==\u001b[39m \u001b[39m'\u001b[39m\u001b[39mostream\u001b[39m\u001b[39m'\u001b[39m:\n\u001b[0;32m--> 551\u001b[0m     \u001b[39mself\u001b[39m\u001b[39m.\u001b[39m_overwrite_existing(overwrite, \u001b[39mNone\u001b[39;00m, \u001b[39mTrue\u001b[39;00m)\n\u001b[1;32m    553\u001b[0m \u001b[39mif\u001b[39;00m os\u001b[39m.\u001b[39mpath\u001b[39m.\u001b[39mexists(\u001b[39mself\u001b[39m\u001b[39m.\u001b[39mname):\n\u001b[1;32m    554\u001b[0m     \u001b[39mwith\u001b[39;00m \u001b[39mopen\u001b[39m(\u001b[39mself\u001b[39m\u001b[39m.\u001b[39mname, \u001b[39m'\u001b[39m\u001b[39mrb\u001b[39m\u001b[39m'\u001b[39m) \u001b[39mas\u001b[39;00m f:\n",
      "File \u001b[0;32m~/anaconda3/lib/python3.11/site-packages/astropy/io/fits/file.py:438\u001b[0m, in \u001b[0;36m_File._overwrite_existing\u001b[0;34m(self, overwrite, fileobj, closed)\u001b[0m\n\u001b[1;32m    436\u001b[0m         \u001b[39mif\u001b[39;00m \u001b[39mnot\u001b[39;00m closed:\n\u001b[1;32m    437\u001b[0m             fileobj\u001b[39m.\u001b[39mclose()\n\u001b[0;32m--> 438\u001b[0m         os\u001b[39m.\u001b[39mremove(\u001b[39mself\u001b[39m\u001b[39m.\u001b[39mname)\n\u001b[1;32m    439\u001b[0m \u001b[39melse\u001b[39;00m:\n\u001b[1;32m    440\u001b[0m     \u001b[39mraise\u001b[39;00m \u001b[39mOSError\u001b[39;00m(NOT_OVERWRITING_MSG\u001b[39m.\u001b[39mformat(\u001b[39mself\u001b[39m\u001b[39m.\u001b[39mname))\n",
      "\u001b[0;31mPermissionError\u001b[0m: [Errno 1] Operation not permitted: '../output_preprocess/resize/'"
     ]
    }
   ],
   "source": [
    "base_directory = f\"../output_preprocess/\"\n",
    "for directory in sorted(os.listdir(base_directory), key = natural_keys):\n",
    "    if(\"20050925\" in directory):\n",
    "        print(directory)\n",
    "        image_dir = f\"../output_preprocess/{directory}/registration/\"\n",
    "        image_files = sorted(glob.glob(os.path.join(image_dir, \"*.fits\")), key = natural_keys)\n",
    "        batch_size = 4\n",
    "        image_batches = split_images(image_files, batch_size)\n",
    "        for i, images in enumerate(image_batches):\n",
    "            print(images)\n",
    "            for image in images:\n",
    "            # FITSファイルの読み込み\n",
    "                save_dir=image_dir.split(f\"{directory}/registration\")\n",
    "                name = image.split(\"registration/\")[1]\n",
    "                hdulist = fits.open(image)\n",
    "                data = hdulist[0].data\n",
    "                t = hdulist[0].header['EXP_0']\n",
    "                new_size = (1000,1000)\n",
    "                resized_image = cv2.resize(data, new_size, interpolation=cv2.INTER_LINEAR)\n",
    "                hdu = fits.PrimaryHDU(resized_image)\n",
    "                hdu.header[\"EXP_0\"] = t\n",
    "                hdulist = fits.HDUList([hdu])\n",
    "                hdulist.writeto(f\"{save_dir[0]}resize{save_dir[1]}\", overwrite=True)\n",
    "                # hdulist.writeto(image, overwrite=True)"
   ]
  },
  {
   "cell_type": "code",
   "execution_count": null,
   "metadata": {},
   "outputs": [],
   "source": [
    "# FITSファイルの書き込み（任意）\n",
    "hdu = fits.PrimaryHDU(resized_image_opencv)\n",
    "hdulist = fits.HDUList([hdu])\n",
    "hdulist.writeto('resized_image.fits', overwrite=True)\n",
    "\n",
    "# FITSファイルを閉じる\n",
    "hdulist.close()"
   ]
  },
  {
   "cell_type": "code",
   "execution_count": null,
   "metadata": {},
   "outputs": [],
   "source": [
    "if any()"
   ]
  }
 ],
 "metadata": {
  "kernelspec": {
   "display_name": "base",
   "language": "python",
   "name": "python3"
  },
  "language_info": {
   "codemirror_mode": {
    "name": "ipython",
    "version": 3
   },
   "file_extension": ".py",
   "mimetype": "text/x-python",
   "name": "python",
   "nbconvert_exporter": "python",
   "pygments_lexer": "ipython3",
   "version": "3.11.5"
  }
 },
 "nbformat": 4,
 "nbformat_minor": 2
}
