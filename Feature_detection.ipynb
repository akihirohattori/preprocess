{
 "cells": [
  {
   "cell_type": "code",
   "execution_count": 1,
   "metadata": {},
   "outputs": [],
   "source": [
    "import numpy as np\n",
    "from astropy.io import fits\n",
    "import cv2\n",
    "import os\n",
    "import math"
   ]
  },
  {
   "cell_type": "code",
   "execution_count": 2,
   "metadata": {},
   "outputs": [],
   "source": [
    "def min_max(x, ax, ay):\n",
    "    min_x = x.min()\n",
    "    max_x = x.max()\n",
    "    a = np.zeros((ay, ax))\n",
    "    b = np.zeros((ay, ax))\n",
    "    z = np.zeros((ay, ax))\n",
    "    for i in range(ay):\n",
    "        for j in range(ax):\n",
    "            z[i][j] = (x[i][j] - min_x)/(max_x - min_x) * 255\n",
    "            a[i][j],b[i][j] = math.modf(z[i][j])\n",
    "\n",
    "    return a,b"
   ]
  },
  {
   "cell_type": "code",
   "execution_count": 3,
   "metadata": {},
   "outputs": [],
   "source": [
    "def image_conv(image):\n",
    "    i = fits.getdata(image)\n",
    "    cv2.imwrite(\"test.tif\",i.astype('uint16'))\n",
    "    c = cv2.imread(\"test.tif\",-1)\n",
    "\n",
    "    return c"
   ]
  },
  {
   "cell_type": "code",
   "execution_count": 25,
   "metadata": {},
   "outputs": [
    {
     "name": "stdout",
     "output_type": "stream",
     "text": [
      "../HAY_A_AMICA_3_HAYAMICA_V1_0/data/20051025/st_2489428266_b.fit\n",
      "../HAY_A_AMICA_3_HAYAMICA_V1_0/data/20051025/st_2489432123_v.fit\n",
      "../HAY_A_AMICA_3_HAYAMICA_V1_0/data/20051025/st_2489436012_w.fit\n",
      "../HAY_A_AMICA_3_HAYAMICA_V1_0/data/20051025/st_2489439885_p.fit\n",
      "[0.131, 0.087, 0.0655, 0.174]\n"
     ]
    }
   ],
   "source": [
    "# FITS画像ファイルのリストを作成\n",
    "# image_files = [\"../../gra/HAY_A_AMICA_3_HAYAMICA_V1_0/data/20051025/st_2491939184_b.fit\",\n",
    "#                \"../../gra/HAY_A_AMICA_3_HAYAMICA_V1_0/data/20051025/st_2491942076_v.fit\",\n",
    "#                \"../../gra/HAY_A_AMICA_3_HAYAMICA_V1_0/data/20051025/st_2491945018_w.fit\",\n",
    "#                  \"../../gra/HAY_A_AMICA_3_HAYAMICA_V1_0/data/20051025/st_2491947926_p.fit\"]  # すべての画像ファイルを含むリスト\n",
    "\n",
    "image_files = [\"../HAY_A_AMICA_3_HAYAMICA_V1_0/data/20051025/st_2489428266_b.fit\",\n",
    "               \"../HAY_A_AMICA_3_HAYAMICA_V1_0/data/20051025/st_2489432123_v.fit\",\n",
    "               \"../HAY_A_AMICA_3_HAYAMICA_V1_0/data/20051025/st_2489436012_w.fit\",\n",
    "                 \"../HAY_A_AMICA_3_HAYAMICA_V1_0/data/20051025/st_2489439885_p.fit\"]\n",
    "\n",
    "# image_files = [\"../HAY_A_AMICA_3_HAYAMICA_V1_0/data/20051025/st_2490234689_b.fit\",\n",
    "#                \"../HAY_A_AMICA_3_HAYAMICA_V1_0/data/20051025/st_2490238562_v.fit\",\n",
    "#                \"../HAY_A_AMICA_3_HAYAMICA_V1_0/data/20051025/st_2490242451_w.fit\",\n",
    "#                \"../HAY_A_AMICA_3_HAYAMICA_V1_0/data/20051025/st_2490246307_p.fit\"]\n",
    "\n",
    "# image_files = [\"../preprocess_original/test/after_ref/cor1_st_2489428266_b.fit\",\n",
    "#                \"../preprocess_original/test/after_ref/cor1_st_2489432123_v.fit\",\n",
    "#                \"../preprocess_original/test/after_ref/cor1_st_2489436012_w.fit\",\n",
    "#                \"../preprocess_original/test/after_ref/cor1_st_2489439885_p.fit\"]\n",
    "\n",
    "# image_files = [\"../preprocess/test/before_ref/cor1_st_2489428266_b.fit\",\n",
    "#                \"../preprocess//test/before_ref/cor1_st_2489432123_v.fit\",\n",
    "#                \"../preprocess/test/before_ref/cor1_st_2489436012_w.fit\",\n",
    "#                \"../preprocess/test/before_ref/cor1_st_2489439885_p.fit\"]\n",
    "\n",
    "# 出力ディレクトリとファイル名のプレフィックスを指定\n",
    "home_dir = os.path.expanduser(\"~\")\n",
    "output_directory = os.path.join(home_dir, \"Documents/after_graduate2/output_directory_op/\")\n",
    "file_prefix = 'registered_image_'  # ファイル名のプレフィックスを指定\n",
    "\n",
    "hdulist = fits.open(image_files[2])  \n",
    "hdu = hdulist[0]\n",
    "data = hdu.data\n",
    "header = hdu.header\n",
    "\n",
    "name_prefix = []\n",
    "# for i,name in enumerate(image_files):\n",
    "#     parts = name.split(\".f\")\n",
    "#     part = parts[0].split(\"/test/\")\n",
    "#     par = part[1].split(\"_ref/\")\n",
    "#     p = f\"{par[1]}_reg_\"\n",
    "#     name_prefix.append(p)\n",
    "\n",
    "for i,name in enumerate(image_files):\n",
    "    parts = name.split(\".f\")\n",
    "    part = parts[0].split(\"/data/\")\n",
    "    par = part[1].split(\"/st\")\n",
    "    p = f\"{par[1]}_reg_\"\n",
    "    name_prefix.append(p)\n",
    "# name = image_files[0]\n",
    "# parts = name.split(\".f\")\n",
    "# part = parts[0].split(\"/data/\")\n",
    "# par = part[1].split(\"/st\")\n",
    "# p = f\"{par[0]}\"\n",
    "# name_prefix.append(p)\n",
    "\n",
    "# 最初の画像を基準画像として読み込み\n",
    "images = []\n",
    "#少数部分の保存\n",
    "float_images = []\n",
    "f = []\n",
    "images_uint16 = []\n",
    "t = []\n",
    "for i,filename in enumerate(image_files):\n",
    "    print(filename)\n",
    "    images_uint16.append(image_conv(filename))\n",
    "    f.append(fits.getdata(filename))\n",
    "    hdu = fits.open(filename)[0]\n",
    "    t.append(hdu.header[\"EXP_0\"])\n",
    "    # t.append(hdu.header[\"TEXP\"])\n",
    "    a,b = min_max(f[i], f[i].shape[1], f[i].shape[0])\n",
    "    if i == 2:\n",
    "      reference_image = np.uint8(b)\n",
    "    images.append(np.uint8(b))\n",
    "    float_images.append(a)\n",
    "  \n",
    "print(t)\n"
   ]
  },
  {
   "cell_type": "code",
   "execution_count": 26,
   "metadata": {},
   "outputs": [],
   "source": [
    "output_directory = os.path.join(home_dir, \"Documents/after_graduate2/output_perspective/\")\n",
    "registered_images = []\n",
    "registered_png = []\n",
    "\n",
    "\n",
    "# 基準画像から他の画像への変換行列を計算し、変換を適用\n",
    "for i,image_file in enumerate(images):\n",
    "    \n",
    "    # 画像の特徴点を検出\n",
    "    akaze = cv2.AKAZE_create()\n",
    "    keypoints1, descriptors1 = akaze.detectAndCompute(reference_image, None)\n",
    "    keypoints2, descriptors2 = akaze.detectAndCompute(image_file, None)\n",
    "    \n",
    "    # 特徴点マッチングと変換行列の計算\n",
    "    bf = cv2.BFMatcher()\n",
    "    matches = bf.knnMatch(descriptors2, descriptors1, k = 2)\n",
    "\n",
    "    good_matches = []\n",
    "    for m, n in matches:\n",
    "        if m.distance < 0.75 * n.distance:\n",
    "            good_matches.append([m])\n",
    "    \n",
    "    #適切なキーポイントを選択\n",
    "    src_pts = np.float32([keypoints2[m[0].queryIdx].pt for m in good_matches]).reshape(-1, 1, 2)\n",
    "    dst_pts = np.float32([keypoints1[m[0].trainIdx].pt for m in good_matches]).reshape(-1, 1, 2)\n",
    "    M, inliers = cv2.estimateAffine2D(src_pts, dst_pts)\n",
    "    \n",
    "    # 変換行列を適用して画像を基準画像の座標系に変換\n",
    "    registered_image = cv2.warpAffine(images_uint16[i], M, (image_file.shape[1], image_file.shape[0]), flags=cv2.INTER_NEAREST)\n",
    "    registered_png= cv2.warpAffine(image_file, M, (image_file.shape[1], image_file.shape[0]), flags=cv2.INTER_NEAREST)\n",
    "    registered_image[(registered_image <= 1000) | (registered_image >= 5000)] = 0\n",
    "    registered_images.append(registered_image)\n",
    "\n",
    "for i in range(len(registered_images)):\n",
    "    output_jpgname = f\"{output_directory}{name_prefix[i]}.png\"\n",
    "    output_filename = f\"{output_directory}{name_prefix[i]}.fits\"\n",
    "    cv2.imwrite(output_jpgname, registered_png)\n",
    "    hdu = fits.PrimaryHDU(registered_images[i])\n",
    "    hdu.header['TEXP']=t[i]\n",
    "    hdulist = fits.HDUList([hdu])\n",
    "    hdulist.writeto(output_filename, overwrite=True)\n",
    "\n"
   ]
  },
  {
   "cell_type": "code",
   "execution_count": 142,
   "metadata": {},
   "outputs": [
    {
     "data": {
      "text/plain": [
       "True"
      ]
     },
     "execution_count": 142,
     "metadata": {},
     "output_type": "execute_result"
    }
   ],
   "source": [
    "col_img = []\n",
    "col_img = cv2.merge((registered_images[0],registered_images[1],registered_images[2]))\n",
    "name = image_files[0]\n",
    "parts = name.split(\".f\")\n",
    "part = parts[0].split(\"/data/\")\n",
    "par = part[1].split(\"/st\")\n",
    "col_name = \"_color\"\n",
    "p = f\"{par[0]}{col_name}\"\n",
    "name_prefix.append(p)\n",
    "output_coljpgname = f\"{output_directory}{name_prefix[4]}_2.jpg\"\n",
    "cv2.imwrite(output_coljpgname, col_img)"
   ]
  },
  {
   "cell_type": "code",
   "execution_count": 159,
   "metadata": {},
   "outputs": [
    {
     "name": "stdout",
     "output_type": "stream",
     "text": [
      "回転角度（度数法）: 0.10421876184939545\n",
      "X方向の平行移動: -1.9579941654023187\n",
      "Y方向の平行移動: 1.778319978824197\n",
      "X方向の拡大倍率: 0.9942943214010063\n",
      "Y方向の拡大倍率: 1.0024314931226048\n",
      "回転中心のX座標: -1.9579974045335997\n",
      "回転中心のY座標: 977.6578016120237\n"
     ]
    }
   ],
   "source": [
    "affine_matrix = M\n",
    "\n",
    "# アフィン変換行列から回転の角度、平行移動、拡大倍率を取得\n",
    "angle = np.arctan2(affine_matrix[1, 0], affine_matrix[0, 0])\n",
    "translation_x = affine_matrix[0, 2]\n",
    "translation_y = affine_matrix[1, 2]\n",
    "scale_x = affine_matrix[0, 0]\n",
    "scale_y = affine_matrix[1, 1]\n",
    "\n",
    "# 角度を度数法に変換\n",
    "angle_degrees = np.degrees(angle)\n",
    "\n",
    "cx = translation_x / np.cos(angle)\n",
    "cy = translation_y / np.sin(angle)\n",
    "\n",
    "# 結果\n",
    "print(\"回転角度（度数法）:\", angle_degrees)\n",
    "print(\"X方向の平行移動:\", translation_x)\n",
    "print(\"Y方向の平行移動:\", translation_y)\n",
    "print(\"X方向の拡大倍率:\", scale_x)\n",
    "print(\"Y方向の拡大倍率:\", scale_y)\n",
    "print(\"回転中心のX座標:\", cx)\n",
    "print(\"回転中心のY座標:\", cy)"
   ]
  }
 ],
 "metadata": {
  "kernelspec": {
   "display_name": "Python 3",
   "language": "python",
   "name": "python3"
  },
  "language_info": {
   "codemirror_mode": {
    "name": "ipython",
    "version": 3
   },
   "file_extension": ".py",
   "mimetype": "text/x-python",
   "name": "python",
   "nbconvert_exporter": "python",
   "pygments_lexer": "ipython3",
   "version": "3.8.12"
  },
  "orig_nbformat": 4
 },
 "nbformat": 4,
 "nbformat_minor": 2
}
