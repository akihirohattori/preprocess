{
 "cells": [
  {
   "cell_type": "code",
   "execution_count": 1,
   "metadata": {},
   "outputs": [],
   "source": [
    "import numpy as np\n",
    "from astropy.io import fits\n",
    "import cv2\n",
    "import os\n",
    "import math"
   ]
  },
  {
   "cell_type": "code",
   "execution_count": 2,
   "metadata": {},
   "outputs": [],
   "source": [
    "def min_max(x, ax, ay):\n",
    "    min_x = x.min()\n",
    "    max_x = x.max()\n",
    "    a = np.zeros((ax, ay))\n",
    "    b = np.zeros((ax, ay))\n",
    "    z = np.zeros((ax, ay))\n",
    "    for i in range(ax):\n",
    "        for j in range(ay):\n",
    "            z[i][j] = (x[i][j] - min_x)/(max_x - min_x) * 255\n",
    "            a[i][j],b[i][j] = math.modf(z[i][j])\n",
    "\n",
    "    return a,b"
   ]
  },
  {
   "cell_type": "code",
   "execution_count": 6,
   "metadata": {},
   "outputs": [],
   "source": [
    "def image_conv(image):\n",
    "    i = fits.getdata(image)\n",
    "    cv2.imwrite(\"test.tif\",i.astype('uint16'))\n",
    "    c = cv2.imread(\"test.tif\",-1)\n",
    "\n",
    "    return c"
   ]
  },
  {
   "cell_type": "code",
   "execution_count": 7,
   "metadata": {},
   "outputs": [],
   "source": [
    "# FITS画像ファイルのリストを作成\n",
    "# image_files = [\"../../gra/HAY_A_AMICA_3_HAYAMICA_V1_0/data/20051025/st_2491939184_b.fit\",\n",
    "#                \"../../gra/HAY_A_AMICA_3_HAYAMICA_V1_0/data/20051025/st_2491942076_v.fit\",\n",
    "#                \"../../gra/HAY_A_AMICA_3_HAYAMICA_V1_0/data/20051025/st_2491945018_w.fit\",\n",
    "#                  \"../../gra/HAY_A_AMICA_3_HAYAMICA_V1_0/data/20051025/st_2491947926_p.fit\"]  # すべての画像ファイルを含むリスト\n",
    "\n",
    "# image_files = [\"../HAY_A_AMICA_3_HAYAMICA_V1_0/data/20051025/st_2489428266_b.fit\",\n",
    "#                \"../HAY_A_AMICA_3_HAYAMICA_V1_0/data/20051025/st_2489432123_v.fit\",\n",
    "#                \"../HAY_A_AMICA_3_HAYAMICA_V1_0/data/20051025/st_2489436012_w.fit\",\n",
    "#                  \"../HAY_A_AMICA_3_HAYAMICA_V1_0/data/20051025/st_2489439885_p.fit\"]\n",
    "\n",
    "image_files = [\"../HAY_A_AMICA_3_HAYAMICA_V1_0/data/20051025/st_2490234689_b.fit\",\n",
    "               \"../HAY_A_AMICA_3_HAYAMICA_V1_0/data/20051025/st_2490238562_v.fit\",\n",
    "               \"../HAY_A_AMICA_3_HAYAMICA_V1_0/data/20051025/st_2490242451_w.fit\",\n",
    "               \"../HAY_A_AMICA_3_HAYAMICA_V1_0/data/20051025/st_2490246307_p.fit\"]\n",
    "\n",
    "\n",
    "# 出力ディレクトリとファイル名のプレフィックスを指定\n",
    "home_dir = os.path.expanduser(\"~\")\n",
    "output_directory = os.path.join(home_dir, \"Documents/after_graduate2/output_directory_op/\")\n",
    "file_prefix = 'registered_image_'  # ファイル名のプレフィックスを指定\n",
    "\n",
    "hdulist = fits.open(image_files[2])  \n",
    "hdu = hdulist[0]\n",
    "data = hdu.data\n",
    "header = hdu.header\n",
    "x_axis = header[\"NAXIS1\"]\n",
    "y_axis = header[\"NAXIS2\"]\n",
    "\n",
    "name_prefix = []\n",
    "for i,name in enumerate(image_files):\n",
    "    parts = name.split(\".f\")\n",
    "    part = parts[0].split(\"/data/\")\n",
    "    par = part[1].split(\"/st\")\n",
    "    p = f\"{par[0]}{par[1]}_reg_\"\n",
    "    name_prefix.append(p)\n",
    "\n",
    "name = image_files[0]\n",
    "parts = name.split(\".f\")\n",
    "part = parts[0].split(\"/data/\")\n",
    "par = part[1].split(\"/st\")\n",
    "p = f\"{par[0]}\"\n",
    "name_prefix.append(p)\n",
    "\n",
    "# 最初の画像を基準画像として読み込み\n",
    "images = []\n",
    "#少数部分の保存\n",
    "float_images = []\n",
    "f = []\n",
    "images_uint16 = []\n",
    "for i,filename in enumerate(image_files):\n",
    "    images_uint16.append(image_conv(filename))\n",
    "    f.append(fits.getdata(filename))\n",
    "    a,b = min_max(f[i], x_axis, y_axis)\n",
    "    if i == 2:\n",
    "      reference_image = np.uint8(b)\n",
    "    images.append(np.uint8(b))\n",
    "    float_images.append(a)\n"
   ]
  },
  {
   "cell_type": "code",
   "execution_count": 85,
   "metadata": {},
   "outputs": [
    {
     "name": "stdout",
     "output_type": "stream",
     "text": [
      "96\n",
      "0\n",
      "[[2144 1898 1951 ... 3182 3228 3164]\n",
      " [2349 2083 2131 ... 3256 3196 3177]\n",
      " [2387 2140 2189 ... 3291 3221 3125]\n",
      " ...\n",
      " [3392 3088 2873 ... 2977 2855 2561]\n",
      " [3257 3267 3309 ... 2914 2736 2557]\n",
      " [3053 3243 3306 ... 2980 2956 2897]]\n",
      "[[2137. 1888. 1940. ... 3173. 3225. 3160.]\n",
      " [2347. 2072. 2124. ... 3251. 3186. 3173.]\n",
      " [2386. 2137. 2176. ... 3278. 3212. 3120.]\n",
      " ...\n",
      " [3383. 3081. 2871. ... 2976. 2845. 2557.]\n",
      " [3251. 3265. 3304. ... 2911. 2727. 2543.]\n",
      " [3042. 3238. 3304. ... 2976. 2950. 2884.]]\n"
     ]
    }
   ],
   "source": [
    "print(fits.getdata(image_files[0]).min())\n",
    "print(reference_image.min())\n",
    "print(data)\n",
    "print(min_max_decode(reference_image, data, x_axis, y_axis))\n"
   ]
  },
  {
   "cell_type": "code",
   "execution_count": 9,
   "metadata": {},
   "outputs": [],
   "source": [
    "output_directory = os.path.join(home_dir, \"Documents/after_graduate2/output_perspective/\")\n",
    "registered_images = []\n",
    "\n",
    "\n",
    "# 基準画像から他の画像への変換行列を計算し、変換を適用\n",
    "for i,image_file in enumerate(images):\n",
    "    \n",
    "    # 画像の特徴点を検出\n",
    "    akaze = cv2.AKAZE_create()\n",
    "    keypoints1, descriptors1 = akaze.detectAndCompute(reference_image, None)\n",
    "    keypoints2, descriptors2 = akaze.detectAndCompute(image_file, None)\n",
    "    \n",
    "    # 特徴点マッチングと変換行列の計算\n",
    "    bf = cv2.BFMatcher()\n",
    "    matches = bf.knnMatch(descriptors2, descriptors1, k = 2)\n",
    "\n",
    "    good_matches = []\n",
    "    for m, n in matches:\n",
    "        if m.distance < 0.75 * n.distance:\n",
    "            good_matches.append([m])\n",
    "    \n",
    "    #適切なキーポイントを選択\n",
    "    src_pts = np.float32([keypoints2[m[0].queryIdx].pt for m in good_matches]).reshape(-1, 1, 2)\n",
    "    dst_pts = np.float32([keypoints1[m[0].trainIdx].pt for m in good_matches]).reshape(-1, 1, 2)\n",
    "    H, status = cv2.findHomography(src_pts, dst_pts, cv2.RANSAC, 5.0)\n",
    "    \n",
    "    # 変換行列を適用して画像を基準画像の座標系に変換\n",
    "    registered_image = cv2.warpPerspective(images_uint16[i], H, (image_file.shape[1], image_file.shape[0]))\n",
    "    \n",
    "    registered_images.append(registered_image)\n",
    "\n",
    "for i in range(len(registered_images)):\n",
    "    output_jpgname = f\"{output_directory}{name_prefix[i]}.jpg\"\n",
    "    output_filename = f\"{output_directory}{name_prefix[i]}.fits\"\n",
    "    cv2.imwrite(output_jpgname, registered_images[i].astype('uint8'))\n",
    "    fits.writeto(output_filename, registered_images[i], overwrite=True)\n",
    "\n"
   ]
  },
  {
   "cell_type": "code",
   "execution_count": 5,
   "metadata": {},
   "outputs": [],
   "source": [
    "output_directory = os.path.join(home_dir, \"Documents/after_graduate2/output_perspective_test/\")\n",
    "registered_images = []\n",
    "\n",
    "\n",
    "# 基準画像から他の画像への変換行列を計算し、変換を適用\n",
    "for i,image_file in enumerate(images):\n",
    "    \n",
    "    # 画像の特徴点を検出\n",
    "    akaze = cv2.AKAZE_create()\n",
    "    keypoints1, descriptors1 = akaze.detectAndCompute(reference_image, None)\n",
    "    keypoints2, descriptors2 = akaze.detectAndCompute(image_file, None)\n",
    "    \n",
    "    # 特徴点マッチングと変換行列の計算\n",
    "    bf = cv2.BFMatcher()\n",
    "    matches = bf.knnMatch(descriptors2, descriptors1, k = 2)\n",
    "\n",
    "    good_matches = []\n",
    "    for m, n in matches:\n",
    "        if m.distance < 0.75 * n.distance:\n",
    "            good_matches.append([m])\n",
    "    \n",
    "    #適切なキーポイントを選択\n",
    "    src_pts = np.float32([keypoints2[m[0].queryIdx].pt for m in good_matches]).reshape(-1, 1, 2)\n",
    "    dst_pts = np.float32([keypoints1[m[0].trainIdx].pt for m in good_matches]).reshape(-1, 1, 2)\n",
    "    M, inliers = cv2.estimateAffine2D(src_pts, dst_pts)\n",
    "    \n",
    "    # 変換行列を適用して画像を基準画像の座標系に変換\n",
    "    registered_image = cv2.warpAffine(image_file, M, (image_file.shape[1], image_file.shape[0]))\n",
    "    \n",
    "    registered_images.append(registered_image)\n",
    "\n",
    "for i in range(len(registered_images)):\n",
    "    output_jpgname = f\"{output_directory}{name_prefix[i]}.jpg\"\n",
    "    output_filename = f\"{output_directory}{name_prefix[i]}.fits\"\n",
    "    cv2.imwrite(output_jpgname, registered_images[i])\n",
    "    #fits出力用に,正規化した時にでた少数部分を足し合わせて正規化の逆の計算をし元画像と値が近くなるようにする\n",
    "    reg_flo = []\n",
    "    reg_flo = min_max_decode(registered_images[i].astype(float) + float_images[i], f[i], x_axis, y_axis)\n",
    "    fits.writeto(output_filename, registered_images[i], overwrite=True)"
   ]
  },
  {
   "cell_type": "code",
   "execution_count": 155,
   "metadata": {},
   "outputs": [
    {
     "name": "stdout",
     "output_type": "stream",
     "text": [
      "[<KeyPoint 0x7ff2b6ced1e0>, <KeyPoint 0x7ff2b1478f30>, <KeyPoint 0x7ff2b6c48930>, <KeyPoint 0x7ff2b6c487e0>, <KeyPoint 0x7ff2b6c488d0>, <KeyPoint 0x7ff2b6c48f60>, <KeyPoint 0x7ff2b6c48cc0>, <KeyPoint 0x7ff2b6c486c0>, <KeyPoint 0x7ff2b6c48960>, <KeyPoint 0x7ff2b6c486f0>, <KeyPoint 0x7ff2b6c48660>, <KeyPoint 0x7ff2b6c48a80>, <KeyPoint 0x7ff2b6c48f00>, <KeyPoint 0x7ff2b6c9d9f0>, <KeyPoint 0x7ff2b6c9da80>, <KeyPoint 0x7ff2b6c9d960>, <KeyPoint 0x7ff2b6c9d5d0>, <KeyPoint 0x7ff2b6c9df90>, <KeyPoint 0x7ff2b6c9d510>, <KeyPoint 0x7ff2b6c9dd80>, <KeyPoint 0x7ff2b6c9dd50>, <KeyPoint 0x7ff2b6c9d060>, <KeyPoint 0x7ff2b6c9d810>, <KeyPoint 0x7ff2b6c9dd20>, <KeyPoint 0x7ff2b6c9dea0>, <KeyPoint 0x7ff2b6c9d4e0>, <KeyPoint 0x7ff2b6c9d660>, <KeyPoint 0x7ff2b6c9dfc0>, <KeyPoint 0x7ff2b6c9d120>, <KeyPoint 0x7ff2b6c9d090>, <KeyPoint 0x7ff2b72662d0>, <KeyPoint 0x7ff2b7266120>, <KeyPoint 0x7ff2b7266270>, <KeyPoint 0x7ff2b72661e0>, <KeyPoint 0x7ff2b7266210>, <KeyPoint 0x7ff2b7266300>, <KeyPoint 0x7ff2b72664b0>, <KeyPoint 0x7ff2b72661b0>, <KeyPoint 0x7ff2b7266540>, <KeyPoint 0x7ff2b7266e40>, <KeyPoint 0x7ff2b7266180>, <KeyPoint 0x7ff2b72665d0>, <KeyPoint 0x7ff2b7266600>, <KeyPoint 0x7ff2b7266390>, <KeyPoint 0x7ff2b72666c0>, <KeyPoint 0x7ff2b7266ba0>, <KeyPoint 0x7ff2b7266720>, <KeyPoint 0x7ff2b7266660>, <KeyPoint 0x7ff2b72668a0>, <KeyPoint 0x7ff2b7266510>, <KeyPoint 0x7ff2b7266bd0>, <KeyPoint 0x7ff2b7266c90>, <KeyPoint 0x7ff2b7266750>, <KeyPoint 0x7ff2b72664e0>, <KeyPoint 0x7ff2b72665a0>, <KeyPoint 0x7ff2b7266930>, <KeyPoint 0x7ff2b7266960>, <KeyPoint 0x7ff2b7266990>, <KeyPoint 0x7ff2b72662a0>, <KeyPoint 0x7ff2b7266a20>, <KeyPoint 0x7ff2b72667b0>, <KeyPoint 0x7ff2b7266a80>, <KeyPoint 0x7ff2b7266b10>, <KeyPoint 0x7ff2b7266c30>, <KeyPoint 0x7ff2b7266870>, <KeyPoint 0x7ff2b7266840>, <KeyPoint 0x7ff2b7266b40>, <KeyPoint 0x7ff2b7266ab0>, <KeyPoint 0x7ff2b7266ae0>, <KeyPoint 0x7ff2b72667e0>, <KeyPoint 0x7ff2b7266360>, <KeyPoint 0x7ff2b7266420>, <KeyPoint 0x7ff2b7266450>, <KeyPoint 0x7ff2b7266630>, <KeyPoint 0x7ff2b7266480>, <KeyPoint 0x7ff2b72663f0>, <KeyPoint 0x7ff2b72663c0>, <KeyPoint 0x7ff2b72669f0>, <KeyPoint 0x7ff2b7266f00>, <KeyPoint 0x7ff2b7266240>, <KeyPoint 0x7ff2b7266fc0>, <KeyPoint 0x7ff2b7266f90>, <KeyPoint 0x7ff2b7266810>, <KeyPoint 0x7ff2b7266570>, <KeyPoint 0x7ff2b7266900>, <KeyPoint 0x7ff2b7266c60>, <KeyPoint 0x7ff2b7266e70>, <KeyPoint 0x7ff2b7266060>, <KeyPoint 0x7ff2b7266780>, <KeyPoint 0x7ff2b7266f60>, <KeyPoint 0x7ff2b72668d0>, <KeyPoint 0x7ff2b7266d80>, <KeyPoint 0x7ff2b72669c0>, <KeyPoint 0x7ff2b7266150>, <KeyPoint 0x7ff2b7266b70>, <KeyPoint 0x7ff2b7266de0>, <KeyPoint 0x7ff2b7266c00>, <KeyPoint 0x7ff2b7266cf0>, <KeyPoint 0x7ff2b7266e10>, <KeyPoint 0x7ff2b7266db0>, <KeyPoint 0x7ff2b7266d20>, <KeyPoint 0x7ff2b7266cc0>, <KeyPoint 0x7ff2b7266a50>, <KeyPoint 0x7ff2b7266690>, <KeyPoint 0x7ff2b7266030>, <KeyPoint 0x7ff2b7266d50>, <KeyPoint 0x7ff2b7266330>]\n",
      "[[ 9.94294321e-01 -7.10153898e-04 -1.95799417e+00]\n",
      " [ 1.80858413e-03  1.00243149e+00  1.77831998e+00]]\n"
     ]
    }
   ],
   "source": [
    "print(keypoints1)\n",
    "print(M)"
   ]
  },
  {
   "cell_type": "code",
   "execution_count": 108,
   "metadata": {},
   "outputs": [
    {
     "name": "stdout",
     "output_type": "stream",
     "text": [
      "[[1095. 1873. 1816. ... 2705. 2708. 2338.]\n",
      " [1147. 2003. 1918. ... 2741. 2737. 2388.]\n",
      " [1167. 2049. 1963. ... 2759. 2706. 2356.]\n",
      " ...\n",
      " [ 669.  668.  669. ...  663.  670.  662.]\n",
      " [ 663.  665.  661. ...  662.  670.  660.]\n",
      " [ 663.  662.  667. ...  665.  663.  668.]]\n",
      "[[ 660  774 1022 ... 2618 2556 2556]\n",
      " [ 734  839 1124 ... 2459 2455 2508]\n",
      " [ 874 1081 1648 ... 2487 2315 2313]\n",
      " ...\n",
      " [2432 2562 2846 ... 2764 2814 2817]\n",
      " [2492 2548 2729 ... 2828 2814 2859]\n",
      " [2688 2806 2822 ... 2907 2894 2954]]\n"
     ]
    }
   ],
   "source": [
    "print(reg_flo)\n",
    "print(f[3])"
   ]
  },
  {
   "cell_type": "code",
   "execution_count": 142,
   "metadata": {},
   "outputs": [
    {
     "data": {
      "text/plain": [
       "True"
      ]
     },
     "execution_count": 142,
     "metadata": {},
     "output_type": "execute_result"
    }
   ],
   "source": [
    "col_img = []\n",
    "col_img = cv2.merge((registered_images[0],registered_images[1],registered_images[2]))\n",
    "name = image_files[0]\n",
    "parts = name.split(\".f\")\n",
    "part = parts[0].split(\"/data/\")\n",
    "par = part[1].split(\"/st\")\n",
    "col_name = \"_color\"\n",
    "p = f\"{par[0]}{col_name}\"\n",
    "name_prefix.append(p)\n",
    "output_coljpgname = f\"{output_directory}{name_prefix[4]}_2.jpg\"\n",
    "cv2.imwrite(output_coljpgname, col_img)"
   ]
  },
  {
   "cell_type": "code",
   "execution_count": 159,
   "metadata": {},
   "outputs": [
    {
     "name": "stdout",
     "output_type": "stream",
     "text": [
      "回転角度（度数法）: 0.10421876184939545\n",
      "X方向の平行移動: -1.9579941654023187\n",
      "Y方向の平行移動: 1.778319978824197\n",
      "X方向の拡大倍率: 0.9942943214010063\n",
      "Y方向の拡大倍率: 1.0024314931226048\n",
      "回転中心のX座標: -1.9579974045335997\n",
      "回転中心のY座標: 977.6578016120237\n"
     ]
    }
   ],
   "source": [
    "affine_matrix = M\n",
    "\n",
    "# アフィン変換行列から回転の角度、平行移動、拡大倍率を取得\n",
    "angle = np.arctan2(affine_matrix[1, 0], affine_matrix[0, 0])\n",
    "translation_x = affine_matrix[0, 2]\n",
    "translation_y = affine_matrix[1, 2]\n",
    "scale_x = affine_matrix[0, 0]\n",
    "scale_y = affine_matrix[1, 1]\n",
    "\n",
    "# 角度を度数法に変換\n",
    "angle_degrees = np.degrees(angle)\n",
    "\n",
    "cx = translation_x / np.cos(angle)\n",
    "cy = translation_y / np.sin(angle)\n",
    "\n",
    "# 結果\n",
    "print(\"回転角度（度数法）:\", angle_degrees)\n",
    "print(\"X方向の平行移動:\", translation_x)\n",
    "print(\"Y方向の平行移動:\", translation_y)\n",
    "print(\"X方向の拡大倍率:\", scale_x)\n",
    "print(\"Y方向の拡大倍率:\", scale_y)\n",
    "print(\"回転中心のX座標:\", cx)\n",
    "print(\"回転中心のY座標:\", cy)"
   ]
  }
 ],
 "metadata": {
  "kernelspec": {
   "display_name": "Python 3",
   "language": "python",
   "name": "python3"
  },
  "language_info": {
   "codemirror_mode": {
    "name": "ipython",
    "version": 3
   },
   "file_extension": ".py",
   "mimetype": "text/x-python",
   "name": "python",
   "nbconvert_exporter": "python",
   "pygments_lexer": "ipython3",
   "version": "3.8.15"
  },
  "orig_nbformat": 4
 },
 "nbformat": 4,
 "nbformat_minor": 2
}
