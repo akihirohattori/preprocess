{
 "cells": [
  {
   "cell_type": "code",
   "execution_count": 90,
   "metadata": {},
   "outputs": [],
   "source": [
    "import numpy as np\n",
    "from astropy.io import fits\n",
    "import cv2\n",
    "import os\n",
    "import math\n",
    "import glob\n",
    "import re \n",
    "import pandas as pd\n",
    "from pathlib import Path\n",
    "import matplotlib.pyplot as plt"
   ]
  },
  {
   "cell_type": "code",
   "execution_count": 15,
   "metadata": {},
   "outputs": [],
   "source": [
    "def atoi(text):\n",
    "    return int(text) if text.isdigit() else text\n",
    "\n",
    "def natural_keys(text):\n",
    "    return [ atoi(c) for c in re.split(r'(\\d+)', text) ]"
   ]
  },
  {
   "cell_type": "code",
   "execution_count": 16,
   "metadata": {},
   "outputs": [],
   "source": [
    "def min_max(x, ax, ay):\n",
    "    min_x = x.min()\n",
    "    max_x = x.max()\n",
    "    a = np.zeros((ay, ax))\n",
    "    b = np.zeros((ay, ax))\n",
    "    z = np.zeros((ay, ax))\n",
    "    for i in range(ay):\n",
    "        for j in range(ax):\n",
    "            z[i][j] = (x[i][j] - min_x)/(max_x - min_x) * 255\n",
    "            a[i][j],b[i][j] = math.modf(z[i][j])\n",
    "\n",
    "    return a,b"
   ]
  },
  {
   "cell_type": "code",
   "execution_count": 17,
   "metadata": {},
   "outputs": [],
   "source": [
    "def split_images(image_files, batch_size):\n",
    "    return [image_files[i:i + batch_size] for i in range(0, len(image_files), batch_size)]"
   ]
  },
  {
   "cell_type": "code",
   "execution_count": 18,
   "metadata": {},
   "outputs": [],
   "source": [
    "def name_decision(image_files):\n",
    "    name_prefix = []\n",
    "    dir = image_files[0].split(\"/scattered\")\n",
    "    di = dir[0].split(\"preprocess/\")\n",
    "    for i,name in enumerate(image_files):\n",
    "        parts = name.split(\".f\")\n",
    "        part = parts[0].split(\"correction/\")\n",
    "        p = f\"{part[1]}_reg_\"\n",
    "        print(p)\n",
    "        name_prefix.append(p)\n",
    "    return name_prefix, di[1]"
   ]
  },
  {
   "cell_type": "code",
   "execution_count": 86,
   "metadata": {},
   "outputs": [],
   "source": [
    "def aa(image, i):\n",
    "    global i_start, i_end, j_start, j_end\n",
    "    i_start = 1\n",
    "    j_start = 40\n",
    "    j_end = -10\n",
    "    g = fits.getdata(image)\n",
    "    s = g[i_start:, j_start:j_end]\n",
    "    cv2.imwrite(f\"test{i}.tif\",s.astype('uint16'))"
   ]
  },
  {
   "cell_type": "code",
   "execution_count": 87,
   "metadata": {},
   "outputs": [],
   "source": [
    "def image_conv(image):\n",
    "    global i_start, i_end, j_start, j_end\n",
    "    i_start = 1\n",
    "    j_start = 2\n",
    "    j_end = -1\n",
    "    g = fits.getdata(image)\n",
    "    # g[g < 0] = 0\n",
    "    s = g[i_start:-1, j_start:j_end]\n",
    "    cv2.imwrite(\"test.tif\",s.astype('uint16'))\n",
    "    c = cv2.imread(\"test.tif\",-1)\n",
    "\n",
    "    return c\n",
    "def make_base_images(image_files):\n",
    "    images = []\n",
    "    f = []\n",
    "    images_uint16 = []\n",
    "    t = []\n",
    "    for i,filename in enumerate(image_files):\n",
    "        images_uint16.append(image_conv(filename))\n",
    "        f.append(fits.getdata(filename)[i_start:, j_start:j_end])\n",
    "        hdu = fits.open(filename)[0]\n",
    "        t.append(hdu.header[\"EXP_0\"])\n",
    "        # t.append(hdu.header[\"TEXP\"])\n",
    "        a,b = min_max(f[i], f[i].shape[1], f[i].shape[0])\n",
    "        images.append(np.uint8(b))\n",
    "    return images_uint16, t, images"
   ]
  },
  {
   "cell_type": "code",
   "execution_count": 39,
   "metadata": {},
   "outputs": [],
   "source": [
    "def image_registration(image_files):\n",
    "    #名前の決定と保存ディレクトリの決定\n",
    "    name_prefix, target_directory = name_decision(image_files)\n",
    "    #tifファイルへの変換と積分時間の中主値，元画像の整数部分を持つ画像の作成\n",
    "    images_uint16 = []\n",
    "    t = []\n",
    "    images = []\n",
    "    images_uint16, t, images = make_base_images(image_files)\n",
    "\n",
    "    home_dir = os.path.expanduser(\"~\")\n",
    "    output_directory = os.path.join(home_dir, f\"Documents/after_graduate2/output_preprocess/{target_directory}/registration/\")\n",
    "    registered_images = []\n",
    "    registered_pngs = []\n",
    "    reference_image = images[1]\n",
    "    save_dir = f\"../output_preprocess/{target_directory}/registration\"\n",
    "    path = Path(save_dir)\n",
    "    path.mkdir(exist_ok=True)\n",
    "\n",
    "\n",
    "    # 基準画像から他の画像への変換行列を計算し、変換を適用\n",
    "    for i,image_file in enumerate(images):\n",
    "        print(i)\n",
    "        # 画像の特徴点を検出\n",
    "        akaze = cv2.AKAZE_create()\n",
    "        keypoints1, descriptors1 = akaze.detectAndCompute(reference_image, None)\n",
    "        keypoints2, descriptors2 = akaze.detectAndCompute(image_file, None)\n",
    "        \n",
    "        # 特徴点マッチングと変換行列の計算\n",
    "        bf = cv2.BFMatcher()\n",
    "        matches = bf.knnMatch(descriptors2, descriptors1, k = 2)\n",
    "\n",
    "        good_matches = []\n",
    "        for m, n in matches:\n",
    "            if m.distance < 0.75 * n.distance:\n",
    "                good_matches.append([m])\n",
    "        #適切なキーポイントを選択\n",
    "        src_pts = np.float32([keypoints2[m[0].queryIdx].pt for m in good_matches]).reshape(-1, 1, 2)\n",
    "        dst_pts = np.float32([keypoints1[m[0].trainIdx].pt for m in good_matches]).reshape(-1, 1, 2)\n",
    "        M, inliers = cv2.estimateAffine2D(src_pts, dst_pts)\n",
    "        \n",
    "        # 変換行列を適用して画像を基準画像の座標系に変換\n",
    "        # if i == 3:\n",
    "        #     print(src_pts, dst_pts)\n",
    "        # print(M.dtype)\n",
    "        registered_image = cv2.warpAffine(images_uint16[i], M, (reference_image.shape[1], reference_image.shape[0]), flags=cv2.INTER_NEAREST)\n",
    "        registered_png= cv2.warpAffine(image_file, M, (reference_image.shape[1], reference_image.shape[0]), flags=cv2.INTER_NEAREST)\n",
    "        registered_image[(registered_image <= 500) | (registered_image >= 4700)] = 0\n",
    "        registered_images.append(registered_image)\n",
    "        registered_pngs.append(registered_png)\n",
    "\n",
    "    for i in range(len(registered_images)):\n",
    "        output_jpgname = f\"{output_directory}{name_prefix[i]}.png\"\n",
    "        output_filename = f\"{output_directory}{name_prefix[i]}.fits\"\n",
    "        cv2.imwrite(output_jpgname, registered_pngs[i])\n",
    "        hdu = fits.PrimaryHDU(registered_images[i])\n",
    "        hdu.header['EXP_0']=t[i]\n",
    "        hdulist = fits.HDUList([hdu])\n",
    "        hdulist.writeto(output_filename, overwrite=True)\n",
    "\n"
   ]
  },
  {
   "cell_type": "code",
   "execution_count": 21,
   "metadata": {},
   "outputs": [],
   "source": [
    "def normalize(data):\n",
    "    min_val = np.min(data)\n",
    "    max_val = np.max(data)\n",
    "    new_min = 0\n",
    "    new_max = 255\n",
    "\n",
    "    normalized_data = ((data - min_val) / (max_val - min_val)) * (new_max - new_min) + new_min\n",
    "\n",
    "    return normalized_data"
   ]
  },
  {
   "cell_type": "code",
   "execution_count": 93,
   "metadata": {},
   "outputs": [],
   "source": [
    "def make_color_image(registered_images, num, tar_dir):\n",
    "    registered_image = []\n",
    "    for i in range(len(registered_images)):\n",
    "        registered_image.append(normalize(fits.getdata(registered_images[i])))\n",
    "    col_img = cv2.merge((registered_image[0],registered_image[1],registered_image[2]))\n",
    "    output_directory = f\"../output_preprocess/{tar_dir}/registration/\"\n",
    "    path = Path(output_directory)\n",
    "    path.mkdir(exist_ok=True)\n",
    "    output_colpngname = f\"{output_directory}{num}.jpg\"\n",
    "    cv2.imwrite(output_colpngname, col_img)"
   ]
  },
  {
   "cell_type": "code",
   "execution_count": 96,
   "metadata": {},
   "outputs": [
    {
     "name": "stdout",
     "output_type": "stream",
     "text": [
      "[[0 0 0 ... 0 0 0]\n",
      " [1 0 0 ... 0 0 0]\n",
      " [0 0 0 ... 0 0 0]\n",
      " ...\n",
      " [0 0 0 ... 0 0 1]\n",
      " [0 0 0 ... 0 0 2]\n",
      " [0 0 0 ... 0 0 1]]\n"
     ]
    }
   ],
   "source": [
    "image_lists = ['../output_preprocess/20051011/scattered_correction/cor2_st_2450510529_b.fit', \n",
    "               '../output_preprocess/20051011/scattered_correction/cor2_st_2450514369_v.fit',\n",
    "               '../output_preprocess/20051011/scattered_correction/cor2_st_2450518275_w.fit',\n",
    "               '../output_preprocess/20051011/scattered_correction/cor2_st_2450529877_p.fit']\n",
    "i = 3\n",
    "f = fits.getdata(image_lists[i])\n",
    "f[f< 0] = 0\n",
    "a,b = min_max(f, f.shape[1], f.shape[0])\n",
    "images = np.uint8(b)\n",
    "print(images)\n",
    "aa(image_lists[i],i)\n",
    "cv2.imwrite(f\"test{i}.png\", images)\n",
    "registered_image = image_conv(image_lists[i])\n",
    "hdu = fits.PrimaryHDU(registered_image)\n",
    "hdulist = fits.HDUList([hdu])\n",
    "hdulist.writeto(f\"test{i}.fit\", overwrite=True)\n"
   ]
  },
  {
   "cell_type": "code",
   "execution_count": 45,
   "metadata": {},
   "outputs": [
    {
     "name": "stdout",
     "output_type": "stream",
     "text": [
      "20051013\n",
      "cor1_st_2455782773_b_reg_\n",
      "cor1_st_2455786613_v_reg_\n",
      "cor1_st_2455790502_w_reg_\n",
      "cor1_st_2455794390_p_reg_\n",
      "0\n",
      "1\n",
      "2\n",
      "3\n",
      "cor1_st_2456105349_b_reg_\n",
      "cor1_st_2456109221_v_reg_\n",
      "cor1_st_2456113110_w_reg_\n",
      "cor1_st_2456116950_p_reg_\n",
      "0\n",
      "1\n",
      "2\n",
      "3\n",
      "cor1_st_2456804222_b_reg_\n",
      "cor1_st_2456808094_v_reg_\n",
      "cor1_st_2456811983_w_reg_\n",
      "cor1_st_2456815840_p_reg_\n",
      "0\n",
      "1\n",
      "2\n",
      "3\n",
      "cor1_st_2457157533_b_reg_\n",
      "cor1_st_2457161422_v_reg_\n",
      "cor1_st_2457165278_w_reg_\n",
      "cor1_st_2457169150_p_reg_\n",
      "0\n",
      "1\n",
      "2\n",
      "3\n",
      "cor1_st_2457506969_b_reg_\n",
      "cor1_st_2457510874_v_reg_\n",
      "cor1_st_2457514731_w_reg_\n",
      "cor1_st_2457518587_p_reg_\n",
      "0\n",
      "1\n",
      "2\n",
      "3\n",
      "cor2_st_2455759994_b_reg_\n",
      "cor2_st_2455763851_v_reg_\n",
      "cor2_st_2455767707_w_reg_\n",
      "cor2_st_2455771580_p_reg_\n",
      "0\n",
      "1\n",
      "2\n",
      "3\n",
      "cor2_st_2458520717_b_reg_\n",
      "cor2_st_2458521713_v_reg_\n",
      "cor2_st_2458522710_w_reg_\n",
      "cor2_st_2458523691_p_reg_\n"
     ]
    },
    {
     "ename": "error",
     "evalue": "OpenCV(4.6.0) /private/var/folders/k1/30mswbxs7r1g6zwn8y4fyt500000gp/T/abs_11nitadzeg/croot/opencv-suite_1691620374638/work/modules/imgcodecs/src/loadsave.cpp:801: error: (-215:Assertion failed) !_img.empty() in function 'imwrite'\n",
     "output_type": "error",
     "traceback": [
      "\u001b[0;31m---------------------------------------------------------------------------\u001b[0m",
      "\u001b[0;31merror\u001b[0m                                     Traceback (most recent call last)",
      "\u001b[1;32m/Users/m5261113/Documents/after_graduate2/preprocess/Feature_detection.ipynb セル 12\u001b[0m line \u001b[0;36m1\n\u001b[1;32m     <a href='vscode-notebook-cell:/Users/m5261113/Documents/after_graduate2/preprocess/Feature_detection.ipynb#X14sZmlsZQ%3D%3D?line=9'>10</a>\u001b[0m image_batches \u001b[39m=\u001b[39m split_images(image_files, batch_size)\n\u001b[1;32m     <a href='vscode-notebook-cell:/Users/m5261113/Documents/after_graduate2/preprocess/Feature_detection.ipynb#X14sZmlsZQ%3D%3D?line=10'>11</a>\u001b[0m \u001b[39mfor\u001b[39;00m i, images \u001b[39min\u001b[39;00m \u001b[39menumerate\u001b[39m(image_batches):\n\u001b[0;32m---> <a href='vscode-notebook-cell:/Users/m5261113/Documents/after_graduate2/preprocess/Feature_detection.ipynb#X14sZmlsZQ%3D%3D?line=11'>12</a>\u001b[0m     image_registration(images)\n",
      "\u001b[1;32m/Users/m5261113/Documents/after_graduate2/preprocess/Feature_detection.ipynb セル 12\u001b[0m line \u001b[0;36m8\n\u001b[1;32m      <a href='vscode-notebook-cell:/Users/m5261113/Documents/after_graduate2/preprocess/Feature_detection.ipynb#X14sZmlsZQ%3D%3D?line=5'>6</a>\u001b[0m t \u001b[39m=\u001b[39m []\n\u001b[1;32m      <a href='vscode-notebook-cell:/Users/m5261113/Documents/after_graduate2/preprocess/Feature_detection.ipynb#X14sZmlsZQ%3D%3D?line=6'>7</a>\u001b[0m images \u001b[39m=\u001b[39m []\n\u001b[0;32m----> <a href='vscode-notebook-cell:/Users/m5261113/Documents/after_graduate2/preprocess/Feature_detection.ipynb#X14sZmlsZQ%3D%3D?line=7'>8</a>\u001b[0m images_uint16, t, images \u001b[39m=\u001b[39m make_base_images(image_files)\n\u001b[1;32m     <a href='vscode-notebook-cell:/Users/m5261113/Documents/after_graduate2/preprocess/Feature_detection.ipynb#X14sZmlsZQ%3D%3D?line=9'>10</a>\u001b[0m home_dir \u001b[39m=\u001b[39m os\u001b[39m.\u001b[39mpath\u001b[39m.\u001b[39mexpanduser(\u001b[39m\"\u001b[39m\u001b[39m~\u001b[39m\u001b[39m\"\u001b[39m)\n\u001b[1;32m     <a href='vscode-notebook-cell:/Users/m5261113/Documents/after_graduate2/preprocess/Feature_detection.ipynb#X14sZmlsZQ%3D%3D?line=10'>11</a>\u001b[0m output_directory \u001b[39m=\u001b[39m os\u001b[39m.\u001b[39mpath\u001b[39m.\u001b[39mjoin(home_dir, \u001b[39mf\u001b[39m\u001b[39m\"\u001b[39m\u001b[39mDocuments/after_graduate2/output_preprocess/\u001b[39m\u001b[39m{\u001b[39;00mtarget_directory\u001b[39m}\u001b[39;00m\u001b[39m/registration/\u001b[39m\u001b[39m\"\u001b[39m)\n",
      "\u001b[1;32m/Users/m5261113/Documents/after_graduate2/preprocess/Feature_detection.ipynb セル 12\u001b[0m line \u001b[0;36m1\n\u001b[1;32m     <a href='vscode-notebook-cell:/Users/m5261113/Documents/after_graduate2/preprocess/Feature_detection.ipynb#X14sZmlsZQ%3D%3D?line=16'>17</a>\u001b[0m t \u001b[39m=\u001b[39m []\n\u001b[1;32m     <a href='vscode-notebook-cell:/Users/m5261113/Documents/after_graduate2/preprocess/Feature_detection.ipynb#X14sZmlsZQ%3D%3D?line=17'>18</a>\u001b[0m \u001b[39mfor\u001b[39;00m i,filename \u001b[39min\u001b[39;00m \u001b[39menumerate\u001b[39m(image_files):\n\u001b[0;32m---> <a href='vscode-notebook-cell:/Users/m5261113/Documents/after_graduate2/preprocess/Feature_detection.ipynb#X14sZmlsZQ%3D%3D?line=18'>19</a>\u001b[0m     images_uint16\u001b[39m.\u001b[39mappend(image_conv(filename))\n\u001b[1;32m     <a href='vscode-notebook-cell:/Users/m5261113/Documents/after_graduate2/preprocess/Feature_detection.ipynb#X14sZmlsZQ%3D%3D?line=19'>20</a>\u001b[0m     f\u001b[39m.\u001b[39mappend(fits\u001b[39m.\u001b[39mgetdata(filename)[i_start:, j_start:j_end])\n\u001b[1;32m     <a href='vscode-notebook-cell:/Users/m5261113/Documents/after_graduate2/preprocess/Feature_detection.ipynb#X14sZmlsZQ%3D%3D?line=20'>21</a>\u001b[0m     hdu \u001b[39m=\u001b[39m fits\u001b[39m.\u001b[39mopen(filename)[\u001b[39m0\u001b[39m]\n",
      "\u001b[1;32m/Users/m5261113/Documents/after_graduate2/preprocess/Feature_detection.ipynb セル 12\u001b[0m line \u001b[0;36m9\n\u001b[1;32m      <a href='vscode-notebook-cell:/Users/m5261113/Documents/after_graduate2/preprocess/Feature_detection.ipynb#X14sZmlsZQ%3D%3D?line=6'>7</a>\u001b[0m \u001b[39m# g[g < 0] = 0\u001b[39;00m\n\u001b[1;32m      <a href='vscode-notebook-cell:/Users/m5261113/Documents/after_graduate2/preprocess/Feature_detection.ipynb#X14sZmlsZQ%3D%3D?line=7'>8</a>\u001b[0m s \u001b[39m=\u001b[39m g[i_start:, j_start:j_end]\n\u001b[0;32m----> <a href='vscode-notebook-cell:/Users/m5261113/Documents/after_graduate2/preprocess/Feature_detection.ipynb#X14sZmlsZQ%3D%3D?line=8'>9</a>\u001b[0m cv2\u001b[39m.\u001b[39mimwrite(\u001b[39m\"\u001b[39m\u001b[39mtest.tif\u001b[39m\u001b[39m\"\u001b[39m,s\u001b[39m.\u001b[39mastype(\u001b[39m'\u001b[39m\u001b[39muint16\u001b[39m\u001b[39m'\u001b[39m))\n\u001b[1;32m     <a href='vscode-notebook-cell:/Users/m5261113/Documents/after_graduate2/preprocess/Feature_detection.ipynb#X14sZmlsZQ%3D%3D?line=9'>10</a>\u001b[0m c \u001b[39m=\u001b[39m cv2\u001b[39m.\u001b[39mimread(\u001b[39m\"\u001b[39m\u001b[39mtest.tif\u001b[39m\u001b[39m\"\u001b[39m,\u001b[39m-\u001b[39m\u001b[39m1\u001b[39m)\n\u001b[1;32m     <a href='vscode-notebook-cell:/Users/m5261113/Documents/after_graduate2/preprocess/Feature_detection.ipynb#X14sZmlsZQ%3D%3D?line=11'>12</a>\u001b[0m \u001b[39mreturn\u001b[39;00m c\n",
      "\u001b[0;31merror\u001b[0m: OpenCV(4.6.0) /private/var/folders/k1/30mswbxs7r1g6zwn8y4fyt500000gp/T/abs_11nitadzeg/croot/opencv-suite_1691620374638/work/modules/imgcodecs/src/loadsave.cpp:801: error: (-215:Assertion failed) !_img.empty() in function 'imwrite'\n"
     ]
    }
   ],
   "source": [
    "base_directory = f\"../output_preprocess/\"\n",
    "for directory in sorted(os.listdir(base_directory), key = natural_keys):\n",
    "    if(\"20051\" in directory):\n",
    "        print(directory)\n",
    "        image_dir = f\"../output_preprocess/{directory}/scattered_correction/\"\n",
    "        image_files = sorted(glob.glob(os.path.join(image_dir, \"*.fit\")), key = natural_keys)\n",
    "\n",
    "        batch_size = 4\n",
    "\n",
    "        image_batches = split_images(image_files, batch_size)\n",
    "        for i, images in enumerate(image_batches):\n",
    "            image_registration(images)"
   ]
  },
  {
   "cell_type": "code",
   "execution_count": 88,
   "metadata": {},
   "outputs": [
    {
     "name": "stdout",
     "output_type": "stream",
     "text": [
      "3\n",
      "cor1_st_2572086065_b_reg_\n",
      "cor1_st_2572727016_v_reg_\n",
      "cor1_st_2572732931_w_reg_\n",
      "cor1_st_2572739419_p_reg_\n",
      "0\n",
      "1\n",
      "2\n",
      "3\n"
     ]
    }
   ],
   "source": [
    "target_dir = \"20051119\"\n",
    "image_dir = f\"../output_preprocess/{target_dir}/scattered_correction/\"\n",
    "image_files = sorted(glob.glob(os.path.join(image_dir, \"*.fit\")))\n",
    "\n",
    "batch_size = 4\n",
    "global i_start, i_end, j_start, j_end\n",
    "i_start = 1\n",
    "j_start = 2\n",
    "j_end = -1\n",
    "image_batches = split_images(image_files, batch_size)\n",
    "print(len(image_batches))\n",
    "for i, file in enumerate(image_batches[2]):\n",
    "    a = fits.getdata(file)\n",
    "    fits.writeto(f\"{i}.fits\", a[i_start:-1, j_start:j_end], overwrite = True)\n",
    "    if i == 3:\n",
    "        image_registration(image_batches[2])"
   ]
  },
  {
   "cell_type": "code",
   "execution_count": 34,
   "metadata": {},
   "outputs": [
    {
     "name": "stdout",
     "output_type": "stream",
     "text": [
      "7\n",
      "cor2_st_2444959649_b_reg_\n",
      "cor2_st_2444963521_v_reg_\n",
      "cor2_st_2444967362_w_reg_\n",
      "cor2_st_2444971267_p_reg_\n",
      "cor2_st_2444978849_b_reg_\n",
      "cor2_st_2444982722_v_reg_\n",
      "cor2_st_2444986562_w_reg_\n",
      "cor2_st_2444990467_p_reg_\n"
     ]
    },
    {
     "ename": "error",
     "evalue": "OpenCV(4.6.0) /private/var/folders/k1/30mswbxs7r1g6zwn8y4fyt500000gp/T/abs_11nitadzeg/croot/opencv-suite_1691620374638/work/modules/imgproc/src/imgwarp.cpp:2604: error: (-215:Assertion failed) (M0.type() == CV_32F || M0.type() == CV_64F) && M0.rows == 2 && M0.cols == 3 in function 'warpAffine'\n",
     "output_type": "error",
     "traceback": [
      "\u001b[0;31m---------------------------------------------------------------------------\u001b[0m",
      "\u001b[0;31merror\u001b[0m                                     Traceback (most recent call last)",
      "\u001b[1;32m/Users/m5261113/Documents/after_graduate2/preprocess/Feature_detection.ipynb セル 13\u001b[0m line \u001b[0;36m1\n\u001b[1;32m      <a href='vscode-notebook-cell:/Users/m5261113/Documents/after_graduate2/preprocess/Feature_detection.ipynb#X14sZmlsZQ%3D%3D?line=8'>9</a>\u001b[0m \u001b[39mprint\u001b[39m(\u001b[39mlen\u001b[39m(image_batches))\n\u001b[1;32m     <a href='vscode-notebook-cell:/Users/m5261113/Documents/after_graduate2/preprocess/Feature_detection.ipynb#X14sZmlsZQ%3D%3D?line=9'>10</a>\u001b[0m \u001b[39mfor\u001b[39;00m i \u001b[39min\u001b[39;00m \u001b[39mrange\u001b[39m(\u001b[39mlen\u001b[39m(image_batches)):\n\u001b[0;32m---> <a href='vscode-notebook-cell:/Users/m5261113/Documents/after_graduate2/preprocess/Feature_detection.ipynb#X14sZmlsZQ%3D%3D?line=10'>11</a>\u001b[0m     image_registration(image_batches[i])\n",
      "\u001b[1;32m/Users/m5261113/Documents/after_graduate2/preprocess/Feature_detection.ipynb セル 13\u001b[0m line \u001b[0;36m4\n\u001b[1;32m     <a href='vscode-notebook-cell:/Users/m5261113/Documents/after_graduate2/preprocess/Feature_detection.ipynb#X14sZmlsZQ%3D%3D?line=39'>40</a>\u001b[0m M, inliers \u001b[39m=\u001b[39m cv2\u001b[39m.\u001b[39mestimateAffine2D(src_pts, dst_pts)\n\u001b[1;32m     <a href='vscode-notebook-cell:/Users/m5261113/Documents/after_graduate2/preprocess/Feature_detection.ipynb#X14sZmlsZQ%3D%3D?line=41'>42</a>\u001b[0m \u001b[39m# 変換行列を適用して画像を基準画像の座標系に変換\u001b[39;00m\n\u001b[0;32m---> <a href='vscode-notebook-cell:/Users/m5261113/Documents/after_graduate2/preprocess/Feature_detection.ipynb#X14sZmlsZQ%3D%3D?line=42'>43</a>\u001b[0m registered_image \u001b[39m=\u001b[39m cv2\u001b[39m.\u001b[39mwarpAffine(images_uint16[i], M, (reference_image\u001b[39m.\u001b[39mshape[\u001b[39m1\u001b[39m], reference_image\u001b[39m.\u001b[39mshape[\u001b[39m0\u001b[39m]), flags\u001b[39m=\u001b[39mcv2\u001b[39m.\u001b[39mINTER_NEAREST)\n\u001b[1;32m     <a href='vscode-notebook-cell:/Users/m5261113/Documents/after_graduate2/preprocess/Feature_detection.ipynb#X14sZmlsZQ%3D%3D?line=43'>44</a>\u001b[0m registered_png\u001b[39m=\u001b[39m cv2\u001b[39m.\u001b[39mwarpAffine(image_file, M, (reference_image\u001b[39m.\u001b[39mshape[\u001b[39m1\u001b[39m], reference_image\u001b[39m.\u001b[39mshape[\u001b[39m0\u001b[39m]), flags\u001b[39m=\u001b[39mcv2\u001b[39m.\u001b[39mINTER_NEAREST)\n\u001b[1;32m     <a href='vscode-notebook-cell:/Users/m5261113/Documents/after_graduate2/preprocess/Feature_detection.ipynb#X14sZmlsZQ%3D%3D?line=44'>45</a>\u001b[0m registered_image[(registered_image \u001b[39m<\u001b[39m\u001b[39m=\u001b[39m \u001b[39m1000\u001b[39m) \u001b[39m|\u001b[39m (registered_image \u001b[39m>\u001b[39m\u001b[39m=\u001b[39m \u001b[39m4700\u001b[39m)] \u001b[39m=\u001b[39m \u001b[39m0\u001b[39m\n",
      "\u001b[0;31merror\u001b[0m: OpenCV(4.6.0) /private/var/folders/k1/30mswbxs7r1g6zwn8y4fyt500000gp/T/abs_11nitadzeg/croot/opencv-suite_1691620374638/work/modules/imgproc/src/imgwarp.cpp:2604: error: (-215:Assertion failed) (M0.type() == CV_32F || M0.type() == CV_64F) && M0.rows == 2 && M0.cols == 3 in function 'warpAffine'\n"
     ]
    }
   ],
   "source": [
    "target_dir = \"20051013\"\n",
    "image_dir = f\"../output_preprocess/{target_dir}/scattered_correction/\"\n",
    "image_files = sorted(glob.glob(os.path.join(image_dir, \"*.fit\")))\n",
    "\n",
    "batch_size = 4\n",
    "\n",
    "image_batches = split_images(image_files, batch_size)\n",
    "\n",
    "print(len(image_batches))\n",
    "for i in range(len(image_batches)):\n",
    "    image_registration(image_batches[i])\n",
    "\n",
    "# image_registration(image_batches[7])"
   ]
  },
  {
   "cell_type": "code",
   "execution_count": 30,
   "metadata": {},
   "outputs": [
    {
     "name": "stdout",
     "output_type": "stream",
     "text": [
      "['../output_preprocess/20051024/scattered_correction/cor2_st_2486640220_b.fit', '../output_preprocess/20051024/scattered_correction/cor2_st_2486649845_v.fit', '../output_preprocess/20051024/scattered_correction/cor2_st_2486659453_w.fit', '../output_preprocess/20051024/scattered_correction/cor2_st_2486669110_p.fit']\n",
      "(512, 512)\n"
     ]
    },
    {
     "data": {
      "text/plain": [
       "True"
      ]
     },
     "execution_count": 30,
     "metadata": {},
     "output_type": "execute_result"
    },
    {
     "data": {
      "image/png": "[encoded data removed]",
      "text/plain": [
       "<Figure size 432x288 with 1 Axes>"
      ]
     },
     "metadata": {
      "needs_background": "light"
     },
     "output_type": "display_data"
    }
   ],
   "source": [
    "target_dir = \"20051024\"\n",
    "image_dir = f\"../output_preprocess/{target_dir}/scattered_correction/\"\n",
    "image_files = sorted(glob.glob(os.path.join(image_dir, \"*.fit\")))\n",
    "\n",
    "batch_size = 4\n",
    "\n",
    "image_batches = split_images(image_files, batch_size)\n",
    "\n",
    "print(image_batches[0])\n",
    "image = fits.getdata(image_batches[1][0])\n",
    "print(image.shape)\n",
    "plt.imshow(image, cmap = \"gray\")\n",
    "plt.axis('off')\n",
    "cv2.imwrite(\"jjjj.png\", normalize(image))"
   ]
  },
  {
   "cell_type": "code",
   "execution_count": 94,
   "metadata": {},
   "outputs": [
    {
     "name": "stdout",
     "output_type": "stream",
     "text": [
      "20050917\n",
      "20050921\n",
      "20050919\n",
      ".DS_Store\n",
      "20050918\n",
      "20050929\n",
      "20051016\n",
      "20051019\n",
      "20051119\n",
      "20050925\n",
      "20050923\n",
      "20050924\n",
      "20051024\n",
      "20051025\n",
      "20051014\n",
      "20051013\n",
      "20051103\n",
      "20051104\n"
     ]
    }
   ],
   "source": [
    "base_directory = f\"../output_preprocess/\"\n",
    "for directory in os.listdir(base_directory):\n",
    "    print(directory)\n",
    "    image_dir = f\"../output_preprocess/{directory}/registration/\"\n",
    "    image_files = sorted(glob.glob(os.path.join(image_dir, \"*.fits\")))\n",
    "\n",
    "    batch_size = 4\n",
    "\n",
    "    image_batches = split_images(image_files, batch_size)\n",
    "    for i, images in enumerate(image_batches):\n",
    "        make_color_image(image_batches[i], i, directory)"
   ]
  },
  {
   "cell_type": "code",
   "execution_count": 6,
   "metadata": {},
   "outputs": [
    {
     "name": "stdout",
     "output_type": "stream",
     "text": [
      "../HAY_A_AMICA_3_HAYAMICA_V1_0/data/20051025/st_2490234689_b.fit\n",
      "(256, 256)\n",
      "../HAY_A_AMICA_3_HAYAMICA_V1_0/data/20051025/st_2490238562_v.fit\n",
      "(256, 256)\n",
      "../HAY_A_AMICA_3_HAYAMICA_V1_0/data/20051025/st_2490242451_w.fit\n",
      "(256, 256)\n",
      "../HAY_A_AMICA_3_HAYAMICA_V1_0/data/20051025/st_2490246307_p.fit\n",
      "(256, 256)\n",
      "[0.131, 0.087, 0.0655, 0.174]\n"
     ]
    }
   ],
   "source": [
    "# FITS画像ファイルのリストを作成\n",
    "# image_files = [\"../../gra/HAY_A_AMICA_3_HAYAMICA_V1_0/data/20051025/st_2491939184_b.fit\",\n",
    "#                \"../../gra/HAY_A_AMICA_3_HAYAMICA_V1_0/data/20051025/st_2491942076_v.fit\",\n",
    "#                \"../../gra/HAY_A_AMICA_3_HAYAMICA_V1_0/data/20051025/st_2491945018_w.fit\",\n",
    "#                  \"../../gra/HAY_A_AMICA_3_HAYAMICA_V1_0/data/20051025/st_2491947926_p.fit\"]  # すべての画像ファイルを含むリスト\n",
    "\n",
    "# image_files = [\"../HAY_A_AMICA_3_HAYAMICA_V1_0/data/20051025/st_2489428266_b.fit\",\n",
    "#                \"../HAY_A_AMICA_3_HAYAMICA_V1_0/data/20051025/st_2489432123_v.fit\",\n",
    "#                \"../HAY_A_AMICA_3_HAYAMICA_V1_0/data/20051025/st_2489436012_w.fit\",\n",
    "#                  \"../HAY_A_AMICA_3_HAYAMICA_V1_0/data/20051025/st_2489439885_p.fit\"]        #test\n",
    "\n",
    "\n",
    "# image_files = [\"../HAY_A_AMICA_3_HAYAMICA_V1_0/data/20051011/st_2450856292_b.fit\",\n",
    "#                \"../HAY_A_AMICA_3_HAYAMICA_V1_0/data/20051011/st_2450860165_v.fit\",\n",
    "#                \"../HAY_A_AMICA_3_HAYAMICA_V1_0/data/20051011/st_2450864005_w.fit\",\n",
    "#                  \"../HAY_A_AMICA_3_HAYAMICA_V1_0/data/20051011/st_2450867894_p.fit\"]  #ishiguro2010\n",
    "\n",
    "# image_files = [\"../HAY_A_AMICA_3_HAYAMICA_V1_0/data/20051011/st_2450510529_b.fit\",\n",
    "#                \"../HAY_A_AMICA_3_HAYAMICA_V1_0/data/20051011/st_2450514369_v.fit\",\n",
    "#                \"../HAY_A_AMICA_3_HAYAMICA_V1_0/data/20051011/st_2450518275_w.fit\",\n",
    "#                  \"../HAY_A_AMICA_3_HAYAMICA_V1_0/data/20051011/st_2450529877_p.fit\"]  #ishiguro2010\n",
    "\n",
    "# image_files = [\"../HAY_A_AMICA_3_HAYAMICA_V1_0/data/20051011/st_2451086681_b.fit\",\n",
    "#                \"../HAY_A_AMICA_3_HAYAMICA_V1_0/data/20051011/st_2451090553_v.fit\",\n",
    "#                \"../HAY_A_AMICA_3_HAYAMICA_V1_0/data/20051011/st_2451094410_w.fit\",\n",
    "#                  \"../HAY_A_AMICA_3_HAYAMICA_V1_0/data/20051011/st_2451098282_p.fit\"]  #ishiguro2010\n",
    "\n",
    "# image_files = [\"../HAY_A_AMICA_3_HAYAMICA_V1_0/data/20051011/st_2451547456_b.fit\",\n",
    "#                \"../HAY_A_AMICA_3_HAYAMICA_V1_0/data/20051011/st_2451551346_v.fit\",\n",
    "#                \"../HAY_A_AMICA_3_HAYAMICA_V1_0/data/20051011/st_2451555202_w.fit\",\n",
    "#                  \"../HAY_A_AMICA_3_HAYAMICA_V1_0/data/20051011/st_2451559075_p.fit\"]  #ishiguro2010\n",
    " \n",
    "image_files = [\"../HAY_A_AMICA_3_HAYAMICA_V1_0/data/20051025/st_2490234689_b.fit\",\n",
    "               \"../HAY_A_AMICA_3_HAYAMICA_V1_0/data/20051025/st_2490238562_v.fit\",\n",
    "               \"../HAY_A_AMICA_3_HAYAMICA_V1_0/data/20051025/st_2490242451_w.fit\",\n",
    "               \"../HAY_A_AMICA_3_HAYAMICA_V1_0/data/20051025/st_2490246307_p.fit\"]\n",
    "\n",
    "# image_files = [\"../preprocess/test/before_ref/bef_scacor1_st_2489428266_b.fit\",\n",
    "#                \"../preprocess/test/before_ref/bef_scacor1_st_2489432123_v.fit\",\n",
    "#                \"../preprocess/test/before_ref/bef_scacor1_st_2489436012_w.fit\",\n",
    "#                \"../preprocess/test/before_ref/bef_scacor1_st_2489439885_p.fit\"]\n",
    "\n",
    "# image_files = [\"../preprocess/test/before_ref/cor1_st_2489428266_b.fit\",\n",
    "#                \"../preprocess//test/before_ref/cor1_st_2489432123_v.fit\",\n",
    "#                \"../preprocess/test/before_ref/cor1_st_2489436012_w.fit\",\n",
    "#                \"../preprocess/test/before_ref/cor1_st_2489439885_p.fit\"]\n",
    "\n",
    "# image_files = [\"../preprocess/test/before_ref/bef_scacor1_st_2385559680_b.fit\",\n",
    "#                \"../preprocess//test/before_ref/bef_scacor1_st_2385578902_v.fit\",\n",
    "#                \"../preprocess/test/before_ref/bef_scacor1_st_2385598109_w.fit\",\n",
    "#                \"../preprocess/test/before_ref/bef_scacor1_st_2385655809_p.fit\"]     #ishiguro2014\n",
    "\n",
    "# image_files = [\"../preprocess/test/before_ref/bef_scacor1_st_2450856292_b.fit\",\n",
    "#                \"../preprocess/test/before_ref/bef_scacor1_st_2450860165_v.fit\",\n",
    "#                \"../preprocess/test/before_ref/bef_scacor1_st_2450864005_w.fit\",\n",
    "#                  \"../preprocess/test/before_ref/bef_scacor1_st_2450867894_p.fit\"]  #ishiguro2010\n",
    "\n",
    "# image_files = [\"../preprocess/test/before_ref/bef_scacor1_st_2450510529_b.fit\",\n",
    "#                \"../preprocess/test/before_ref/bef_scacor1_st_2450514369_v.fit\",\n",
    "#                \"../preprocess/test/before_ref/bef_scacor1_st_2450518275_w.fit\",\n",
    "#                  \"../preprocess/test/before_ref/bef_scacor1_st_2450529877_p.fit\"]  #ishiguro2010\n",
    "\n",
    "# image_files = [\"../preprocess/test/before_ref/bef_scacor1_st_2451086681_b.fit\",\n",
    "#                \"../preprocess/test/before_ref/bef_scacor1_st_2451090553_v.fit\",\n",
    "#                \"../preprocess/test/before_ref/bef_scacor1_st_2451094410_w.fit\",\n",
    "#                  \"../preprocess/test/before_ref/bef_scacor1_st_2451098282_p.fit\"]  #ishiguro2010\n",
    "\n",
    "# image_files = [\"../preprocess/test/before_ref/bef_scacor1_st_2451547456_b.fit\",\n",
    "#                \"../preprocess/test/before_ref/bef_scacor1_st_2451551346_v.fit\",\n",
    "#                \"../preprocess/test/before_ref/bef_scacor1_st_2451555202_w.fit\",\n",
    "#                  \"../preprocess/test/before_ref/bef_scacor1_st_2451559075_p.fit\"]\n",
    "\n",
    "# 出力ディレクトリとファイル名のプレフィックスを指定\n",
    "home_dir = os.path.expanduser(\"~\")\n",
    "output_directory = os.path.join(home_dir, \"Documents/after_graduate2/output_directory_op/\")\n",
    "file_prefix = 'registered_image_'  # ファイル名のプレフィックスを指定\n",
    "\n",
    "hdulist = fits.open(image_files[2])  \n",
    "hdu = hdulist[0]\n",
    "data = hdu.data\n",
    "header = hdu.header\n",
    "\n",
    "name_prefix = []\n",
    "# for i,name in enumerate(image_files):\n",
    "#     parts = name.split(\".f\")\n",
    "#     part = parts[0].split(\"/test/\")\n",
    "#     par = part[1].split(\"_ref/\")\n",
    "#     p = f\"{par[1]}_reg_\"\n",
    "#     name_prefix.append(p)\n",
    "\n",
    "for i,name in enumerate(image_files):\n",
    "    parts = name.split(\".f\")\n",
    "    part = parts[0].split(\"/data/\")\n",
    "    par = part[1].split(\"/st\")\n",
    "    p = f\"{par[1]}_reg_\"\n",
    "    name_prefix.append(p)\n",
    "# name = image_files[0]\n",
    "# parts = name.split(\".f\")\n",
    "# part = parts[0].split(\"/data/\")\n",
    "# par = part[1].split(\"/st\")\n",
    "# p = f\"{par[0]}\"\n",
    "# name_prefix.append(p)\n",
    "\n",
    "# 最初の画像を基準画像として読み込み\n",
    "images = []\n",
    "#少数部分の保存\n",
    "float_images = []\n",
    "f = []\n",
    "images_uint16 = []\n",
    "t = []\n",
    "for i,filename in enumerate(image_files):\n",
    "    print(filename)\n",
    "    images_uint16.append(image_conv(filename))\n",
    "    f.append(fits.getdata(filename))\n",
    "    print(f[i].shape)\n",
    "    hdu = fits.open(filename)[0]\n",
    "    t.append(hdu.header[\"EXP_0\"])\n",
    "    # t.append(hdu.header[\"TEXP\"])\n",
    "    a,b = min_max(f[i], f[i].shape[1], f[i].shape[0])\n",
    "    if i == 2:\n",
    "      reference_image = np.uint8(b)\n",
    "    images.append(np.uint8(b))\n",
    "    float_images.append(a)\n",
    "  \n",
    "print(t)\n"
   ]
  },
  {
   "cell_type": "code",
   "execution_count": 128,
   "metadata": {},
   "outputs": [
    {
     "ename": "error",
     "evalue": "OpenCV(4.5.3) :-1: error: (-5:Bad argument) in function 'detectAndCompute'\n> Overload resolution failed:\n>  - image is not a numpy array, neither a scalar\n>  - Expected Ptr<cv::UMat> for argument 'image'\n",
     "output_type": "error",
     "traceback": [
      "\u001b[0;31m---------------------------------------------------------------------------\u001b[0m",
      "\u001b[0;31merror\u001b[0m                                     Traceback (most recent call last)",
      "\u001b[0;32m<ipython-input-128-7720ae7fcbe2>\u001b[0m in \u001b[0;36m<module>\u001b[0;34m\u001b[0m\n\u001b[1;32m     10\u001b[0m     \u001b[0makaze\u001b[0m \u001b[0;34m=\u001b[0m \u001b[0mcv2\u001b[0m\u001b[0;34m.\u001b[0m\u001b[0mAKAZE_create\u001b[0m\u001b[0;34m(\u001b[0m\u001b[0;34m)\u001b[0m\u001b[0;34m\u001b[0m\u001b[0;34m\u001b[0m\u001b[0m\n\u001b[1;32m     11\u001b[0m     \u001b[0mkeypoints1\u001b[0m\u001b[0;34m,\u001b[0m \u001b[0mdescriptors1\u001b[0m \u001b[0;34m=\u001b[0m \u001b[0makaze\u001b[0m\u001b[0;34m.\u001b[0m\u001b[0mdetectAndCompute\u001b[0m\u001b[0;34m(\u001b[0m\u001b[0mreference_image\u001b[0m\u001b[0;34m,\u001b[0m \u001b[0;32mNone\u001b[0m\u001b[0;34m)\u001b[0m\u001b[0;34m\u001b[0m\u001b[0;34m\u001b[0m\u001b[0m\n\u001b[0;32m---> 12\u001b[0;31m     \u001b[0mkeypoints2\u001b[0m\u001b[0;34m,\u001b[0m \u001b[0mdescriptors2\u001b[0m \u001b[0;34m=\u001b[0m \u001b[0makaze\u001b[0m\u001b[0;34m.\u001b[0m\u001b[0mdetectAndCompute\u001b[0m\u001b[0;34m(\u001b[0m\u001b[0mimage_file\u001b[0m\u001b[0;34m,\u001b[0m \u001b[0;32mNone\u001b[0m\u001b[0;34m)\u001b[0m\u001b[0;34m\u001b[0m\u001b[0;34m\u001b[0m\u001b[0m\n\u001b[0m\u001b[1;32m     13\u001b[0m \u001b[0;34m\u001b[0m\u001b[0m\n\u001b[1;32m     14\u001b[0m     \u001b[0;31m# 特徴点マッチングと変換行列の計算\u001b[0m\u001b[0;34m\u001b[0m\u001b[0;34m\u001b[0m\u001b[0;34m\u001b[0m\u001b[0m\n",
      "\u001b[0;31merror\u001b[0m: OpenCV(4.5.3) :-1: error: (-5:Bad argument) in function 'detectAndCompute'\n> Overload resolution failed:\n>  - image is not a numpy array, neither a scalar\n>  - Expected Ptr<cv::UMat> for argument 'image'\n"
     ]
    }
   ],
   "source": [
    "output_directory = os.path.join(home_dir, \"Documents/after_graduate2/output_perspective/\")\n",
    "registered_images = []\n",
    "registered_png = []\n",
    "\n",
    "\n",
    "# 基準画像から他の画像への変換行列を計算し、変換を適用\n",
    "for i,image_file in enumerate(images):\n",
    "    \n",
    "    # 画像の特徴点を検出\n",
    "    akaze = cv2.AKAZE_create()\n",
    "    keypoints1, descriptors1 = akaze.detectAndCompute(reference_image, None)\n",
    "    keypoints2, descriptors2 = akaze.detectAndCompute(image_file, None)\n",
    "    \n",
    "    # 特徴点マッチングと変換行列の計算\n",
    "    bf = cv2.BFMatcher()\n",
    "    matches = bf.knnMatch(descriptors2, descriptors1, k = 2)\n",
    "\n",
    "    good_matches = []\n",
    "    for m, n in matches:\n",
    "        if m.distance < 0.75 * n.distance:\n",
    "            good_matches.append([m])\n",
    "    \n",
    "    #適切なキーポイントを選択\n",
    "    src_pts = np.float32([keypoints2[m[0].queryIdx].pt for m in good_matches]).reshape(-1, 1, 2)\n",
    "    dst_pts = np.float32([keypoints1[m[0].trainIdx].pt for m in good_matches]).reshape(-1, 1, 2)\n",
    "    M, inliers = cv2.estimateAffine2D(src_pts, dst_pts)\n",
    "    \n",
    "    # 変換行列を適用して画像を基準画像の座標系に変換\n",
    "    registered_image = cv2.warpAffine(images_uint16[i], M, (image_file.shape[1], image_file.shape[0]), flags=cv2.INTER_NEAREST)\n",
    "    registered_png= cv2.warpAffine(image_file, M, (image_file.shape[1], image_file.shape[0]), flags=cv2.INTER_NEAREST)\n",
    "    registered_image[(registered_image <= 1000) | (registered_image >= 4700)] = 0\n",
    "    registered_images.append(registered_image)\n",
    "\n",
    "for i in range(len(registered_images)):\n",
    "    output_jpgname = f\"{output_directory}{name_prefix[i]}.png\"\n",
    "    output_filename = f\"{output_directory}{name_prefix[i]}.fits\"\n",
    "    cv2.imwrite(output_jpgname, registered_png)\n",
    "    hdu = fits.PrimaryHDU(registered_images[i])\n",
    "    hdu.header['EXP_0']=t[i]\n",
    "    hdulist = fits.HDUList([hdu])\n",
    "    hdulist.writeto(output_filename, overwrite=True)\n",
    "\n"
   ]
  },
  {
   "cell_type": "code",
   "execution_count": 142,
   "metadata": {},
   "outputs": [
    {
     "data": {
      "text/plain": [
       "True"
      ]
     },
     "execution_count": 142,
     "metadata": {},
     "output_type": "execute_result"
    }
   ],
   "source": [
    "col_img = []\n",
    "col_img = cv2.merge((registered_images[0],registered_images[1],registered_images[2]))\n",
    "name = image_files[0]\n",
    "parts = name.split(\".f\")\n",
    "part = parts[0].split(\"/data/\")\n",
    "par = part[1].split(\"/st\")\n",
    "col_name = \"_color\"\n",
    "p = f\"{par[0]}{col_name}\"\n",
    "name_prefix.append(p)\n",
    "output_coljpgname = f\"{output_directory}{name_prefix[4]}_2.jpg\"\n",
    "cv2.imwrite(output_coljpgname, col_img)"
   ]
  },
  {
   "cell_type": "code",
   "execution_count": 159,
   "metadata": {},
   "outputs": [
    {
     "name": "stdout",
     "output_type": "stream",
     "text": [
      "回転角度（度数法）: 0.10421876184939545\n",
      "X方向の平行移動: -1.9579941654023187\n",
      "Y方向の平行移動: 1.778319978824197\n",
      "X方向の拡大倍率: 0.9942943214010063\n",
      "Y方向の拡大倍率: 1.0024314931226048\n",
      "回転中心のX座標: -1.9579974045335997\n",
      "回転中心のY座標: 977.6578016120237\n"
     ]
    }
   ],
   "source": [
    "affine_matrix = M\n",
    "\n",
    "# アフィン変換行列から回転の角度、平行移動、拡大倍率を取得\n",
    "angle = np.arctan2(affine_matrix[1, 0], affine_matrix[0, 0])\n",
    "translation_x = affine_matrix[0, 2]\n",
    "translation_y = affine_matrix[1, 2]\n",
    "scale_x = affine_matrix[0, 0]\n",
    "scale_y = affine_matrix[1, 1]\n",
    "\n",
    "# 角度を度数法に変換\n",
    "angle_degrees = np.degrees(angle)\n",
    "\n",
    "cx = translation_x / np.cos(angle)\n",
    "cy = translation_y / np.sin(angle)\n",
    "\n",
    "# 結果\n",
    "print(\"回転角度（度数法）:\", angle_degrees)\n",
    "print(\"X方向の平行移動:\", translation_x)\n",
    "print(\"Y方向の平行移動:\", translation_y)\n",
    "print(\"X方向の拡大倍率:\", scale_x)\n",
    "print(\"Y方向の拡大倍率:\", scale_y)\n",
    "print(\"回転中心のX座標:\", cx)\n",
    "print(\"回転中心のY座標:\", cy)"
   ]
  },
  {
   "cell_type": "code",
   "execution_count": 127,
   "metadata": {},
   "outputs": [
    {
     "name": "stdout",
     "output_type": "stream",
     "text": [
      "9 145\n"
     ]
    }
   ],
   "source": [
    "hdu = fits.open(\"../output_preprocess/20051022/registration/cor2_st_2481913332_v_reg_.fits\")[0]\n",
    "header = hdu.header\n",
    "data = hdu.data\n",
    "ys = header[\"NAXIS1\"]\n",
    "xs = header[\"NAXIS2\"]\n",
    "max_data = 0\n",
    "for i in range(xs):\n",
    "    for j in range(ys):\n",
    "        if(data[i][j]>=max_data):\n",
    "            max_data = data[i][j]\n",
    "            max_i = i\n",
    "            max_j = j\n",
    "\n",
    "print(max_j, max_i)"
   ]
  }
 ],
 "metadata": {
  "kernelspec": {
   "display_name": "Python 3",
   "language": "python",
   "name": "python3"
  },
  "language_info": {
   "codemirror_mode": {
    "name": "ipython",
    "version": 3
   },
   "file_extension": ".py",
   "mimetype": "text/x-python",
   "name": "python",
   "nbconvert_exporter": "python",
   "pygments_lexer": "ipython3",
   "version": "3.11.5"
  },
  "orig_nbformat": 4
 },
 "nbformat": 4,
 "nbformat_minor": 2
}
