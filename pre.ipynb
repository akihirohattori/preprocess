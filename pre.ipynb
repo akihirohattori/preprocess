{
 "cells": [
  {
   "cell_type": "code",
   "execution_count": 2,
   "metadata": {},
   "outputs": [],
   "source": [
    "from astropy.io import fits\n",
    "import numpy as np\n",
    "import glob\n",
    "import os\n",
    "import pathlib\n",
    "import re\n",
    "from datetime import datetime"
   ]
  },
  {
   "cell_type": "code",
   "execution_count": 29,
   "metadata": {},
   "outputs": [],
   "source": [
    "# hdulist = fits.open(\"../../gra/HAY_A_AMICA_3_HAYAMICA_V1_0/data/20050929/st_2418807291_p.fit\") #scattered\n",
    "#hdulist = fits.open(\"../../gra/HAY_A_AMICA_3_HAYAMICA_V1_0/data/20051013/st_2456811983_w.fit\") #smear\n",
    "hdulist = fits.open(\"../../gra/HAY_A_AMICA_3_HAYAMICA_V1_0/data/20040517/st_1035463706_p.fit\") #moon\n",
    "# hdulist = fits.open(\"../HAY_A_AMICA_3_HAYAMICA_V1_0/data/20051025/st_2489428266_b.fit\") #itokawa surface\n",
    "hdu = hdulist[0]\n",
    "data = hdu.data\n",
    "header = hdu.header\n",
    "date = header[\"UTC_0\"]\n",
    "date = re.split('[-T]',date)\n",
    "l_year = 2003\n",
    "l_month = 5\n",
    "l_day = 9\n",
    "l_date = datetime(l_year,l_month,l_day)\n",
    "year = int(date[0])\n",
    "month = int(date[1])\n",
    "day = int(date[2])\n",
    "date = datetime(year,month,day)\n",
    "days = date - l_date\n",
    "DAY = days.days\n",
    "xs = header[\"NAXIS1\"]\n",
    "ys = header[\"NAXIS2\"]\n",
    "startH = header[\"START_H\"]\n",
    "startV = header[\"START_V\"]\n",
    "filt = header[\"FILTER_0\"]\n",
    "tEXP = header[\"EXP_0\"]\n",
    "num_bin = header[\"BINNING\"]"
   ]
  },
  {
   "cell_type": "code",
   "execution_count": 30,
   "metadata": {},
   "outputs": [],
   "source": [
    "#smear correction\n",
    "def get_smear(NV, NH, tEXP, Isky, data):\n",
    "    tVCT = 12 * 1024 * 10 ** -6#μs\n",
    "\n",
    "    result = np.zeros((NV,NH))\n",
    "    Ismear = np.zeros((NV,NH))\n",
    "\n",
    "    for H in range (NH):\n",
    "        Ismear[:,H] = 0\n",
    "        for V in range (NV):\n",
    "            Ismear[:,H] += (tVCT / (tVCT + tEXP)) * ((data[V,H] - Isky)/1024)\n",
    "        result[:,H] =data[:,H] - Ismear[:,H]\n",
    "        # print(Ismear,data[:,H] , \"result\",result[:,H] )\n",
    "\n",
    "    return result, Ismear\n",
    "\n",
    "# hdu = fits.PrimaryHDU(result)\n",
    "# hdulist = fits.HDUList([hdu])\n",
    "# hdulist.writeto('smear_cor.fits',overwrite=True)\n"
   ]
  },
  {
   "cell_type": "code",
   "execution_count": 31,
   "metadata": {},
   "outputs": [],
   "source": [
    "#flat correction\n",
    "def get_flat(filt):\n",
    "    result = 0\n",
    "    home_dir = os.path.expanduser(\"~\")\n",
    "    p = os.path.join(home_dir, \"Documents/gra/HAY_A_AMICA_3_HAYAMICA_V1_0/data/preflight\")\n",
    "    for f in glob.glob(p+\"/flat_\"+filt+\".fit\"):\n",
    "        result = fits.open(f)\n",
    "        result = result[0].data\n",
    "    return result\n",
    "def flat_cor(filt, data,startH,startV,x_axs,y_axs):\n",
    "    result = 0\n",
    "    flat_im = get_flat(filt)\n",
    "    \n",
    "    result = data/flat_im[startV:startV+y_axs,startH:startH+x_axs]\n",
    "\n",
    "    return result"
   ]
  },
  {
   "cell_type": "code",
   "execution_count": 32,
   "metadata": {},
   "outputs": [
    {
     "data": {
      "text/plain": [
       "305.38872000000003"
      ]
     },
     "execution_count": 32,
     "metadata": {},
     "output_type": "execute_result"
    }
   ],
   "source": [
    "#bias correction\n",
    "def get_bias(DAY):\n",
    "    result = 0\n",
    "\n",
    "    B0 = 3.18 * pow(10,2)\n",
    "    B1 = -4.12 * pow(10,-2)\n",
    "    B2 = 2.00 * pow(10,-5)\n",
    "\n",
    "    result = B0 + (B1 * DAY) + (B2 * pow(DAY,2))\n",
    "\n",
    "    return result\n",
    "\n",
    "get_bias(DAY)"
   ]
  },
  {
   "cell_type": "code",
   "execution_count": 7,
   "metadata": {},
   "outputs": [],
   "source": [
    "#dark correction\n",
    "def get_dark(T):\n",
    "    result = 0\n",
    "    d0_im = 3.60\n",
    "    d1_im = 0.123\n",
    "    d0_st = 2.96\n",
    "    d1_st = 0.140\n",
    "\n",
    "    result = d0_im*np.exp(d1_im*T) + d0_st*np.exp(d1_st*T)\n",
    "    return result"
   ]
  },
  {
   "cell_type": "code",
   "execution_count": 33,
   "metadata": {},
   "outputs": [],
   "source": [
    "#scattered light correction\n",
    "def make_coord(x,y):\n",
    "    a = np.array([[[x,y]]])\n",
    "    coordinate = np.tile(a,((2*x)-1,(2*y)-1,1))\n",
    "    for i in range((2*x)-1):\n",
    "        for j in range((2*y)-1):\n",
    "            coordinate[i][j]=[i,j]\n",
    "    return coordinate\n",
    "\n",
    "def make_base(x,y):\n",
    "    a = np.array([[[x-1,y-1]]])\n",
    "    base = np.tile(a,((2*x)-1,(2*y)-1,1))\n",
    "    return base\n",
    "\n",
    "def calc_dist(coord,base):\n",
    "    a = base-coord\n",
    "    b = np.sum(np.square(a), axis=2)\n",
    "    c = np.sqrt(b)\n",
    "    return c\n",
    "\n",
    "def scattered_light(xs, ys, filt, data):\n",
    "    result = np.zeros((header[\"NAXIS1\"],header[\"NAXIS2\"]))\n",
    "    # result = np.zeros((xs,ys))\n",
    "    Ai = {\"ul\":{\"1\":12.0,\"2\":8.0,\"3\":1.2,\"4\":1.0,\"5\":0.8,\"6\":0.7},\n",
    "      \"b\":{\"1\":10.0,\"2\":1.5,\"3\":0.3,\"4\":0.4,\"5\":0.4,\"6\":0.5},\n",
    "      \"v\":{\"1\":10.0,\"2\":1.5,\"3\":0.3,\"4\":0.4,\"5\":0.4,\"6\":0.5},\n",
    "      \"w\":{\"1\":10.0,\"2\":1.5,\"3\":0.6,\"4\":0.8,\"5\":0.7,\"6\":0.6},\n",
    "      \"x\":{\"1\":9.0,\"2\":3.5,\"3\":2.0,\"4\":2.7,\"5\":2.2,\"6\":0.5},\n",
    "      \"p\":{\"1\":10.0,\"2\":5.0,\"3\":8.3,\"4\":4.0,\"5\":6.4,\"6\":1.8},\n",
    "      \"zs\":{\"1\":50.0,\"2\":16.0,\"3\":6.0,\"4\":9.0,\"5\":9.5,\"6\":4.5}\n",
    "    }\n",
    "    filter_u=Ai[filt]\n",
    "    sigma = [8,16,32,64,110,710]\n",
    "    coord = make_coord(xs,ys)\n",
    "    base = make_base(xs,ys)\n",
    "    r = calc_dist(coord, base)\n",
    "    fufoc = 0\n",
    "    for k in range(6):\n",
    "        num = str(k + 1)\n",
    "        fufoc = fufoc + ((filter_u[num]*np.power(10.,-4))/(np.sqrt(2*np.pi)*sigma[k]))*np.exp(-np.power(r,2)/(2*np.power(sigma[k],2)))\n",
    "    for x in range(xs):\n",
    "        for y in range(ys):\n",
    "            result[x][y]=np.sum(np.multiply(fufoc[(xs-1)-x:(2*xs-1)-x,(ys-1)-y:(2*ys-1)-y],data))\n",
    "    return result\n",
    "\n"
   ]
  },
  {
   "cell_type": "code",
   "execution_count": 34,
   "metadata": {},
   "outputs": [],
   "source": [
    "#moon\n",
    "bias = get_bias(DAY)\n",
    "bias_data = data - bias\n",
    "smear_data ,Ismear= get_smear(xs, ys, tEXP, get_bias(DAY), bias_data)\n",
    "flat_data = flat_cor(filt,smear_data,startH,startV,xs,ys)\n",
    "scattered_data = scattered_light(xs, ys, filt, flat_data)"
   ]
  },
  {
   "cell_type": "code",
   "execution_count": 60,
   "metadata": {},
   "outputs": [],
   "source": [
    "#read_out\n",
    "bias = get_bias(DAY)\n",
    "bias_data = data - bias\n",
    "smear_data ,Ismear= get_smear(xs, ys, tEXP, get_bias(DAY), bias_data)\n",
    "\n",
    "hdu = fits.PrimaryHDU(smear_data)\n",
    "hdulist = fits.HDUList([hdu])\n",
    "hdulist.writeto('readout_cor.fit',overwrite=True)"
   ]
  },
  {
   "cell_type": "code",
   "execution_count": 9,
   "metadata": {},
   "outputs": [],
   "source": [
    "flat_data = flat_cor(filt,data,startH,startV,xs,ys)\n",
    "\n",
    "hdu = fits.PrimaryHDU(flat_data)\n",
    "hdulist = fits.HDUList([hdu])\n",
    "hdulist.writeto('my_flat.fit',overwrite=True)"
   ]
  },
  {
   "cell_type": "code",
   "execution_count": 57,
   "metadata": {},
   "outputs": [],
   "source": [
    "flat_data = flat_cor(filt,data,startH,startV,xs,ys)\n",
    "result = scattered_light(xs, ys, filt, flat_data)\n",
    "data1 = flat_data-result\n",
    "\n",
    "hdu = fits.PrimaryHDU(data1)\n",
    "hdulist = fits.HDUList([hdu])\n",
    "hdulist.writeto('itokawa_cor.fit',overwrite=True)"
   ]
  },
  {
   "cell_type": "code",
   "execution_count": 26,
   "metadata": {},
   "outputs": [],
   "source": [
    "result = flat_data - scattered_data\n",
    "\n",
    "hdu = fits.PrimaryHDU(result)\n",
    "hdulist = fits.HDUList([hdu])\n",
    "hdulist.writeto('moon_cor.fit',overwrite=True)"
   ]
  },
  {
   "cell_type": "code",
   "execution_count": 22,
   "metadata": {},
   "outputs": [],
   "source": [
    "#test\n",
    "flat_data = flat_cor(filt,data,startH,startV,xs,ys)\n",
    "result = scattered_light(xs, ys, filt, flat_data)\n",
    "data1 = flat_data-result\n",
    "\n",
    "hdu = fits.PrimaryHDU(data1)\n",
    "hdulist = fits.HDUList([hdu])\n",
    "hdulist.writeto('test_cor.fit',overwrite=True)"
   ]
  },
  {
   "cell_type": "code",
   "execution_count": 20,
   "metadata": {},
   "outputs": [
    {
     "name": "stdout",
     "output_type": "stream",
     "text": [
      "True\n"
     ]
    }
   ],
   "source": [
    "print((result==result1).all())"
   ]
  },
  {
   "cell_type": "code",
   "execution_count": 27,
   "metadata": {},
   "outputs": [
    {
     "name": "stdout",
     "output_type": "stream",
     "text": [
      "500以上の要素の平均: 754.3723029871288\n"
     ]
    }
   ],
   "source": [
    "filtered_values = [value for row in result for value in row if value >= 500]\n",
    "\n",
    "# 条件を満たす要素の平均を計算\n",
    "if filtered_values:\n",
    "    average = sum(filtered_values) / len(filtered_values)\n",
    "    print(\"500以上の要素の平均:\", average)\n",
    "else:\n",
    "    print(\"500以上の要素が見つかりませんでした。\")"
   ]
  }
 ],
 "metadata": {
  "kernelspec": {
   "display_name": "Python 3",
   "language": "python",
   "name": "python3"
  },
  "language_info": {
   "codemirror_mode": {
    "name": "ipython",
    "version": 3
   },
   "file_extension": ".py",
   "mimetype": "text/x-python",
   "name": "python",
   "nbconvert_exporter": "python",
   "pygments_lexer": "ipython3",
   "version": "3.8.15"
  },
  "orig_nbformat": 4
 },
 "nbformat": 4,
 "nbformat_minor": 2
}
