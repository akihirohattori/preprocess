{
 "cells": [
  {
   "cell_type": "code",
   "execution_count": 3,
   "metadata": {},
   "outputs": [],
   "source": [
    "from astropy.io import fits\n",
    "import numpy as np\n",
    "import glob\n",
    "import os\n",
    "import pathlib\n",
    "import re"
   ]
  },
  {
   "cell_type": "code",
   "execution_count": 14,
   "metadata": {},
   "outputs": [],
   "source": [
    "hdulist = fits.open(\"../../gra/HAY_A_AMICA_3_HAYAMICA_V1_0/data/20040517/st_1035463706_p.fit\")\n",
    "hdu = hdulist[0]\n",
    "data = hdu.data\n",
    "header = hdu.header\n",
    "filt = header[\"FILTER_0\"]\n",
    "startH = header[\"START_H\"]\n",
    "startV = header[\"START_V\"]\n",
    "x_axis = header[\"NAXIS1\"]\n",
    "y_axis = header[\"NAXIS2\"]"
   ]
  },
  {
   "cell_type": "code",
   "execution_count": 15,
   "metadata": {},
   "outputs": [],
   "source": [
    "def get_flat(filt):\n",
    "    result = 0\n",
    "    home_dir = os.path.expanduser(\"~\")\n",
    "    p = os.path.join(home_dir, \"Documents/gra/HAY_A_AMICA_3_HAYAMICA_V1_0/data/preflight\")\n",
    "    for f in glob.glob(p+\"/flat_\"+filt+\".fit\"):\n",
    "        result = fits.open(f)\n",
    "        result = result[0].data\n",
    "    return result\n",
    "def flat_cor(filt, data,startH,startV,x_axs,y_axs):\n",
    "    result = 0\n",
    "    flat_im = get_flat(filt)\n",
    "    \n",
    "    result = data/flat_im[startV:startV+y_axs,startH:startH+x_axs]\n",
    "\n",
    "    return result\n"
   ]
  },
  {
   "cell_type": "code",
   "execution_count": 18,
   "metadata": {},
   "outputs": [
    {
     "name": "stdout",
     "output_type": "stream",
     "text": [
      "1000以上の値を持つ要素の平均: 1195.0246536267318\n"
     ]
    }
   ],
   "source": [
    "# サンプルの配列を作成します（例としてランダムな数値を使用）\n",
    "array = data\n",
    "\n",
    "# 条件を満たす要素のみを選択します\n",
    "filtered_array = array[array >= 1000]\n",
    "\n",
    "# 条件を満たす要素の平均を計算します\n",
    "average_above_1000 = np.mean(filtered_array)\n",
    "\n",
    "print(\"1000以上の値を持つ要素の平均:\", average_above_1000)"
   ]
  },
  {
   "cell_type": "code",
   "execution_count": 17,
   "metadata": {},
   "outputs": [],
   "source": [
    "result = flat_cor(filt, data,startH,startV,x_axis,y_axis)\n",
    "hdu = fits.PrimaryHDU(result)\n",
    "hdulist = fits.HDUList([hdu])\n",
    "hdulist.writeto('flat_moon.fits',overwrite=False)"
   ]
  }
 ],
 "metadata": {
  "kernelspec": {
   "display_name": "Python 3",
   "language": "python",
   "name": "python3"
  },
  "language_info": {
   "codemirror_mode": {
    "name": "ipython",
    "version": 3
   },
   "file_extension": ".py",
   "mimetype": "text/x-python",
   "name": "python",
   "nbconvert_exporter": "python",
   "pygments_lexer": "ipython3",
   "version": "3.8.12"
  },
  "orig_nbformat": 4
 },
 "nbformat": 4,
 "nbformat_minor": 2
}
