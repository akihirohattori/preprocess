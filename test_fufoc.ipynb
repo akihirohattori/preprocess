{
 "cells": [
  {
   "cell_type": "code",
   "execution_count": 1,
   "metadata": {},
   "outputs": [],
   "source": [
    "from astropy.io import fits\n",
    "import numpy as np\n",
    "import matplotlib.pyplot as plt\n",
    "import pandas as pd"
   ]
  },
  {
   "cell_type": "code",
   "execution_count": 2,
   "metadata": {},
   "outputs": [],
   "source": [
    "def make_coord(x,y):\n",
    "    a = np.array([[[x,y]]])\n",
    "    coordinate = np.tile(a,(x,y,1))\n",
    "    for i in range(x):\n",
    "        for j in range(y):\n",
    "            coordinate[i][j]=[i,j]\n",
    "    return coordinate"
   ]
  },
  {
   "cell_type": "code",
   "execution_count": 3,
   "metadata": {},
   "outputs": [],
   "source": [
    "def make_base(x,y):\n",
    "    a = np.array([[[0,0]]])\n",
    "    base = np.tile(a,(x,y,1))\n",
    "    return base"
   ]
  },
  {
   "cell_type": "code",
   "execution_count": 4,
   "metadata": {},
   "outputs": [],
   "source": [
    "def calc_dist(coord,base):\n",
    "    a = base-coord\n",
    "    b = np.sum(np.square(a), axis=2)\n",
    "    c = np.sqrt(b)\n",
    "    return c"
   ]
  },
  {
   "cell_type": "code",
   "execution_count": 93,
   "metadata": {},
   "outputs": [],
   "source": [
    "filter = [\"ul\",\"b\",\"v\",\"w\",\"x\",\"p\",\"zs\"]\n",
    "alpha = {\"ul\":1.26,\"b\":1.28,\"v\":1.41,\"w\":1.85,\"x\":1.85,\"p\":1.60,\"zs\":1.48}\n",
    "Ai = {\"ul\":{\"1\":12.0,\"2\":8.0,\"3\":1.2,\"4\":1.0,\"5\":0.8,\"6\":0.7},\n",
    "      \"b\":{\"1\":10.0,\"2\":1.5,\"3\":0.3,\"4\":0.4,\"5\":0.4,\"6\":0.5},\n",
    "      \"v\":{\"1\":10.0,\"2\":1.5,\"3\":0.3,\"4\":0.4,\"5\":0.4,\"6\":0.5},\n",
    "      \"w\":{\"1\":10.0,\"2\":1.5,\"3\":0.6,\"4\":0.8,\"5\":0.7,\"6\":0.6},\n",
    "      \"x\":{\"1\":9.0,\"2\":3.5,\"3\":2.0,\"4\":2.7,\"5\":2.2,\"6\":0.5},\n",
    "      \"p\":{\"1\":10.0,\"2\":5.0,\"3\":8.3,\"4\":4.0,\"5\":6.4,\"6\":1.8},\n",
    "      \"zs\":{\"1\":50.0,\"2\":16.0,\"3\":6.0,\"4\":9.0,\"5\":9.5,\"6\":4.5}\n",
    "}\n",
    "coord = 0\n",
    "sigma = [8,16,32,64,110,710]\n",
    "xs = 1024\n",
    "ys = 1024\n",
    "coord = make_coord(xs,ys)\n",
    "base = make_base(xs,ys)\n",
    "r = calc_dist(coord,base)"
   ]
  },
  {
   "cell_type": "code",
   "execution_count": 50,
   "metadata": {},
   "outputs": [
    {
     "data": {
      "text/plain": [
       "list"
      ]
     },
     "execution_count": 50,
     "metadata": {},
     "output_type": "execute_result"
    }
   ],
   "source": [
    "type(alpha[\"ul\"])\n",
    "r[1][1]\n",
    "np.array(b)"
   ]
  },
  {
   "cell_type": "code",
   "execution_count": 6,
   "metadata": {},
   "outputs": [
    {
     "name": "stdout",
     "output_type": "stream",
     "text": [
      "1048576\n",
      "0.0\n"
     ]
    }
   ],
   "source": [
    "a = r.reshape(-1)\n",
    "print(len(a))\n",
    "b = pd.unique(a).tolist()\n",
    "print(b[0])\n",
    "\n"
   ]
  },
  {
   "cell_type": "code",
   "execution_count": 7,
   "metadata": {},
   "outputs": [
    {
     "name": "stdout",
     "output_type": "stream",
     "text": [
      "{'1': 50.0, '2': 16.0, '3': 6.0, '4': 9.0, '5': 9.5, '6': 4.5}\n",
      "{'1': 10.0, '2': 1.5, '3': 0.3, '4': 0.4, '5': 0.4, '6': 0.5}\n",
      "{'1': 12.0, '2': 8.0, '3': 1.2, '4': 1.0, '5': 0.8, '6': 0.7}\n",
      "{'1': 10.0, '2': 5.0, '3': 8.3, '4': 4.0, '5': 6.4, '6': 1.8}\n",
      "{'1': 10.0, '2': 1.5, '3': 0.3, '4': 0.4, '5': 0.4, '6': 0.5}\n",
      "{'1': 9.0, '2': 3.5, '3': 2.0, '4': 2.7, '5': 2.2, '6': 0.5}\n",
      "{'1': 10.0, '2': 1.5, '3': 0.6, '4': 0.8, '5': 0.7, '6': 0.6}\n"
     ]
    }
   ],
   "source": [
    "for f in filter:\n",
    "    filter_u = Ai[f]\n",
    "    print(filter_u)"
   ]
  },
  {
   "cell_type": "code",
   "execution_count": 51,
   "metadata": {},
   "outputs": [],
   "source": [
    "for f in filter:\n",
    "    filter_u = Ai[f]\n",
    "    name_ufoc = \"fufoc_\" + f\n",
    "    name_foc = \"ffoc_\" + f\n",
    "    name_psf = \"psf_\" + f\n",
    "    globals()[name_ufoc] = 0\n",
    "    globals()[name_foc] = 0\n",
    "    globals()[name_psf] = 0\n",
    "    for k in range(6):\n",
    "        num = str(k + 1)\n",
    "        globals()[name_ufoc] = globals()[name_ufoc] + ((filter_u[num]*np.power(10.,-4))/(np.sqrt(2*np.pi)*sigma[k]))*np.exp(-np.power(b,2)/(2*np.power(sigma[k],2)))\n",
    "    globals()[name_foc] = np.exp(-alpha[f]*np.array(b))\n",
    "    globals()[name_psf] = globals()[name_foc] + globals()[name_ufoc]\n"
   ]
  },
  {
   "cell_type": "code",
   "execution_count": 30,
   "metadata": {},
   "outputs": [],
   "source": [
    "hdulist = fits.open(\"../../gra/HAY_A_AMICA_3_HAYAMICA_V1_0/data/20050929/st_2418807291_p.fit\")\n",
    "hdu = hdulist[0]\n",
    "data = hdu.data\n",
    "header = hdu.header"
   ]
  },
  {
   "cell_type": "code",
   "execution_count": 74,
   "metadata": {},
   "outputs": [],
   "source": [
    "def f_ufoc(r, A, sigmas, N):\n",
    "    result = 0\n",
    "\n",
    "    for i in range(N):\n",
    "        result += (A[str(i+1)]*np.power(10.,-4)) / (np.sqrt(2*np.pi)*sigmas[i]) * np.exp(-np.power(r,2) / (2*np.power(sigmas[i],2)))\n",
    "\n",
    "    return result\n",
    "\n",
    "def f_foc(r,a):\n",
    "    result = 0\n",
    "\n",
    "\n",
    "    result = np.exp(-a*np.array(r))\n",
    "\n",
    "    return result\n",
    "\n",
    "def get_r_and_psf(As, alphas, f, N=6):\n",
    "    A = As[f]\n",
    "    alpha = alphas[f]\n",
    "    r = np.logspace(-1, 3, num=1000)\n",
    "    result_f_ufoc = np.array(list(map(lambda x: f_ufoc(x, A, sigma, N), r)))\n",
    "    result_f_foc = np.array(list(map(lambda x: f_foc(x,alpha), r)))\n",
    "    result_psf = result_f_ufoc + result_f_foc\n",
    "\n",
    "    return (r, result_psf)"
   ]
  },
  {
   "cell_type": "code",
   "execution_count": 84,
   "metadata": {},
   "outputs": [],
   "source": [
    "styles = [(0, (1, 1)),(0, (2, 2)),(0, (5, 2)),'-',(0, (5, 2, 1, 2)),(0, (5, 1)),(0, (1, 0))]"
   ]
  },
  {
   "cell_type": "code",
   "execution_count": 92,
   "metadata": {},
   "outputs": [
    {
     "data": {
      "text/plain": [
       "set"
      ]
     },
     "execution_count": 92,
     "metadata": {},
     "output_type": "execute_result"
    }
   ],
   "source": [
    "type(filter)"
   ]
  },
  {
   "cell_type": "code",
   "execution_count": null,
   "metadata": {},
   "outputs": [],
   "source": [
    "result = []\n",
    "fig, ax = plt.subplots()\n",
    "r = np.logspace(-1, 3, num=1000)\n",
    "ax.set_xscale('log')\n",
    "ax.set_xlim(10**(-1), 10**3)\n",
    "ax.set_yscale('log')\n",
    "ax.yaxis.tick_right()\n",
    "ax.set_ylim(10**(-9), 1)\n",
    "ax.yaxis.set_major_locator(mpl.ticker.LogLocator(numticks=13))\n",
    "ax.yaxis.set_minor_locator(mpl.ticker.LogLocator(numticks = 13, subs = (.1, .2, .3, .4, .5, .6, .7, .8, .9)))\n",
    "for i,f in enumerate(filter):\n",
    "    print(i, f)\n",
    "    r, result = get_r_and_psf(Ai, alpha, f)\n",
    "    ax.plot(r, result,linestyle=styles[i],label = f)\n",
    "plt.legend(loc = 'upper right') \n",
    "plt.savefig(\"psf.pdf\")\n",
    "plt.show()"
   ]
  },
  {
   "cell_type": "code",
   "execution_count": 95,
   "metadata": {},
   "outputs": [
    {
     "name": "stdout",
     "output_type": "stream",
     "text": [
      "0 ul\n",
      "1 b\n",
      "2 v\n",
      "3 w\n",
      "4 x\n",
      "5 p\n",
      "6 zs\n"
     ]
    },
    {
     "data": {
      "image/png": "[encoded data removed]",
      "text/plain": [
       "<Figure size 432x288 with 1 Axes>"
      ]
     },
     "metadata": {
      "needs_background": "light"
     },
     "output_type": "display_data"
    }
   ],
   "source": [
    "for i,f in enumerate(filter):\n",
    "    print(i, f)\n",
    "    r, result = get_r_and_psf(Ai, alpha, f)\n",
    "    plt.plot(r, result,linestyle=styles[i],label = f)\n",
    "plt.xscale('log')\n",
    "plt.xlim(10**(-1), 10**3)\n",
    "plt.yscale('log')\n",
    "plt.ylim(10**(-9), 1)\n",
    "plt.legend(loc = 'upper right') \n",
    "plt.savefig(\"psf.pdf\")\n",
    "plt.show()\n"
   ]
  },
  {
   "cell_type": "code",
   "execution_count": null,
   "metadata": {},
   "outputs": [
    {
     "name": "stdout",
     "output_type": "stream",
     "text": [
      "7.759794498192039e-05\n"
     ]
    }
   ],
   "source": [
    "print(max(fufoc_p))"
   ]
  },
  {
   "cell_type": "code",
   "execution_count": 59,
   "metadata": {},
   "outputs": [
    {
     "name": "stdout",
     "output_type": "stream",
     "text": [
      "False\n"
     ]
    }
   ],
   "source": [
    "def has_duplicates(seq):\n",
    "    return len(seq) != len(set(seq))\n",
    "\n",
    "print(has_duplicates(b))"
   ]
  },
  {
   "cell_type": "code",
   "execution_count": 66,
   "metadata": {},
   "outputs": [
    {
     "data": {
      "image/png": "[encoded data removed]",
      "text/plain": [
       "<Figure size 432x288 with 1 Axes>"
      ]
     },
     "metadata": {
      "needs_background": "light"
     },
     "output_type": "display_data"
    }
   ],
   "source": [
    "plt.plot(b,psf_ul,':',label = 'ul')\n",
    "# plt.plot(b,psf_b,'.',label = 'b')\n",
    "# plt.plot(b,psf_v,'+',label = 'v')\n",
    "# plt.plot(b,psf_w,'*',label = 'w')\n",
    "# plt.plot(b,psf_x,'4',label = 'x')\n",
    "# plt.plot(b,psf_p,'2',label = 'p')\n",
    "# plt.plot(b,psf_zs,'3',label = 'zs')\n",
    "plt.xscale('log')\n",
    "plt.xlim(10**(-1), 10**3)\n",
    "plt.yscale('log')\n",
    "plt.ylim(10**(-9), 1)\n",
    "plt.legend(loc = 'upper right') \n",
    "plt.show()"
   ]
  },
  {
   "cell_type": "code",
   "execution_count": null,
   "metadata": {},
   "outputs": [
    {
     "name": "stdout",
     "output_type": "stream",
     "text": [
      "4.488100654516119e-05\n",
      "5.360786892894253e-05\n",
      "5.610125818145148e-05\n",
      "5.778429592689503e-05\n",
      "5.8582180487697896e-05\n",
      "5.861027501448673e-05\n"
     ]
    }
   ],
   "source": [
    "aa = 0\n",
    "for k in range(6):\n",
    "        num = str(k + 1)\n",
    "        aa = aa+ ((filter_u[num]*np.power(10.,-4))/(np.sqrt(2*np.pi)*sigma[k]))*np.exp(-np.power(b,2)/(2*np.power(sigma[k],2)))\n",
    "        print(aa[0])"
   ]
  }
 ],
 "metadata": {
  "kernelspec": {
   "display_name": "Python 3",
   "language": "python",
   "name": "python3"
  },
  "language_info": {
   "codemirror_mode": {
    "name": "ipython",
    "version": 3
   },
   "file_extension": ".py",
   "mimetype": "text/x-python",
   "name": "python",
   "nbconvert_exporter": "python",
   "pygments_lexer": "ipython3",
   "version": "3.8.12"
  },
  "orig_nbformat": 4
 },
 "nbformat": 4,
 "nbformat_minor": 2
}
