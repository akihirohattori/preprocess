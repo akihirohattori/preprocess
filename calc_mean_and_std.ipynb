{
 "cells": [
  {
   "cell_type": "code",
   "execution_count": 8,
   "metadata": {},
   "outputs": [],
   "source": [
    "import numpy as np\n",
    "from astropy.io import fits\n",
    "import glob\n",
    "import pandas as pd\n",
    "import os\n",
    "from pathlib import Path\n",
    "import matplotlib.pyplot as plt\n",
    "from scipy import signal\n",
    "import re"
   ]
  },
  {
   "cell_type": "code",
   "execution_count": 9,
   "metadata": {},
   "outputs": [],
   "source": [
    "def split_images(image_files, batch_size):\n",
    "    return [image_files[i:i + batch_size] for i in range(0, len(image_files), batch_size)]"
   ]
  },
  {
   "cell_type": "code",
   "execution_count": 10,
   "metadata": {},
   "outputs": [],
   "source": [
    "def atoi(text):\n",
    "    return int(text) if text.isdigit() else text\n",
    "\n",
    "def natural_keys(text):\n",
    "    return [ atoi(c) for c in re.split(r'(\\d+)', text) ]"
   ]
  },
  {
   "cell_type": "code",
   "execution_count": 3,
   "metadata": {},
   "outputs": [],
   "source": [
    "def DN2reflectance(image_filelist):\n",
    "    result = []\n",
    "    data = []\n",
    "    t = []\n",
    "    scale_factor = [1.254, 1, 0.645, 1.514]\n",
    "    rad = 3.42 * pow(10,-3)\n",
    "    for i, image_file in enumerate(image_filelist):\n",
    "        hdu = fits.open(image_file)[0]\n",
    "        header = hdu.header\n",
    "        data.append(hdu.data)\n",
    "        t.append(header[\"EXP_0\"])\n",
    "    n = image_filelist[0].split(\"/registration\")\n",
    "    ff = image_filelist\n",
    "    name = n[0]\n",
    "    save_dir = f\"{name}/reflectance\"\n",
    "    print(save_dir)\n",
    "    path = Path(save_dir)\n",
    "    path.mkdir(exist_ok=True)\n",
    "    base = (data[1] / t[1]) * rad\n",
    "    for i in range(4):\n",
    "        result.append((((data[i] / t[i])) / base) * rad * scale_factor[i])\n",
    "        ff = image_filelist[i].split(\"_reg_\")\n",
    "        f = ff[0].split(\"registration\")\n",
    "        fits.writeto(f\"{f[0]}reflectance{f[1]}.fits\", result[i], overwrite=True)\n",
    "    return result"
   ]
  },
  {
   "cell_type": "code",
   "execution_count": 4,
   "metadata": {},
   "outputs": [],
   "source": [
    "def find_greater_than_100_and_smallest_difference(value, lst):\n",
    "    # 各要素と指定された値との差を計算\n",
    "    differences = [(element, abs(element - value)) for element in lst if element > value and (element - value) >= 100]\n",
    "\n",
    "    if not differences:\n",
    "        return None  # 条件を満たす要素がない場合はNoneを返すか、適切な処理を行う\n",
    "\n",
    "    # 差が小さい順にソート\n",
    "    sorted_differences = sorted(differences, key=lambda x: x[1])\n",
    "\n",
    "    # 指定された値よりも100以上大きく、かつ一番小さい差を持つ要素を取得\n",
    "    result_element = sorted_differences[0][0]\n",
    "\n",
    "    return result_element"
   ]
  },
  {
   "cell_type": "code",
   "execution_count": 141,
   "metadata": {},
   "outputs": [],
   "source": [
    "def find_coordinates_cor2(image1, image2):\n",
    "    coordinates_list = []\n",
    "    above_threshold_coordinates = []\n",
    "    rows, cols = image1.shape\n",
    "    visited = np.zeros((rows, cols), dtype=bool)\n",
    "    histogram, bin_edges = np.histogram(image1.flatten(), bins = 600, range = (1000, 4000))\n",
    "    maxima_positions = signal.argrelmax(histogram.flatten(), order=1)[0]\n",
    "    minima_positions = signal.argrelmin(histogram.flatten(), order=1)[0]\n",
    "    place = np.argmax(histogram[maxima_positions])\n",
    "    value = ((maxima_positions[place] * 5) + 1000) \n",
    "    minima_val = (minima_positions * 5)+1000\n",
    "    maxima_val = (maxima_positions * 5)+1000\n",
    "    closest_value = min((x for x in maxima_val if value + 100 < x <= value + 400), key=lambda x: abs(x - value), default=value)\n",
    "    thresh = closest_value * 1.05\n",
    "\n",
    "    def explore_area(i, j, threshold):\n",
    "        area_coordinates = []\n",
    "        stack = [(i, j)]\n",
    "\n",
    "        while stack:\n",
    "            current_i, current_j = stack.pop()\n",
    "            if not visited[current_i, current_j] and image1[current_i, current_j] >= threshold and image2[current_i, current_j] != 0:#before2300\n",
    "                visited[current_i, current_j] = True\n",
    "                area_coordinates.append((current_i, current_j))\n",
    "\n",
    "                # 近傍の未訪問ピクセルをスタックに追加\n",
    "                for ni in range(current_i - 1, current_i + 2):\n",
    "                    for nj in range(current_j - 1, current_j + 2):\n",
    "                        if 0 <= ni < rows and 0 <= nj < cols and not visited[ni, nj] and image1[ni, nj] >= threshold and image2[current_i, current_j] != 0:\n",
    "                            stack.append((ni, nj))\n",
    "\n",
    "        return area_coordinates\n",
    "\n",
    "    for i in range(rows):\n",
    "        for j in range(cols):\n",
    "            if not visited[i, j] and image1[i, j] >= thresh:\n",
    "                area_coordinates = explore_area(i, j, thresh)\n",
    "                if len(area_coordinates) >= 50:\n",
    "                    coordinates_list.append(area_coordinates)\n",
    "\n",
    "    for i in range(rows):\n",
    "        for j in range(cols):\n",
    "            if image1[i, j] > thresh and image2[i, j] != 0:\n",
    "                above_threshold_coordinates.append((i, j))\n",
    "\n",
    "\n",
    "    return coordinates_list, above_threshold_coordinates"
   ]
  },
  {
   "cell_type": "code",
   "execution_count": 138,
   "metadata": {},
   "outputs": [],
   "source": [
    "# 20051119\n",
    "def find_coordinates_cor1(image1, image2):\n",
    "    coordinates_list = []\n",
    "    above_threshold_coordinates = []\n",
    "    rows, cols = image1.shape\n",
    "    visited = np.zeros((rows, cols), dtype=bool)\n",
    "    histogram, bin_edges = np.histogram(image1.flatten(), bins = 600, range = (1000, 4000))\n",
    "    maxima_positions = signal.argrelmax(histogram.flatten(), order=1)[0]\n",
    "    minima_positions = signal.argrelmin(histogram.flatten(), order=1)[0]\n",
    "    place = np.argmax(histogram[maxima_positions])\n",
    "    value = ((maxima_positions[place] * 5) + 1000) \n",
    "    minima_val = (minima_positions * 5)+1000\n",
    "    maxima_val = (maxima_positions * 5)+1000\n",
    "    closest_value = min((x for x in maxima_val if value + 100 < x <= value + 400), key=lambda x: abs(x - value), default=value)\n",
    "    thresh = closest_value * 0.96\n",
    "\n",
    "    def explore_area(i, j, thresh):\n",
    "        area_coordinates = []\n",
    "        stack = [(i, j)]\n",
    "\n",
    "        while stack:\n",
    "            current_i, current_j = stack.pop()\n",
    "            if not visited[current_i, current_j] and image1[current_i, current_j] >= thresh and image2[current_i, current_j] != 0:#before 2000\n",
    "                visited[current_i, current_j] = True\n",
    "                area_coordinates.append((current_i, current_j))\n",
    "\n",
    "                # 近傍の未訪問ピクセルをスタックに追加\n",
    "                for ni in range(current_i - 1, current_i + 2):\n",
    "                    for nj in range(current_j - 1, current_j + 2):\n",
    "                        if 0 <= ni < rows and 0 <= nj < cols and not visited[ni, nj] and image1[ni, nj] >= thresh and image2[current_i, current_j] != 0:\n",
    "                            stack.append((ni, nj))\n",
    "\n",
    "        return area_coordinates\n",
    "\n",
    "    for i in range(rows):\n",
    "        for j in range(cols):\n",
    "            if not visited[i, j] and image1[i, j] >= thresh:\n",
    "                area_coordinates = explore_area(i, j, thresh)\n",
    "                if len(area_coordinates) >= 50:\n",
    "                    coordinates_list.append(area_coordinates)\n",
    "\n",
    "    for i in range(rows):\n",
    "        for j in range(cols):\n",
    "            if image1[i, j] > thresh and image2[i, j] != 0:\n",
    "                above_threshold_coordinates.append((i, j))\n",
    "\n",
    "    return coordinates_list, above_threshold_coordinates"
   ]
  },
  {
   "cell_type": "code",
   "execution_count": 12,
   "metadata": {},
   "outputs": [],
   "source": [
    "def create_image_from_coordinates(coordinates_list, image_shape, original_image):\n",
    "    # 画像をゼロで初期化\n",
    "    result_image = np.zeros(image_shape, dtype=original_image.dtype)\n",
    "\n",
    "    # coordinates_listの各エリアに元の画像の値を設定\n",
    "    for area_coordinates in coordinates_list:\n",
    "        for coord in area_coordinates:\n",
    "            result_image[coord[0], coord[1]] = original_image[coord[0], coord[1]]\n",
    "\n",
    "    return result_image"
   ]
  },
  {
   "cell_type": "code",
   "execution_count": 142,
   "metadata": {},
   "outputs": [],
   "source": [
    "def calc(image_filelist, target_dir, num):\n",
    "    save_dir = f\"../output_preprocess/{target_dir}/reflectance/\"\n",
    "    images = []\n",
    "    for i in range(4):\n",
    "        hdu = fits.open(image_filelist[i])[0]\n",
    "        header = hdu.header\n",
    "        images.append(hdu.data)\n",
    "    # 条件を満たす座標を探す\n",
    "    if \"cor2\" in image_filelist[0]:\n",
    "        coordinates_list, above_coordinates_list = find_coordinates_cor2(images[0], images[3])\n",
    "    # else:\n",
    "    #     coordinates_list, above_coordinates_list = find_coordinates_cor2(images[0], images[3])\n",
    "        \n",
    "        reflectances = DN2reflectance(image_filelist)\n",
    "        data = []\n",
    "        for coord in above_coordinates_list:\n",
    "            values_at_coordinate = [reflectances[f][coord[0], coord[1]] for f in range(4)]\n",
    "            data.append([coord[1] + 1, coord[0] + 1] + values_at_coordinate)\n",
    "        df = pd.DataFrame(data, columns=['座標_x', '座標_y', '反射率_b', '反射率_v', '反射率_w', '反射率_p'])\n",
    "        df_r = df.replace([np.inf, -np.inf], np.nan).dropna()\n",
    "        df_r.to_csv(f'{save_dir}{num}_.csv', index=False)\n",
    "\n",
    "        data_coor = [(j + 1, i + 1) for i in range(images[0].shape[0]) for j in range(images[0].shape[1])]\n",
    "        datas = pd.DataFrame({\n",
    "        '反射率_b': reflectances[0].reshape(-1),\n",
    "        '反射率_v': reflectances[1].reshape(-1),\n",
    "        '反射率_w': reflectances[2].reshape(-1),\n",
    "        '反射率_p': reflectances[3].reshape(-1)\n",
    "        })\n",
    "        # データフレームを構築\n",
    "        df = pd.DataFrame(data_coor, columns=['座標_x', '座標_y'])\n",
    "        df = pd.concat([df, datas], axis = 1)\n",
    "        df = df[df[\"反射率_b\"] != 0]\n",
    "        df = df[df[\"反射率_w\"] != 0]\n",
    "        df = df[df[\"反射率_p\"] != 0]\n",
    "        df = df[df[\"反射率_v\"] != 0]\n",
    "        # df = df[df['座標_x'] >= 50]\n",
    "        df_r = df.replace([np.inf, -np.inf], np.nan).dropna()\n",
    "        df_r.to_csv(f'{save_dir}{num}_allcoord_.csv', index=False)\n",
    "\n",
    "        if coordinates_list:\n",
    "        # データを保持するDataFrameを作成\n",
    "            df = pd.DataFrame(columns=['エリア', '座標_x', '座標_y', '反射率_b', '反射率_v', '反射率_w', '反射率_p'])\n",
    "            i = 0\n",
    "            for area_coordinates in coordinates_list:\n",
    "                ref_b_at_coordinates = []\n",
    "                ref_v_at_coordinates = []\n",
    "                ref_w_at_coordinates = []\n",
    "                ref_p_at_coordinates = []\n",
    "                for coord in area_coordinates:\n",
    "                    values_at_coordinate = [reflectances[f][coord[0], coord[1]] for f in range(4)]\n",
    "                    if all(value != 0 for value in values_at_coordinate):\n",
    "                        # df = df.replace([np.inf, -np.inf], np.nan).dropna()\n",
    "                        df.loc[len(df)+1] = [int(i+1), coord[1]+1, coord[0]+1,\n",
    "                                    values_at_coordinate[0], values_at_coordinate[1],\n",
    "                                    values_at_coordinate[2], values_at_coordinate[3]]\n",
    "                        ref_b_at_coordinates.append(values_at_coordinate[0])\n",
    "                        ref_v_at_coordinates.append(values_at_coordinate[1])\n",
    "                        ref_w_at_coordinates.append(values_at_coordinate[2])\n",
    "                        ref_p_at_coordinates.append(values_at_coordinate[3])\n",
    "\n",
    "                \n",
    "                df = df.replace([np.inf, -np.inf], np.nan).dropna()\n",
    "                if(any(df[\"エリア\"]==i + 1)):\n",
    "\n",
    "                    # DataFrameをCSVファイルに書き込み\n",
    "                    wave_length = [429, 553, 700, 963]\n",
    "                    # ref_area = ref_area.replace([np.inf, -np.inf], np.nan).dropna()\n",
    "                    a = [np.mean(ref_b_at_coordinates), np.mean(ref_v_at_coordinates), np.mean(ref_w_at_coordinates), np.mean(ref_p_at_coordinates)]\n",
    "\n",
    "                    plt.plot(wave_length, a, marker=\".\", label = f\"area_{i+1}\")\n",
    "                    plt.xlabel('Wavelength (nm)')\n",
    "                    plt.xlim(300, 1200)\n",
    "                    plt.ylabel('reflectance normalized at 550')\n",
    "                    plt.legend(loc='upper right')\n",
    "                    plt.savefig(f\"{save_dir}{num}_area{i+1}_avg.pdf\")\n",
    "\n",
    "                    if(((i+1) % 10) == 0):\n",
    "                        plt.clf()\n",
    "                    i +=1\n",
    "            df = df[df[\"反射率_b\"] != 0]\n",
    "            df = df[df[\"反射率_w\"] != 0]\n",
    "            df = df[df[\"反射率_p\"] != 0]\n",
    "            df = df[df[\"反射率_v\"] != 0]\n",
    "            df.to_csv(f'{save_dir}{num}_area{i}.csv', index=False)\n",
    "            print(\"エリアごとに保存しました.\")\n",
    "        else:\n",
    "            print(\"保存された座標が見つかりませんでした.\")\n",
    "        plt.clf()"
   ]
  },
  {
   "cell_type": "code",
   "execution_count": 143,
   "metadata": {},
   "outputs": [
    {
     "name": "stdout",
     "output_type": "stream",
     "text": [
      "20050917\n",
      "../output_preprocess/20050917/reflectance\n"
     ]
    },
    {
     "name": "stderr",
     "output_type": "stream",
     "text": [
      "/var/folders/pn/4j96z_ys4717vknhfxzddr900000gp/T/ipykernel_46617/308363484.py:21: RuntimeWarning: divide by zero encountered in divide\n",
      "  result.append((((data[i] / t[i])) / base) * rad * scale_factor[i])\n",
      "/var/folders/pn/4j96z_ys4717vknhfxzddr900000gp/T/ipykernel_46617/308363484.py:21: RuntimeWarning: invalid value encountered in divide\n",
      "  result.append((((data[i] / t[i])) / base) * rad * scale_factor[i])\n"
     ]
    },
    {
     "name": "stdout",
     "output_type": "stream",
     "text": [
      "エリアごとに保存しました.\n",
      "20050918\n",
      "../output_preprocess/20050918/reflectance\n"
     ]
    },
    {
     "name": "stderr",
     "output_type": "stream",
     "text": [
      "/var/folders/pn/4j96z_ys4717vknhfxzddr900000gp/T/ipykernel_46617/308363484.py:21: RuntimeWarning: divide by zero encountered in divide\n",
      "  result.append((((data[i] / t[i])) / base) * rad * scale_factor[i])\n",
      "/var/folders/pn/4j96z_ys4717vknhfxzddr900000gp/T/ipykernel_46617/308363484.py:21: RuntimeWarning: invalid value encountered in divide\n",
      "  result.append((((data[i] / t[i])) / base) * rad * scale_factor[i])\n"
     ]
    },
    {
     "name": "stdout",
     "output_type": "stream",
     "text": [
      "エリアごとに保存しました.\n",
      "20050919\n",
      "../output_preprocess/20050919/reflectance\n"
     ]
    },
    {
     "name": "stderr",
     "output_type": "stream",
     "text": [
      "/var/folders/pn/4j96z_ys4717vknhfxzddr900000gp/T/ipykernel_46617/308363484.py:21: RuntimeWarning: divide by zero encountered in divide\n",
      "  result.append((((data[i] / t[i])) / base) * rad * scale_factor[i])\n",
      "/var/folders/pn/4j96z_ys4717vknhfxzddr900000gp/T/ipykernel_46617/308363484.py:21: RuntimeWarning: invalid value encountered in divide\n",
      "  result.append((((data[i] / t[i])) / base) * rad * scale_factor[i])\n"
     ]
    },
    {
     "name": "stdout",
     "output_type": "stream",
     "text": [
      "エリアごとに保存しました.\n",
      "20050921\n",
      "../output_preprocess/20050921/reflectance\n"
     ]
    },
    {
     "name": "stderr",
     "output_type": "stream",
     "text": [
      "/var/folders/pn/4j96z_ys4717vknhfxzddr900000gp/T/ipykernel_46617/308363484.py:21: RuntimeWarning: divide by zero encountered in divide\n",
      "  result.append((((data[i] / t[i])) / base) * rad * scale_factor[i])\n",
      "/var/folders/pn/4j96z_ys4717vknhfxzddr900000gp/T/ipykernel_46617/308363484.py:21: RuntimeWarning: invalid value encountered in divide\n",
      "  result.append((((data[i] / t[i])) / base) * rad * scale_factor[i])\n"
     ]
    },
    {
     "name": "stdout",
     "output_type": "stream",
     "text": [
      "エリアごとに保存しました.\n",
      "../output_preprocess/20050921/reflectance\n"
     ]
    },
    {
     "name": "stderr",
     "output_type": "stream",
     "text": [
      "/var/folders/pn/4j96z_ys4717vknhfxzddr900000gp/T/ipykernel_46617/308363484.py:21: RuntimeWarning: divide by zero encountered in divide\n",
      "  result.append((((data[i] / t[i])) / base) * rad * scale_factor[i])\n",
      "/var/folders/pn/4j96z_ys4717vknhfxzddr900000gp/T/ipykernel_46617/308363484.py:21: RuntimeWarning: invalid value encountered in divide\n",
      "  result.append((((data[i] / t[i])) / base) * rad * scale_factor[i])\n"
     ]
    },
    {
     "name": "stdout",
     "output_type": "stream",
     "text": [
      "エリアごとに保存しました.\n",
      "20050923\n",
      "../output_preprocess/20050923/reflectance\n"
     ]
    },
    {
     "name": "stderr",
     "output_type": "stream",
     "text": [
      "/var/folders/pn/4j96z_ys4717vknhfxzddr900000gp/T/ipykernel_46617/308363484.py:21: RuntimeWarning: divide by zero encountered in divide\n",
      "  result.append((((data[i] / t[i])) / base) * rad * scale_factor[i])\n",
      "/var/folders/pn/4j96z_ys4717vknhfxzddr900000gp/T/ipykernel_46617/308363484.py:21: RuntimeWarning: invalid value encountered in divide\n",
      "  result.append((((data[i] / t[i])) / base) * rad * scale_factor[i])\n"
     ]
    },
    {
     "name": "stdout",
     "output_type": "stream",
     "text": [
      "エリアごとに保存しました.\n",
      "../output_preprocess/20050923/reflectance\n"
     ]
    },
    {
     "name": "stderr",
     "output_type": "stream",
     "text": [
      "/var/folders/pn/4j96z_ys4717vknhfxzddr900000gp/T/ipykernel_46617/308363484.py:21: RuntimeWarning: divide by zero encountered in divide\n",
      "  result.append((((data[i] / t[i])) / base) * rad * scale_factor[i])\n",
      "/var/folders/pn/4j96z_ys4717vknhfxzddr900000gp/T/ipykernel_46617/308363484.py:21: RuntimeWarning: invalid value encountered in divide\n",
      "  result.append((((data[i] / t[i])) / base) * rad * scale_factor[i])\n"
     ]
    },
    {
     "name": "stdout",
     "output_type": "stream",
     "text": [
      "エリアごとに保存しました.\n",
      "../output_preprocess/20050923/reflectance\n"
     ]
    },
    {
     "name": "stderr",
     "output_type": "stream",
     "text": [
      "/var/folders/pn/4j96z_ys4717vknhfxzddr900000gp/T/ipykernel_46617/308363484.py:21: RuntimeWarning: divide by zero encountered in divide\n",
      "  result.append((((data[i] / t[i])) / base) * rad * scale_factor[i])\n",
      "/var/folders/pn/4j96z_ys4717vknhfxzddr900000gp/T/ipykernel_46617/308363484.py:21: RuntimeWarning: invalid value encountered in divide\n",
      "  result.append((((data[i] / t[i])) / base) * rad * scale_factor[i])\n"
     ]
    },
    {
     "name": "stdout",
     "output_type": "stream",
     "text": [
      "エリアごとに保存しました.\n",
      "../output_preprocess/20050923/reflectance\n"
     ]
    },
    {
     "name": "stderr",
     "output_type": "stream",
     "text": [
      "/var/folders/pn/4j96z_ys4717vknhfxzddr900000gp/T/ipykernel_46617/308363484.py:21: RuntimeWarning: divide by zero encountered in divide\n",
      "  result.append((((data[i] / t[i])) / base) * rad * scale_factor[i])\n",
      "/var/folders/pn/4j96z_ys4717vknhfxzddr900000gp/T/ipykernel_46617/308363484.py:21: RuntimeWarning: invalid value encountered in divide\n",
      "  result.append((((data[i] / t[i])) / base) * rad * scale_factor[i])\n"
     ]
    },
    {
     "name": "stdout",
     "output_type": "stream",
     "text": [
      "エリアごとに保存しました.\n",
      "../output_preprocess/20050923/reflectance\n"
     ]
    },
    {
     "name": "stderr",
     "output_type": "stream",
     "text": [
      "/var/folders/pn/4j96z_ys4717vknhfxzddr900000gp/T/ipykernel_46617/308363484.py:21: RuntimeWarning: divide by zero encountered in divide\n",
      "  result.append((((data[i] / t[i])) / base) * rad * scale_factor[i])\n",
      "/var/folders/pn/4j96z_ys4717vknhfxzddr900000gp/T/ipykernel_46617/308363484.py:21: RuntimeWarning: invalid value encountered in divide\n",
      "  result.append((((data[i] / t[i])) / base) * rad * scale_factor[i])\n"
     ]
    },
    {
     "name": "stdout",
     "output_type": "stream",
     "text": [
      "エリアごとに保存しました.\n",
      "../output_preprocess/20050923/reflectance\n"
     ]
    },
    {
     "name": "stderr",
     "output_type": "stream",
     "text": [
      "/var/folders/pn/4j96z_ys4717vknhfxzddr900000gp/T/ipykernel_46617/308363484.py:21: RuntimeWarning: divide by zero encountered in divide\n",
      "  result.append((((data[i] / t[i])) / base) * rad * scale_factor[i])\n",
      "/var/folders/pn/4j96z_ys4717vknhfxzddr900000gp/T/ipykernel_46617/308363484.py:21: RuntimeWarning: invalid value encountered in divide\n",
      "  result.append((((data[i] / t[i])) / base) * rad * scale_factor[i])\n"
     ]
    },
    {
     "name": "stdout",
     "output_type": "stream",
     "text": [
      "エリアごとに保存しました.\n",
      "../output_preprocess/20050923/reflectance\n"
     ]
    },
    {
     "name": "stderr",
     "output_type": "stream",
     "text": [
      "/var/folders/pn/4j96z_ys4717vknhfxzddr900000gp/T/ipykernel_46617/308363484.py:21: RuntimeWarning: divide by zero encountered in divide\n",
      "  result.append((((data[i] / t[i])) / base) * rad * scale_factor[i])\n",
      "/var/folders/pn/4j96z_ys4717vknhfxzddr900000gp/T/ipykernel_46617/308363484.py:21: RuntimeWarning: invalid value encountered in divide\n",
      "  result.append((((data[i] / t[i])) / base) * rad * scale_factor[i])\n"
     ]
    },
    {
     "name": "stdout",
     "output_type": "stream",
     "text": [
      "エリアごとに保存しました.\n",
      "20050924\n",
      "../output_preprocess/20050924/reflectance\n"
     ]
    },
    {
     "name": "stderr",
     "output_type": "stream",
     "text": [
      "/var/folders/pn/4j96z_ys4717vknhfxzddr900000gp/T/ipykernel_46617/308363484.py:21: RuntimeWarning: divide by zero encountered in divide\n",
      "  result.append((((data[i] / t[i])) / base) * rad * scale_factor[i])\n",
      "/var/folders/pn/4j96z_ys4717vknhfxzddr900000gp/T/ipykernel_46617/308363484.py:21: RuntimeWarning: invalid value encountered in divide\n",
      "  result.append((((data[i] / t[i])) / base) * rad * scale_factor[i])\n"
     ]
    },
    {
     "name": "stdout",
     "output_type": "stream",
     "text": [
      "エリアごとに保存しました.\n",
      "../output_preprocess/20050924/reflectance\n"
     ]
    },
    {
     "name": "stderr",
     "output_type": "stream",
     "text": [
      "/var/folders/pn/4j96z_ys4717vknhfxzddr900000gp/T/ipykernel_46617/308363484.py:21: RuntimeWarning: divide by zero encountered in divide\n",
      "  result.append((((data[i] / t[i])) / base) * rad * scale_factor[i])\n",
      "/var/folders/pn/4j96z_ys4717vknhfxzddr900000gp/T/ipykernel_46617/308363484.py:21: RuntimeWarning: invalid value encountered in divide\n",
      "  result.append((((data[i] / t[i])) / base) * rad * scale_factor[i])\n"
     ]
    },
    {
     "name": "stdout",
     "output_type": "stream",
     "text": [
      "エリアごとに保存しました.\n",
      "../output_preprocess/20050924/reflectance\n"
     ]
    },
    {
     "name": "stderr",
     "output_type": "stream",
     "text": [
      "/var/folders/pn/4j96z_ys4717vknhfxzddr900000gp/T/ipykernel_46617/308363484.py:21: RuntimeWarning: divide by zero encountered in divide\n",
      "  result.append((((data[i] / t[i])) / base) * rad * scale_factor[i])\n",
      "/var/folders/pn/4j96z_ys4717vknhfxzddr900000gp/T/ipykernel_46617/308363484.py:21: RuntimeWarning: invalid value encountered in divide\n",
      "  result.append((((data[i] / t[i])) / base) * rad * scale_factor[i])\n"
     ]
    },
    {
     "name": "stdout",
     "output_type": "stream",
     "text": [
      "エリアごとに保存しました.\n",
      "../output_preprocess/20050924/reflectance\n"
     ]
    },
    {
     "name": "stderr",
     "output_type": "stream",
     "text": [
      "/var/folders/pn/4j96z_ys4717vknhfxzddr900000gp/T/ipykernel_46617/308363484.py:21: RuntimeWarning: divide by zero encountered in divide\n",
      "  result.append((((data[i] / t[i])) / base) * rad * scale_factor[i])\n",
      "/var/folders/pn/4j96z_ys4717vknhfxzddr900000gp/T/ipykernel_46617/308363484.py:21: RuntimeWarning: invalid value encountered in divide\n",
      "  result.append((((data[i] / t[i])) / base) * rad * scale_factor[i])\n"
     ]
    },
    {
     "name": "stdout",
     "output_type": "stream",
     "text": [
      "エリアごとに保存しました.\n",
      "../output_preprocess/20050924/reflectance\n"
     ]
    },
    {
     "name": "stderr",
     "output_type": "stream",
     "text": [
      "/var/folders/pn/4j96z_ys4717vknhfxzddr900000gp/T/ipykernel_46617/308363484.py:21: RuntimeWarning: divide by zero encountered in divide\n",
      "  result.append((((data[i] / t[i])) / base) * rad * scale_factor[i])\n",
      "/var/folders/pn/4j96z_ys4717vknhfxzddr900000gp/T/ipykernel_46617/308363484.py:21: RuntimeWarning: invalid value encountered in divide\n",
      "  result.append((((data[i] / t[i])) / base) * rad * scale_factor[i])\n"
     ]
    },
    {
     "name": "stdout",
     "output_type": "stream",
     "text": [
      "エリアごとに保存しました.\n",
      "../output_preprocess/20050924/reflectance\n"
     ]
    },
    {
     "name": "stderr",
     "output_type": "stream",
     "text": [
      "/var/folders/pn/4j96z_ys4717vknhfxzddr900000gp/T/ipykernel_46617/308363484.py:21: RuntimeWarning: divide by zero encountered in divide\n",
      "  result.append((((data[i] / t[i])) / base) * rad * scale_factor[i])\n",
      "/var/folders/pn/4j96z_ys4717vknhfxzddr900000gp/T/ipykernel_46617/308363484.py:21: RuntimeWarning: invalid value encountered in divide\n",
      "  result.append((((data[i] / t[i])) / base) * rad * scale_factor[i])\n"
     ]
    },
    {
     "name": "stdout",
     "output_type": "stream",
     "text": [
      "エリアごとに保存しました.\n",
      "../output_preprocess/20050924/reflectance\n"
     ]
    },
    {
     "name": "stderr",
     "output_type": "stream",
     "text": [
      "/var/folders/pn/4j96z_ys4717vknhfxzddr900000gp/T/ipykernel_46617/308363484.py:21: RuntimeWarning: divide by zero encountered in divide\n",
      "  result.append((((data[i] / t[i])) / base) * rad * scale_factor[i])\n",
      "/var/folders/pn/4j96z_ys4717vknhfxzddr900000gp/T/ipykernel_46617/308363484.py:21: RuntimeWarning: invalid value encountered in divide\n",
      "  result.append((((data[i] / t[i])) / base) * rad * scale_factor[i])\n"
     ]
    },
    {
     "name": "stdout",
     "output_type": "stream",
     "text": [
      "エリアごとに保存しました.\n",
      "../output_preprocess/20050924/reflectance\n"
     ]
    },
    {
     "name": "stderr",
     "output_type": "stream",
     "text": [
      "/var/folders/pn/4j96z_ys4717vknhfxzddr900000gp/T/ipykernel_46617/308363484.py:21: RuntimeWarning: divide by zero encountered in divide\n",
      "  result.append((((data[i] / t[i])) / base) * rad * scale_factor[i])\n",
      "/var/folders/pn/4j96z_ys4717vknhfxzddr900000gp/T/ipykernel_46617/308363484.py:21: RuntimeWarning: invalid value encountered in divide\n",
      "  result.append((((data[i] / t[i])) / base) * rad * scale_factor[i])\n"
     ]
    },
    {
     "name": "stdout",
     "output_type": "stream",
     "text": [
      "エリアごとに保存しました.\n",
      "../output_preprocess/20050924/reflectance\n"
     ]
    },
    {
     "name": "stderr",
     "output_type": "stream",
     "text": [
      "/var/folders/pn/4j96z_ys4717vknhfxzddr900000gp/T/ipykernel_46617/308363484.py:21: RuntimeWarning: divide by zero encountered in divide\n",
      "  result.append((((data[i] / t[i])) / base) * rad * scale_factor[i])\n",
      "/var/folders/pn/4j96z_ys4717vknhfxzddr900000gp/T/ipykernel_46617/308363484.py:21: RuntimeWarning: invalid value encountered in divide\n",
      "  result.append((((data[i] / t[i])) / base) * rad * scale_factor[i])\n"
     ]
    },
    {
     "name": "stdout",
     "output_type": "stream",
     "text": [
      "エリアごとに保存しました.\n",
      "20050925\n",
      "../output_preprocess/20050925/reflectance\n"
     ]
    },
    {
     "name": "stderr",
     "output_type": "stream",
     "text": [
      "/var/folders/pn/4j96z_ys4717vknhfxzddr900000gp/T/ipykernel_46617/308363484.py:21: RuntimeWarning: divide by zero encountered in divide\n",
      "  result.append((((data[i] / t[i])) / base) * rad * scale_factor[i])\n",
      "/var/folders/pn/4j96z_ys4717vknhfxzddr900000gp/T/ipykernel_46617/308363484.py:21: RuntimeWarning: invalid value encountered in divide\n",
      "  result.append((((data[i] / t[i])) / base) * rad * scale_factor[i])\n"
     ]
    },
    {
     "name": "stdout",
     "output_type": "stream",
     "text": [
      "エリアごとに保存しました.\n",
      "../output_preprocess/20050925/reflectance\n"
     ]
    },
    {
     "name": "stderr",
     "output_type": "stream",
     "text": [
      "/var/folders/pn/4j96z_ys4717vknhfxzddr900000gp/T/ipykernel_46617/308363484.py:21: RuntimeWarning: divide by zero encountered in divide\n",
      "  result.append((((data[i] / t[i])) / base) * rad * scale_factor[i])\n",
      "/var/folders/pn/4j96z_ys4717vknhfxzddr900000gp/T/ipykernel_46617/308363484.py:21: RuntimeWarning: invalid value encountered in divide\n",
      "  result.append((((data[i] / t[i])) / base) * rad * scale_factor[i])\n"
     ]
    },
    {
     "name": "stdout",
     "output_type": "stream",
     "text": [
      "エリアごとに保存しました.\n",
      "20050929\n",
      "../output_preprocess/20050929/reflectance\n"
     ]
    },
    {
     "name": "stderr",
     "output_type": "stream",
     "text": [
      "/var/folders/pn/4j96z_ys4717vknhfxzddr900000gp/T/ipykernel_46617/308363484.py:21: RuntimeWarning: divide by zero encountered in divide\n",
      "  result.append((((data[i] / t[i])) / base) * rad * scale_factor[i])\n",
      "/var/folders/pn/4j96z_ys4717vknhfxzddr900000gp/T/ipykernel_46617/308363484.py:21: RuntimeWarning: invalid value encountered in divide\n",
      "  result.append((((data[i] / t[i])) / base) * rad * scale_factor[i])\n"
     ]
    },
    {
     "name": "stdout",
     "output_type": "stream",
     "text": [
      "エリアごとに保存しました.\n",
      "20051013\n",
      "20051014\n",
      "20051016\n",
      "../output_preprocess/20051016/reflectance\n"
     ]
    },
    {
     "name": "stderr",
     "output_type": "stream",
     "text": [
      "/var/folders/pn/4j96z_ys4717vknhfxzddr900000gp/T/ipykernel_46617/308363484.py:21: RuntimeWarning: divide by zero encountered in divide\n",
      "  result.append((((data[i] / t[i])) / base) * rad * scale_factor[i])\n",
      "/var/folders/pn/4j96z_ys4717vknhfxzddr900000gp/T/ipykernel_46617/308363484.py:21: RuntimeWarning: invalid value encountered in divide\n",
      "  result.append((((data[i] / t[i])) / base) * rad * scale_factor[i])\n"
     ]
    },
    {
     "name": "stdout",
     "output_type": "stream",
     "text": [
      "エリアごとに保存しました.\n",
      "20051019\n",
      "../output_preprocess/20051019/reflectance\n"
     ]
    },
    {
     "name": "stderr",
     "output_type": "stream",
     "text": [
      "/var/folders/pn/4j96z_ys4717vknhfxzddr900000gp/T/ipykernel_46617/308363484.py:21: RuntimeWarning: divide by zero encountered in divide\n",
      "  result.append((((data[i] / t[i])) / base) * rad * scale_factor[i])\n",
      "/var/folders/pn/4j96z_ys4717vknhfxzddr900000gp/T/ipykernel_46617/308363484.py:21: RuntimeWarning: invalid value encountered in divide\n",
      "  result.append((((data[i] / t[i])) / base) * rad * scale_factor[i])\n"
     ]
    },
    {
     "name": "stdout",
     "output_type": "stream",
     "text": [
      "エリアごとに保存しました.\n",
      "../output_preprocess/20051019/reflectance\n"
     ]
    },
    {
     "name": "stderr",
     "output_type": "stream",
     "text": [
      "/var/folders/pn/4j96z_ys4717vknhfxzddr900000gp/T/ipykernel_46617/308363484.py:21: RuntimeWarning: divide by zero encountered in divide\n",
      "  result.append((((data[i] / t[i])) / base) * rad * scale_factor[i])\n",
      "/var/folders/pn/4j96z_ys4717vknhfxzddr900000gp/T/ipykernel_46617/308363484.py:21: RuntimeWarning: invalid value encountered in divide\n",
      "  result.append((((data[i] / t[i])) / base) * rad * scale_factor[i])\n"
     ]
    },
    {
     "name": "stdout",
     "output_type": "stream",
     "text": [
      "エリアごとに保存しました.\n",
      "20051024\n",
      "../output_preprocess/20051024/reflectance\n"
     ]
    },
    {
     "name": "stderr",
     "output_type": "stream",
     "text": [
      "/var/folders/pn/4j96z_ys4717vknhfxzddr900000gp/T/ipykernel_46617/308363484.py:21: RuntimeWarning: divide by zero encountered in divide\n",
      "  result.append((((data[i] / t[i])) / base) * rad * scale_factor[i])\n",
      "/var/folders/pn/4j96z_ys4717vknhfxzddr900000gp/T/ipykernel_46617/308363484.py:21: RuntimeWarning: invalid value encountered in divide\n",
      "  result.append((((data[i] / t[i])) / base) * rad * scale_factor[i])\n"
     ]
    },
    {
     "name": "stdout",
     "output_type": "stream",
     "text": [
      "エリアごとに保存しました.\n",
      "../output_preprocess/20051024/reflectance\n"
     ]
    },
    {
     "name": "stderr",
     "output_type": "stream",
     "text": [
      "/var/folders/pn/4j96z_ys4717vknhfxzddr900000gp/T/ipykernel_46617/308363484.py:21: RuntimeWarning: divide by zero encountered in divide\n",
      "  result.append((((data[i] / t[i])) / base) * rad * scale_factor[i])\n",
      "/var/folders/pn/4j96z_ys4717vknhfxzddr900000gp/T/ipykernel_46617/308363484.py:21: RuntimeWarning: invalid value encountered in divide\n",
      "  result.append((((data[i] / t[i])) / base) * rad * scale_factor[i])\n"
     ]
    },
    {
     "name": "stdout",
     "output_type": "stream",
     "text": [
      "エリアごとに保存しました.\n",
      "20051025\n",
      "../output_preprocess/20051025/reflectance\n"
     ]
    },
    {
     "name": "stderr",
     "output_type": "stream",
     "text": [
      "/var/folders/pn/4j96z_ys4717vknhfxzddr900000gp/T/ipykernel_46617/308363484.py:21: RuntimeWarning: divide by zero encountered in divide\n",
      "  result.append((((data[i] / t[i])) / base) * rad * scale_factor[i])\n",
      "/var/folders/pn/4j96z_ys4717vknhfxzddr900000gp/T/ipykernel_46617/308363484.py:21: RuntimeWarning: invalid value encountered in divide\n",
      "  result.append((((data[i] / t[i])) / base) * rad * scale_factor[i])\n"
     ]
    },
    {
     "name": "stdout",
     "output_type": "stream",
     "text": [
      "エリアごとに保存しました.\n",
      "../output_preprocess/20051025/reflectance\n"
     ]
    },
    {
     "name": "stderr",
     "output_type": "stream",
     "text": [
      "/var/folders/pn/4j96z_ys4717vknhfxzddr900000gp/T/ipykernel_46617/308363484.py:21: RuntimeWarning: divide by zero encountered in divide\n",
      "  result.append((((data[i] / t[i])) / base) * rad * scale_factor[i])\n",
      "/var/folders/pn/4j96z_ys4717vknhfxzddr900000gp/T/ipykernel_46617/308363484.py:21: RuntimeWarning: invalid value encountered in divide\n",
      "  result.append((((data[i] / t[i])) / base) * rad * scale_factor[i])\n"
     ]
    },
    {
     "name": "stdout",
     "output_type": "stream",
     "text": [
      "エリアごとに保存しました.\n",
      "../output_preprocess/20051025/reflectance\n"
     ]
    },
    {
     "name": "stderr",
     "output_type": "stream",
     "text": [
      "/var/folders/pn/4j96z_ys4717vknhfxzddr900000gp/T/ipykernel_46617/308363484.py:21: RuntimeWarning: divide by zero encountered in divide\n",
      "  result.append((((data[i] / t[i])) / base) * rad * scale_factor[i])\n",
      "/var/folders/pn/4j96z_ys4717vknhfxzddr900000gp/T/ipykernel_46617/308363484.py:21: RuntimeWarning: invalid value encountered in divide\n",
      "  result.append((((data[i] / t[i])) / base) * rad * scale_factor[i])\n"
     ]
    },
    {
     "name": "stdout",
     "output_type": "stream",
     "text": [
      "エリアごとに保存しました.\n",
      "../output_preprocess/20051025/reflectance\n"
     ]
    },
    {
     "name": "stderr",
     "output_type": "stream",
     "text": [
      "/var/folders/pn/4j96z_ys4717vknhfxzddr900000gp/T/ipykernel_46617/308363484.py:21: RuntimeWarning: divide by zero encountered in divide\n",
      "  result.append((((data[i] / t[i])) / base) * rad * scale_factor[i])\n",
      "/var/folders/pn/4j96z_ys4717vknhfxzddr900000gp/T/ipykernel_46617/308363484.py:21: RuntimeWarning: invalid value encountered in divide\n",
      "  result.append((((data[i] / t[i])) / base) * rad * scale_factor[i])\n"
     ]
    },
    {
     "name": "stdout",
     "output_type": "stream",
     "text": [
      "エリアごとに保存しました.\n",
      "20051103\n",
      "20051104\n",
      "20051119\n",
      ".DS_Store\n"
     ]
    },
    {
     "data": {
      "text/plain": [
       "<Figure size 640x480 with 0 Axes>"
      ]
     },
     "metadata": {},
     "output_type": "display_data"
    }
   ],
   "source": [
    "base_directory = f\"../output_preprocess/\"\n",
    "for directory in sorted(os.listdir(base_directory),key = natural_keys):\n",
    "    print(directory)\n",
    "    if \"2005\" in directory:\n",
    "        image_dir = f\"../output_preprocess/{directory}/registration/\"\n",
    "        image_files = sorted(glob.glob(os.path.join(image_dir, \"*.fits\")))\n",
    "\n",
    "        batch_size = 4\n",
    "\n",
    "        image_batches = split_images(image_files, batch_size)\n",
    "        for i, images in enumerate(image_batches):\n",
    "            calc(images, directory, i)"
   ]
  },
  {
   "cell_type": "code",
   "execution_count": 17,
   "metadata": {},
   "outputs": [
    {
     "name": "stdout",
     "output_type": "stream",
     "text": [
      "['../output_preprocess/20050923/registration/cor2_st_2400804147_b_reg_.fits', '../output_preprocess/20050923/registration/cor2_st_2400810032_v_reg_.fits', '../output_preprocess/20050923/registration/cor2_st_2400829139_w_reg_.fits', '../output_preprocess/20050923/registration/cor2_st_2400834959_p_reg_.fits']\n",
      "../output_preprocess/20050923/reflectance\n"
     ]
    },
    {
     "name": "stderr",
     "output_type": "stream",
     "text": [
      "/var/folders/pn/4j96z_ys4717vknhfxzddr900000gp/T/ipykernel_46617/308363484.py:21: RuntimeWarning: divide by zero encountered in divide\n",
      "  result.append((((data[i] / t[i])) / base) * rad * scale_factor[i])\n",
      "/var/folders/pn/4j96z_ys4717vknhfxzddr900000gp/T/ipykernel_46617/308363484.py:21: RuntimeWarning: invalid value encountered in divide\n",
      "  result.append((((data[i] / t[i])) / base) * rad * scale_factor[i])\n"
     ]
    },
    {
     "name": "stdout",
     "output_type": "stream",
     "text": [
      "エリアごとに保存しました.\n",
      "../output_preprocess/20050923/reflectance\n"
     ]
    },
    {
     "name": "stderr",
     "output_type": "stream",
     "text": [
      "/var/folders/pn/4j96z_ys4717vknhfxzddr900000gp/T/ipykernel_46617/308363484.py:21: RuntimeWarning: divide by zero encountered in divide\n",
      "  result.append((((data[i] / t[i])) / base) * rad * scale_factor[i])\n",
      "/var/folders/pn/4j96z_ys4717vknhfxzddr900000gp/T/ipykernel_46617/308363484.py:21: RuntimeWarning: invalid value encountered in divide\n",
      "  result.append((((data[i] / t[i])) / base) * rad * scale_factor[i])\n"
     ]
    },
    {
     "name": "stdout",
     "output_type": "stream",
     "text": [
      "エリアごとに保存しました.\n",
      "../output_preprocess/20050923/reflectance\n",
      "保存された座標が見つかりませんでした.\n"
     ]
    },
    {
     "name": "stderr",
     "output_type": "stream",
     "text": [
      "/var/folders/pn/4j96z_ys4717vknhfxzddr900000gp/T/ipykernel_46617/308363484.py:21: RuntimeWarning: divide by zero encountered in divide\n",
      "  result.append((((data[i] / t[i])) / base) * rad * scale_factor[i])\n",
      "/var/folders/pn/4j96z_ys4717vknhfxzddr900000gp/T/ipykernel_46617/308363484.py:21: RuntimeWarning: invalid value encountered in divide\n",
      "  result.append((((data[i] / t[i])) / base) * rad * scale_factor[i])\n"
     ]
    },
    {
     "ename": "TypeError",
     "evalue": "'>=' not supported between instances of 'int' and 'NoneType'",
     "output_type": "error",
     "traceback": [
      "\u001b[0;31m---------------------------------------------------------------------------\u001b[0m",
      "\u001b[0;31mTypeError\u001b[0m                                 Traceback (most recent call last)",
      "\u001b[1;32m/Users/m5261113/Documents/after_graduate2/preprocess/calc_mean_and_std.ipynb セル 11\u001b[0m line \u001b[0;36m1\n\u001b[1;32m      <a href='vscode-notebook-cell:/Users/m5261113/Documents/after_graduate2/preprocess/calc_mean_and_std.ipynb#X11sZmlsZQ%3D%3D?line=7'>8</a>\u001b[0m \u001b[39mprint\u001b[39m(image_batches[\u001b[39m0\u001b[39m])\n\u001b[1;32m      <a href='vscode-notebook-cell:/Users/m5261113/Documents/after_graduate2/preprocess/calc_mean_and_std.ipynb#X11sZmlsZQ%3D%3D?line=8'>9</a>\u001b[0m \u001b[39mfor\u001b[39;00m i, file_list \u001b[39min\u001b[39;00m \u001b[39menumerate\u001b[39m(image_batches):\n\u001b[0;32m---> <a href='vscode-notebook-cell:/Users/m5261113/Documents/after_graduate2/preprocess/calc_mean_and_std.ipynb#X11sZmlsZQ%3D%3D?line=9'>10</a>\u001b[0m     calc(file_list, target_dir, i)\n",
      "\u001b[1;32m/Users/m5261113/Documents/after_graduate2/preprocess/calc_mean_and_std.ipynb セル 11\u001b[0m line \u001b[0;36m9\n\u001b[1;32m      <a href='vscode-notebook-cell:/Users/m5261113/Documents/after_graduate2/preprocess/calc_mean_and_std.ipynb#X11sZmlsZQ%3D%3D?line=6'>7</a>\u001b[0m     images\u001b[39m.\u001b[39mappend(hdu\u001b[39m.\u001b[39mdata)\n\u001b[1;32m      <a href='vscode-notebook-cell:/Users/m5261113/Documents/after_graduate2/preprocess/calc_mean_and_std.ipynb#X11sZmlsZQ%3D%3D?line=7'>8</a>\u001b[0m \u001b[39m# 条件を満たす座標を探す\u001b[39;00m\n\u001b[0;32m----> <a href='vscode-notebook-cell:/Users/m5261113/Documents/after_graduate2/preprocess/calc_mean_and_std.ipynb#X11sZmlsZQ%3D%3D?line=8'>9</a>\u001b[0m coordinates_list, above_coordinates_list \u001b[39m=\u001b[39m find_coordinates(images[\u001b[39m0\u001b[39m], images[\u001b[39m3\u001b[39m])\n\u001b[1;32m     <a href='vscode-notebook-cell:/Users/m5261113/Documents/after_graduate2/preprocess/calc_mean_and_std.ipynb#X11sZmlsZQ%3D%3D?line=9'>10</a>\u001b[0m reflectances \u001b[39m=\u001b[39m DN2reflectance(image_filelist)\n\u001b[1;32m     <a href='vscode-notebook-cell:/Users/m5261113/Documents/after_graduate2/preprocess/calc_mean_and_std.ipynb#X11sZmlsZQ%3D%3D?line=10'>11</a>\u001b[0m data \u001b[39m=\u001b[39m []\n",
      "\u001b[1;32m/Users/m5261113/Documents/after_graduate2/preprocess/calc_mean_and_std.ipynb セル 11\u001b[0m line \u001b[0;36m3\n\u001b[1;32m     <a href='vscode-notebook-cell:/Users/m5261113/Documents/after_graduate2/preprocess/calc_mean_and_std.ipynb#X11sZmlsZQ%3D%3D?line=31'>32</a>\u001b[0m \u001b[39mfor\u001b[39;00m i \u001b[39min\u001b[39;00m \u001b[39mrange\u001b[39m(rows):\n\u001b[1;32m     <a href='vscode-notebook-cell:/Users/m5261113/Documents/after_graduate2/preprocess/calc_mean_and_std.ipynb#X11sZmlsZQ%3D%3D?line=32'>33</a>\u001b[0m     \u001b[39mfor\u001b[39;00m j \u001b[39min\u001b[39;00m \u001b[39mrange\u001b[39m(cols):\n\u001b[0;32m---> <a href='vscode-notebook-cell:/Users/m5261113/Documents/after_graduate2/preprocess/calc_mean_and_std.ipynb#X11sZmlsZQ%3D%3D?line=33'>34</a>\u001b[0m         \u001b[39mif\u001b[39;00m \u001b[39mnot\u001b[39;00m visited[i, j] \u001b[39mand\u001b[39;00m image1[i, j] \u001b[39m>\u001b[39m\u001b[39m=\u001b[39m thresh:\n\u001b[1;32m     <a href='vscode-notebook-cell:/Users/m5261113/Documents/after_graduate2/preprocess/calc_mean_and_std.ipynb#X11sZmlsZQ%3D%3D?line=34'>35</a>\u001b[0m             area_coordinates \u001b[39m=\u001b[39m explore_area(i, j, thresh)\n\u001b[1;32m     <a href='vscode-notebook-cell:/Users/m5261113/Documents/after_graduate2/preprocess/calc_mean_and_std.ipynb#X11sZmlsZQ%3D%3D?line=35'>36</a>\u001b[0m             \u001b[39mif\u001b[39;00m \u001b[39mlen\u001b[39m(area_coordinates) \u001b[39m>\u001b[39m\u001b[39m=\u001b[39m \u001b[39m100\u001b[39m:\n",
      "\u001b[0;31mTypeError\u001b[0m: '>=' not supported between instances of 'int' and 'NoneType'"
     ]
    },
    {
     "data": {
      "text/plain": [
       "<Figure size 640x480 with 0 Axes>"
      ]
     },
     "metadata": {},
     "output_type": "display_data"
    }
   ],
   "source": [
    "target_dir = \"20050923\"\n",
    "image_dir = f\"../output_preprocess/{target_dir}/registration/\"\n",
    "image_files = sorted(glob.glob(os.path.join(image_dir, \"*.fits\")))\n",
    "\n",
    "batch_size = 4\n",
    "\n",
    "image_batches = split_images(image_files, batch_size)\n",
    "print(image_batches[0])\n",
    "for i, file_list in enumerate(image_batches):\n",
    "    calc(file_list, target_dir, i)\n"
   ]
  },
  {
   "cell_type": "code",
   "execution_count": 35,
   "metadata": {},
   "outputs": [
    {
     "name": "stdout",
     "output_type": "stream",
     "text": [
      "['../output_preprocess/20051013/registration/cor1_st_2457157533_b_reg_.fits', '../output_preprocess/20051013/registration/cor1_st_2457161422_v_reg_.fits', '../output_preprocess/20051013/registration/cor1_st_2457165278_w_reg_.fits', '../output_preprocess/20051013/registration/cor1_st_2457169150_p_reg_.fits']\n",
      "[1025 1045 1075 1100 1120 1145 1155]\n",
      "1140\n"
     ]
    }
   ],
   "source": [
    "target_dir = \"20051013\"\n",
    "image_dir = f\"../output_preprocess/{target_dir}/registration/\"\n",
    "image_files = sorted(glob.glob(os.path.join(image_dir, \"*.fits\")))\n",
    "\n",
    "batch_size = 4\n",
    "\n",
    "image_batches = split_images(image_files, batch_size)\n",
    "print(image_batches[3])\n",
    "images= []\n",
    "for i, file_list in enumerate(image_batches[2]):\n",
    "    images.append(fits.getdata(file_list))\n",
    "image1 = images[0]\n",
    "image2 = images[3]\n",
    "coordinates_list = []\n",
    "above_threshold_coordinates = []\n",
    "rows, cols = image1.shape\n",
    "visited = np.zeros((rows, cols), dtype=bool)\n",
    "histogram, bin_edges = np.histogram(image1.flatten(), bins = 600, range = (1000, 4000))\n",
    "maxima_positions = signal.argrelmax(histogram.flatten(), order=1)[0]\n",
    "minima_positions = signal.argrelmin(histogram.flatten(), order=1)[0]\n",
    "print(((maxima_positions * 5) + 1000))\n",
    "place = np.argmax(histogram[maxima_positions])\n",
    "value = (maxima_positions[place] * 5) + 1000\n",
    "# thresh = find_greater_than_100_and_smallest_difference(value, (minima_positions * 5)+1000)\n",
    "thresh = min(filter(lambda x: x > value*1.1, (minima_positions * 5)+1000), key=lambda x: abs(value - x), default=None)\n",
    "print(thresh)\n",
    "\n",
    "def explore_area(i, j, threshold):\n",
    "    area_coordinates = []\n",
    "    stack = [(i, j)]\n",
    "\n",
    "    while stack:\n",
    "        current_i, current_j = stack.pop()\n",
    "        if not visited[current_i, current_j] and image1[current_i, current_j] >= threshold and image2[current_i, current_j] != 0:#before2300\n",
    "            visited[current_i, current_j] = True\n",
    "            area_coordinates.append((current_i, current_j))\n",
    "\n",
    "            # 近傍の未訪問ピクセルをスタックに追加\n",
    "            for ni in range(current_i - 1, current_i + 2):\n",
    "                for nj in range(current_j - 1, current_j + 2):\n",
    "                    if 0 <= ni < rows and 0 <= nj < cols and not visited[ni, nj] and image1[ni, nj] >= threshold and image2[current_i, current_j] != 0:\n",
    "                        stack.append((ni, nj))\n",
    "\n",
    "    return area_coordinates\n",
    "\n",
    "for i in range(rows):\n",
    "    for j in range(cols):\n",
    "        if not visited[i, j] and image1[i, j] >= thresh:\n",
    "            area_coordinates = explore_area(i, j, thresh)\n",
    "            if len(area_coordinates) >= 100:\n",
    "                coordinates_list.append(area_coordinates)\n",
    "\n",
    "for i in range(rows):\n",
    "    for j in range(cols):\n",
    "        if image1[i, j] > thresh and image2[i, j] != 0:\n",
    "            above_threshold_coordinates.append((i, j))\n"
   ]
  },
  {
   "cell_type": "code",
   "execution_count": 42,
   "metadata": {},
   "outputs": [],
   "source": [
    "hdu = fits.open(\"../output_preprocess/20051019/registration/cor2_st_2473318931_b_.fits\")[0]\n",
    "header = hdu.header\n"
   ]
  },
  {
   "cell_type": "code",
   "execution_count": 44,
   "metadata": {},
   "outputs": [
    {
     "name": "stdout",
     "output_type": "stream",
     "text": [
      "SIMPLE  =                    T / conforms to FITS standard                      BITPIX  =                  -64 / array data type                                NAXIS   =                    2 / number of array dimensions                     NAXIS1  =                  253                                                  NAXIS2  =                  255                                                  EXTEND  =                    T                                                  END                                                                                                                                                                                                                                                                                                                                                                                                                                                                                                                                                                                                                                                                                                                                                                                                                                                                                                                                                                                                                                                                                                                                                                                                                                                                                                                                                                                                                                                                                                                                                                                                                                                                                                                                                                                                                                                                                                                                                                                                                                                                                                                                                                                                                                                                                                                                                                                                                                                                                             \n"
     ]
    }
   ],
   "source": [
    "print(header)"
   ]
  },
  {
   "cell_type": "code",
   "execution_count": 85,
   "metadata": {},
   "outputs": [
    {
     "name": "stdout",
     "output_type": "stream",
     "text": [
      "最小の座標: (0, 1)\n",
      "最大の座標: (4, 5)\n"
     ]
    }
   ],
   "source": [
    "def find_min_max_coordinates(coordinates):\n",
    "    if not coordinates:\n",
    "        return None, None\n",
    "\n",
    "    min_x, min_y = float('inf'), float('inf')\n",
    "    max_x, max_y = float('-inf'), float('-inf')\n",
    "\n",
    "    for x, y in coordinates:\n",
    "        min_x = min(min_x, x)\n",
    "        min_y = min(min_y, y)\n",
    "        max_x = max(max_x, x)\n",
    "        max_y = max(max_y, y)\n",
    "\n",
    "    return (min_x, min_y), (max_x, max_y)\n",
    "\n",
    "# 仮の座標リスト\n",
    "coordinates = [(1, 3), (2, 5), (0, 2), (4, 1), (3, 4)]\n",
    "\n",
    "# 最小の座標と最大の座標を求める\n",
    "min_coord, max_coord = find_min_max_coordinates(coordinates)\n",
    "\n",
    "print(\"最小の座標:\", min_coord)\n",
    "print(\"最大の座標:\", max_coord)"
   ]
  },
  {
   "cell_type": "code",
   "execution_count": 144,
   "metadata": {},
   "outputs": [],
   "source": [
    "import pandas as pd\n",
    "\n",
    "# データフレームの作成\n",
    "df = pd.DataFrame({'列1': [1, 2, 3], '列2': ['A', 'B', 'C']})\n",
    "\n",
    "# 新しい行データと行ラベルを追加\n",
    "new_row_data = [4, 'D']\n",
    "new_row_label = '行4'\n",
    "\n",
    "# 新しい行を追加\n",
    "df.loc[new_row_label] = new_row_data\n"
   ]
  },
  {
   "cell_type": "code",
   "execution_count": 145,
   "metadata": {},
   "outputs": [
    {
     "data": {
      "text/html": [
       "<div>\n",
       "<style scoped>\n",
       "    .dataframe tbody tr th:only-of-type {\n",
       "        vertical-align: middle;\n",
       "    }\n",
       "\n",
       "    .dataframe tbody tr th {\n",
       "        vertical-align: top;\n",
       "    }\n",
       "\n",
       "    .dataframe thead th {\n",
       "        text-align: right;\n",
       "    }\n",
       "</style>\n",
       "<table border=\"1\" class=\"dataframe\">\n",
       "  <thead>\n",
       "    <tr style=\"text-align: right;\">\n",
       "      <th></th>\n",
       "      <th>列1</th>\n",
       "      <th>列2</th>\n",
       "    </tr>\n",
       "  </thead>\n",
       "  <tbody>\n",
       "    <tr>\n",
       "      <th>0</th>\n",
       "      <td>1</td>\n",
       "      <td>A</td>\n",
       "    </tr>\n",
       "    <tr>\n",
       "      <th>1</th>\n",
       "      <td>2</td>\n",
       "      <td>B</td>\n",
       "    </tr>\n",
       "    <tr>\n",
       "      <th>2</th>\n",
       "      <td>3</td>\n",
       "      <td>C</td>\n",
       "    </tr>\n",
       "    <tr>\n",
       "      <th>行4</th>\n",
       "      <td>4</td>\n",
       "      <td>D</td>\n",
       "    </tr>\n",
       "  </tbody>\n",
       "</table>\n",
       "</div>"
      ],
      "text/plain": [
       "    列1 列2\n",
       "0    1  A\n",
       "1    2  B\n",
       "2    3  C\n",
       "行4   4  D"
      ]
     },
     "execution_count": 145,
     "metadata": {},
     "output_type": "execute_result"
    }
   ],
   "source": [
    "df"
   ]
  }
 ],
 "metadata": {
  "kernelspec": {
   "display_name": "Python 3",
   "language": "python",
   "name": "python3"
  },
  "language_info": {
   "codemirror_mode": {
    "name": "ipython",
    "version": 3
   },
   "file_extension": ".py",
   "mimetype": "text/x-python",
   "name": "python",
   "nbconvert_exporter": "python",
   "pygments_lexer": "ipython3",
   "version": "3.11.5"
  },
  "orig_nbformat": 4
 },
 "nbformat": 4,
 "nbformat_minor": 2
}
