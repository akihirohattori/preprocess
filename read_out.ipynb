{
 "cells": [
  {
   "cell_type": "code",
   "execution_count": 3,
   "metadata": {},
   "outputs": [],
   "source": [
    "from astropy.io import fits\n",
    "import numpy as np\n",
    "import re\n",
    "from datetime import datetime"
   ]
  },
  {
   "cell_type": "code",
   "execution_count": 5,
   "metadata": {},
   "outputs": [],
   "source": [
    "smear_model = fits.open(\"../../gra/HAY_A_AMICA_3_HAYAMICA_V1_0/data/20051013/st_2456811983_w.fit\")[0]\n",
    "smear_modelh = smear_model.header\n",
    "smear_modeld = smear_model.data\n",
    "xs = smear_modelh[\"NAXIS1\"]\n",
    "ys = smear_modelh[\"NAXIS2\"]\n",
    "tEXP = smear_modelh[\"EXP_0\"]\n",
    "date = smear_modelh[\"UTC_0\"]\n",
    "date = re.split('[-T]',date)\n",
    "l_year = 2003\n",
    "l_month = 5\n",
    "l_day = 9\n",
    "l_date = datetime(l_year,l_month,l_day)\n",
    "\n",
    "year = int(date[0])\n",
    "month = int(date[1])\n",
    "day = int(date[2])\n",
    "date = datetime(year,month,day)\n",
    "days = date - l_date\n",
    "DAY = days.days"
   ]
  },
  {
   "cell_type": "code",
   "execution_count": 20,
   "metadata": {},
   "outputs": [
    {
     "name": "stdout",
     "output_type": "stream",
     "text": [
      "tEXP(0.0164) + tVCT = 12288.0164\n"
     ]
    }
   ],
   "source": [
    "time = tEXP + (12 * 1024)\n",
    "print(f\"tEXP({tEXP}) + tVCT = {time}\")"
   ]
  },
  {
   "cell_type": "code",
   "execution_count": 4,
   "metadata": {},
   "outputs": [],
   "source": [
    "def get_bias(DAY):\n",
    "    result = 0\n",
    "\n",
    "    B0 = 3.18 * pow(10,2)\n",
    "    B1 = -4.12 * pow(10,-2)\n",
    "    B2 = 2.00 * pow(10,-5)\n",
    "\n",
    "    result = B0 + (B1 * DAY) + (B2 * pow(DAY,2))\n",
    "\n",
    "    return result"
   ]
  },
  {
   "cell_type": "code",
   "execution_count": 21,
   "metadata": {},
   "outputs": [],
   "source": [
    "def get_smear(NV, NH, tEXP, Isky, data):\n",
    "    tVCT = 12 * 1024 * 10 ** -6#μs\n",
    "\n",
    "    result = np.zeros((NV,NH))\n",
    "    Ismear = np.zeros((NV,NH))\n",
    "\n",
    "    for H in range (NH):\n",
    "        Ismear[:,H] = 0\n",
    "        for V in range (NV):\n",
    "            Ismear[:,H] += (tVCT / (tVCT + tEXP)) * ((data[V,H] - Isky)/1024)\n",
    "        result[:,H] =data[:,H] - Ismear[:,H]\n",
    "        # print(Ismear,data[:,H] , \"result\",result[:,H] )\n",
    "\n",
    "    return result,Ismear\n",
    "bias = get_bias(DAY)\n",
    "bias_data = smear_modeld - bias\n",
    "\n",
    "result,Ismear = get_smear(xs, ys, tEXP, get_bias(DAY), bias_data)"
   ]
  },
  {
   "cell_type": "code",
   "execution_count": 22,
   "metadata": {},
   "outputs": [],
   "source": [
    "hdu = fits.PrimaryHDU(Ismear)\n",
    "hdulist = fits.HDUList([hdu])\n",
    "hdulist.writeto('smear_model10-6.fits',overwrite=True)"
   ]
  },
  {
   "cell_type": "code",
   "execution_count": 23,
   "metadata": {},
   "outputs": [],
   "source": [
    "hdu = fits.PrimaryHDU(result)\n",
    "hdulist = fits.HDUList([hdu])\n",
    "hdulist.writeto('readout10-6.fits',overwrite=True)"
   ]
  }
 ],
 "metadata": {
  "kernelspec": {
   "display_name": "Python 3",
   "language": "python",
   "name": "python3"
  },
  "language_info": {
   "codemirror_mode": {
    "name": "ipython",
    "version": 3
   },
   "file_extension": ".py",
   "mimetype": "text/x-python",
   "name": "python",
   "nbconvert_exporter": "python",
   "pygments_lexer": "ipython3",
   "version": "3.8.12"
  },
  "orig_nbformat": 4
 },
 "nbformat": 4,
 "nbformat_minor": 2
}
