{
 "cells": [
  {
   "cell_type": "code",
   "execution_count": 17,
   "metadata": {},
   "outputs": [],
   "source": [
    "from astropy.io import fits\n",
    "import numpy as np\n",
    "import matplotlib.pyplot as plt\n",
    "from astropy.convolution import convolve"
   ]
  },
  {
   "cell_type": "code",
   "execution_count": 2,
   "metadata": {},
   "outputs": [],
   "source": [
    "hdulist = fits.open(\"../../gra/HAY_A_AMICA_3_HAYAMICA_V1_0/data/20050929/st_2418807291_p.fit\")\n",
    "hdu = hdulist[0]\n",
    "data = hdu.data\n",
    "header = hdu.header\n",
    "\n",
    "filter = header[\"FILTER_0\"]"
   ]
  },
  {
   "cell_type": "code",
   "execution_count": 7,
   "metadata": {},
   "outputs": [
    {
     "name": "stdout",
     "output_type": "stream",
     "text": [
      "(1024, 1024)\n"
     ]
    }
   ],
   "source": [
    "conv_im = np.zeros((header[\"NAXIS1\"],header[\"NAXIS2\"]))\n",
    "Ai = {\"ul\":{\"1\":12.0,\"2\":8.0,\"3\":1.2,\"4\":1.0,\"5\":0.8,\"6\":0.7},\n",
    "      \"b\":{\"1\":10.0,\"2\":1.5,\"3\":0.3,\"4\":0.4,\"5\":0.4,\"6\":0.5},\n",
    "      \"v\":{\"1\":10.0,\"2\":1.5,\"3\":0.3,\"4\":0.4,\"5\":0.4,\"6\":0.5},\n",
    "      \"w\":{\"1\":10.0,\"2\":1.5,\"3\":0.6,\"4\":0.8,\"5\":0.7,\"6\":0.6},\n",
    "      \"x\":{\"1\":9.0,\"2\":3.5,\"3\":2.0,\"4\":2.7,\"5\":2.2,\"6\":0.5},\n",
    "      \"p\":{\"1\":10.0,\"2\":5.0,\"3\":8.3,\"4\":4.0,\"5\":6.4,\"6\":1.8},\n",
    "      \"zs\":{\"1\":50.0,\"2\":16.0,\"3\":6.0,\"4\":9.0,\"5\":9.5,\"6\":4.5}\n",
    "}\n",
    "filter_u=Ai[filter]\n",
    "sigma = [8,16,32,64,110,710]\n",
    "fufoc = np.zeros((header[\"NAXIS1\"],header[\"NAXIS2\"]))\n",
    "print(fufoc.shape)"
   ]
  },
  {
   "cell_type": "code",
   "execution_count": 13,
   "metadata": {},
   "outputs": [
    {
     "data": {
      "text/plain": [
       "<matplotlib.image.AxesImage at 0x7f88e9752130>"
      ]
     },
     "execution_count": 13,
     "metadata": {},
     "output_type": "execute_result"
    },
    {
     "data": {
      "image/png": "[encoded data removed]",
      "text/plain": [
       "<Figure size 432x288 with 1 Axes>"
      ]
     },
     "metadata": {
      "needs_background": "light"
     },
     "output_type": "display_data"
    }
   ],
   "source": [
    "#Calculate fufoc\n",
    "for x in range(header[\"NAXIS1\"]):\n",
    "    for y in range(header[\"NAXIS2\"]):\n",
    "        r = (np.sqrt(np.power(abs((header[\"NAXIS1\"]/2)-x),2)+np.power(abs((header[\"NAXIS2\"]/2)-y),2)))\n",
    "        #r = np.sqrt(np.power(x,2)+np.power(y,2))\n",
    "        for i in range(6):\n",
    "            num = str(i + 1)\n",
    "            fufoc[x][y] = fufoc[x][y] + ((filter_u[num]*np.power(10.,-4))/(np.sqrt(2*np.pi)*sigma[i]))*np.exp(-np.power(r,2)/(2*np.power(sigma[i],2)))\n",
    "\n",
    "fig, ax = plt.subplots()\n",
    "ax.imshow(fufoc)"
   ]
  },
  {
   "cell_type": "code",
   "execution_count": 14,
   "metadata": {},
   "outputs": [],
   "source": [
    "hdu = fits.PrimaryHDU(fufoc)\n",
    "hdulist = fits.HDUList([hdu])\n",
    "hdulist.writeto('fufoc.fit',overwrite=True)"
   ]
  },
  {
   "cell_type": "code",
   "execution_count": 21,
   "metadata": {},
   "outputs": [],
   "source": [
    "\n",
    "for x in range(header[\"NAXIS1\"]):\n",
    "    for y in range(header[\"NAXIS2\"]):\n",
    "        conv_im[x][y]=np.convolve(fufoc[x][y],data[x][y])\n"
   ]
  },
  {
   "cell_type": "code",
   "execution_count": 22,
   "metadata": {},
   "outputs": [
    {
     "data": {
      "text/plain": [
       "<matplotlib.image.AxesImage at 0x7f88ebcf75b0>"
      ]
     },
     "execution_count": 22,
     "metadata": {},
     "output_type": "execute_result"
    },
    {
     "data": {
      "image/png": "[encoded data removed]",
      "text/plain": [
       "<Figure size 432x288 with 1 Axes>"
      ]
     },
     "metadata": {
      "needs_background": "light"
     },
     "output_type": "display_data"
    }
   ],
   "source": [
    "fig, ax = plt.subplots()\n",
    "ax.imshow(conv_im)"
   ]
  }
 ],
 "metadata": {
  "kernelspec": {
   "display_name": "Python 3",
   "language": "python",
   "name": "python3"
  },
  "language_info": {
   "codemirror_mode": {
    "name": "ipython",
    "version": 3
   },
   "file_extension": ".py",
   "mimetype": "text/x-python",
   "name": "python",
   "nbconvert_exporter": "python",
   "pygments_lexer": "ipython3",
   "version": "3.8.12"
  },
  "orig_nbformat": 4
 },
 "nbformat": 4,
 "nbformat_minor": 2
}
