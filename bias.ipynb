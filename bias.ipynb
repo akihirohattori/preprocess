{
 "cells": [
  {
   "cell_type": "code",
   "execution_count": 12,
   "metadata": {},
   "outputs": [],
   "source": [
    "from astropy.io import fits\n",
    "import numpy as np\n",
    "import glob\n",
    "import os\n",
    "import pathlib\n",
    "import re\n",
    "from datetime import datetime"
   ]
  },
  {
   "cell_type": "code",
   "execution_count": 6,
   "metadata": {},
   "outputs": [
    {
     "data": {
      "text/plain": [
       "['2005', '09', '29', '15:10:23.']"
      ]
     },
     "execution_count": 6,
     "metadata": {},
     "output_type": "execute_result"
    }
   ],
   "source": [
    "hdulist = fits.open(\"../../gra/HAY_A_AMICA_3_HAYAMICA_V1_0/data/20050929/st_2418807291_p.fit\")  #itokawa\n",
    "hdu = hdulist[0]\n",
    "data = hdu.data\n",
    "header = hdu.header\n",
    "date = header[\"UTC_0\"]\n",
    "date = re.split('[-T]',date)\n",
    "\n",
    "date"
   ]
  },
  {
   "cell_type": "code",
   "execution_count": 13,
   "metadata": {},
   "outputs": [],
   "source": [
    "hdulist = fits.open(\"../../gra/HAY_A_AMICA_3_HAYAMICA_V1_0/data/20040517/st_1035463706_p.fit\") #moon\n",
    "hdu = hdulist[0]\n",
    "data = hdu.data\n",
    "header = hdu.header\n",
    "filt = header[\"FILTER_0\"]\n",
    "startH = header[\"START_H\"]\n",
    "startV = header[\"START_V\"]\n",
    "x_axis = header[\"NAXIS1\"]\n",
    "y_axis = header[\"NAXIS2\"]\n",
    "date = header[\"UTC_0\"]\n",
    "date = re.split('[-T]',date)"
   ]
  },
  {
   "cell_type": "code",
   "execution_count": 14,
   "metadata": {},
   "outputs": [],
   "source": [
    "l_year = 2003\n",
    "l_month = 5\n",
    "l_day = 9\n",
    "l_date = datetime(l_year,l_month,l_day)\n",
    "\n",
    "year = int(date[0])\n",
    "month = int(date[1])\n",
    "day = int(date[2])\n",
    "date = datetime(year,month,day)\n",
    "days = date - l_date\n",
    "DAY = days.days"
   ]
  },
  {
   "cell_type": "code",
   "execution_count": 15,
   "metadata": {},
   "outputs": [],
   "source": [
    "def get_bias(DAY):\n",
    "    result = 0\n",
    "\n",
    "    B0 = 3.18 * pow(10,2)\n",
    "    B1 = -4.12 * pow(10,-2)\n",
    "    B2 = 2.00 * pow(10,-5)\n",
    "\n",
    "    result = B0 + (B1 * DAY) + (B2 * pow(DAY,2))\n",
    "\n",
    "    return result\n",
    "\n",
    "def get_flat(filt):\n",
    "    result = 0\n",
    "    home_dir = os.path.expanduser(\"~\")\n",
    "    p = os.path.join(home_dir, \"Documents/gra/HAY_A_AMICA_3_HAYAMICA_V1_0/data/preflight\")\n",
    "    for f in glob.glob(p+\"/flat_\"+filt+\".fit\"):\n",
    "        result = fits.open(f)\n",
    "        result = result[0].data\n",
    "    return result\n",
    "def flat_cor(filt, data,startH,startV,x_axs,y_axs):\n",
    "    result = 0\n",
    "    flat_im = get_flat(filt)\n",
    "    \n",
    "    result = data/flat_im[startV:startV+y_axs,startH:startH+x_axs]\n",
    "\n",
    "    return result"
   ]
  },
  {
   "cell_type": "code",
   "execution_count": 16,
   "metadata": {},
   "outputs": [],
   "source": [
    "bias = get_bias(DAY)\n",
    "moon_bias = data - bias\n",
    "result = flat_cor(filt, moon_bias,startH,startV,x_axis,y_axis)\n",
    "hdu = fits.PrimaryHDU(result)\n",
    "hdulist = fits.HDUList([hdu])\n",
    "hdulist.writeto('flatbias_moon.fits',overwrite=True)"
   ]
  },
  {
   "cell_type": "code",
   "execution_count": 17,
   "metadata": {},
   "outputs": [
    {
     "name": "stdout",
     "output_type": "stream",
     "text": [
      "1000以上の値を持つ要素の平均: 819.7576625873696\n"
     ]
    }
   ],
   "source": [
    "# サンプルの配列を作成します（例としてランダムな数値を使用）\n",
    "array = moon_bias\n",
    "\n",
    "# 条件を満たす要素のみを選択します\n",
    "filtered_array = array[array >= 500]\n",
    "\n",
    "# 条件を満たす要素の平均を計算します\n",
    "average_above_1000 = np.mean(filtered_array)\n",
    "\n",
    "print(\"1000以上の値を持つ要素の平均:\", average_above_1000)"
   ]
  },
  {
   "cell_type": "code",
   "execution_count": null,
   "metadata": {},
   "outputs": [],
   "source": [
    "data = fits.getdata(\"../HAY_A_AMICA_3_HAYAMICA_V1_0/data/20051017/st_2468186849_p.fit\")\n"
   ]
  }
 ],
 "metadata": {
  "kernelspec": {
   "display_name": "Python 3",
   "language": "python",
   "name": "python3"
  },
  "language_info": {
   "codemirror_mode": {
    "name": "ipython",
    "version": 3
   },
   "file_extension": ".py",
   "mimetype": "text/x-python",
   "name": "python",
   "nbconvert_exporter": "python",
   "pygments_lexer": "ipython3",
   "version": "3.8.12"
  },
  "orig_nbformat": 4
 },
 "nbformat": 4,
 "nbformat_minor": 2
}
