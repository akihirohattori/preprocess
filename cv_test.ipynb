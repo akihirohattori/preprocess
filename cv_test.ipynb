{
 "cells": [
  {
   "cell_type": "code",
   "execution_count": 43,
   "metadata": {},
   "outputs": [],
   "source": [
    "import numpy as np\n",
    "from astropy.io import fits\n",
    "import cv2\n",
    "import os\n",
    "import math"
   ]
  },
  {
   "cell_type": "code",
   "execution_count": 44,
   "metadata": {},
   "outputs": [],
   "source": [
    "def min_max(x, ax, ay):\n",
    "    min_x = x.min()\n",
    "    max_x = x.max()\n",
    "    a = np.zeros((ax, ay))\n",
    "    b = np.zeros((ax, ay))\n",
    "    z = np.zeros((ax, ay))\n",
    "    for i in range(ax):\n",
    "        for j in range(ay):\n",
    "            z[i][j] = (x[i][j] - min_x)/(max_x - min_x) * 255\n",
    "            a[i][j],b[i][j] = math.modf(z[i][j])\n",
    "\n",
    "    return a,b"
   ]
  },
  {
   "cell_type": "code",
   "execution_count": 46,
   "metadata": {},
   "outputs": [],
   "source": [
    "def image_conv(image):\n",
    "    i = fits.getdata(image)\n",
    "    cv2.imwrite(\"test.tif\",i.astype('uint16'))\n",
    "    c = cv2.imread(\"test.tif\",-1)\n",
    "\n",
    "    return c"
   ]
  },
  {
   "cell_type": "code",
   "execution_count": 52,
   "metadata": {},
   "outputs": [],
   "source": [
    "# FITS画像ファイルのリストを作成\n",
    "# image_files = [\"../../gra/HAY_A_AMICA_3_HAYAMICA_V1_0/data/20051025/st_2491939184_b.fit\",\n",
    "#                \"../../gra/HAY_A_AMICA_3_HAYAMICA_V1_0/data/20051025/st_2491942076_v.fit\",\n",
    "#                \"../../gra/HAY_A_AMICA_3_HAYAMICA_V1_0/data/20051025/st_2491945018_w.fit\",\n",
    "#                  \"../../gra/HAY_A_AMICA_3_HAYAMICA_V1_0/data/20051025/st_2491947926_p.fit\"]  # すべての画像ファイルを含むリスト\n",
    "\n",
    "# image_files = [\"../HAY_A_AMICA_3_HAYAMICA_V1_0/data/20051025/st_2489428266_b.fit\",\n",
    "#                \"../HAY_A_AMICA_3_HAYAMICA_V1_0/data/20051025/st_2489432123_v.fit\",\n",
    "#                \"../HAY_A_AMICA_3_HAYAMICA_V1_0/data/20051025/st_2489436012_w.fit\",\n",
    "#                  \"../HAY_A_AMICA_3_HAYAMICA_V1_0/data/20051025/st_2489439885_p.fit\"]\n",
    "\n",
    "image_files = [\"../HAY_A_AMICA_3_HAYAMICA_V1_0/data/20051025/st_2490234689_b.fit\",\n",
    "               \"../HAY_A_AMICA_3_HAYAMICA_V1_0/data/20051025/st_2490238562_v.fit\",\n",
    "               \"../HAY_A_AMICA_3_HAYAMICA_V1_0/data/20051025/st_2490242451_w.fit\",\n",
    "               \"../HAY_A_AMICA_3_HAYAMICA_V1_0/data/20051025/st_2490246307_p.fit\"]\n",
    "\n",
    "\n",
    "# 出力ディレクトリとファイル名のプレフィックスを指定\n",
    "home_dir = os.path.expanduser(\"~\")\n",
    "output_directory = os.path.join(home_dir, \"Documents/after_graduate2/output_directory_op/\")\n",
    "file_prefix = 'registered_image_'  # ファイル名のプレフィックスを指定\n",
    "\n",
    "hdulist = fits.open(image_files[2])  \n",
    "hdu = hdulist[0]\n",
    "data = hdu.data\n",
    "header = hdu.header\n",
    "x_axis = header[\"NAXIS1\"]\n",
    "y_axis = header[\"NAXIS2\"]\n",
    "\n",
    "name_prefix = []\n",
    "for i,name in enumerate(image_files):\n",
    "    parts = name.split(\".f\")\n",
    "    part = parts[0].split(\"/data/\")\n",
    "    par = part[1].split(\"/st\")\n",
    "    p = f\"{par[0]}{par[1]}_reg_\"\n",
    "    name_prefix.append(p)\n",
    "\n",
    "name = image_files[0]\n",
    "parts = name.split(\".f\")\n",
    "part = parts[0].split(\"/data/\")\n",
    "par = part[1].split(\"/st\")\n",
    "p = f\"{par[0]}\"\n",
    "name_prefix.append(p)\n",
    "\n",
    "# 最初の画像を基準画像として読み込み\n",
    "images = []\n",
    "#少数部分の保存\n",
    "float_images = []\n",
    "f = []\n",
    "images_uint16 = []\n",
    "for i,filename in enumerate(image_files):\n",
    "    images_uint16.append(image_conv(filename))\n",
    "    f.append(fits.getdata(filename))\n",
    "    a,b = min_max(f[i], x_axis, y_axis)\n",
    "    if i == 2:\n",
    "      reference_image = np.uint8(b)\n",
    "    images.append(np.uint8(b))\n",
    "    float_images.append(a)\n",
    "  \n"
   ]
  },
  {
   "cell_type": "code",
   "execution_count": 51,
   "metadata": {},
   "outputs": [
    {
     "name": "stdout",
     "output_type": "stream",
     "text": [
      "True\n",
      "True\n",
      "True\n",
      "True\n"
     ]
    }
   ],
   "source": [
    "for i in range(4):\n",
    "    print((fits.getdata(image_files[i]) == images[i]).all())"
   ]
  },
  {
   "cell_type": "code",
   "execution_count": 55,
   "metadata": {},
   "outputs": [],
   "source": [
    "output_directory = os.path.join(home_dir, \"Documents/after_graduate2/output_perspective_test/\")\n",
    "registered_images = []\n",
    "\n",
    "\n",
    "# 基準画像から他の画像への変換行列を計算し、変換を適用\n",
    "for i,image_file in enumerate(images):\n",
    "    \n",
    "    # 画像の特徴点を検出\n",
    "    akaze = cv2.AKAZE_create()\n",
    "    keypoints1, descriptors1 = akaze.detectAndCompute(reference_image, None)\n",
    "    keypoints2, descriptors2 = akaze.detectAndCompute(image_file, None)\n",
    "    \n",
    "    # 特徴点マッチングと変換行列の計算\n",
    "    bf = cv2.BFMatcher()\n",
    "    matches = bf.knnMatch(descriptors2, descriptors1, k = 2)\n",
    "\n",
    "    good_matches = []\n",
    "    for m, n in matches:\n",
    "        if m.distance < 0.75 * n.distance:\n",
    "            good_matches.append([m])\n",
    "    \n",
    "    #適切なキーポイントを選択\n",
    "    src_pts = np.float32([keypoints2[m[0].queryIdx].pt for m in good_matches]).reshape(-1, 1, 2)\n",
    "    dst_pts = np.float32([keypoints1[m[0].trainIdx].pt for m in good_matches]).reshape(-1, 1, 2)\n",
    "    H, status = cv2.findHomography(src_pts, dst_pts, cv2.RANSAC, 5.0)\n",
    "    \n",
    "    # 変換行列を適用して画像を基準画像の座標系に変換\n",
    "    registered_image = cv2.warpPerspective(images_uint16[i], H, (image_file.shape[1], image_file.shape[0]))\n",
    "    \n",
    "    registered_images.append(registered_image)\n",
    "\n",
    "for i in range(len(registered_images)):\n",
    "    output_jpgname = f\"{output_directory}{name_prefix[i]}.png\"\n",
    "    output_filename = f\"{output_directory}{name_prefix[i]}.fits\"\n",
    "    cv2.imwrite(output_jpgname, registered_images[i])\n",
    "    fits.writeto(output_filename, registered_images[i], overwrite=True)"
   ]
  },
  {
   "cell_type": "code",
   "execution_count": 36,
   "metadata": {},
   "outputs": [
    {
     "name": "stderr",
     "output_type": "stream",
     "text": [
      "/var/folders/pz/yjmbqcmx2t5cm5ff1q7nkqnc0000gn/T/ipykernel_12582/220205332.py:5: UserWarning: test.tif is a low contrast image\n",
      "  io.imsave(\"test.tif\",i.astype('uint16'))\n"
     ]
    }
   ],
   "source": [
    "image = \"../HAY_A_AMICA_3_HAYAMICA_V1_0/data/20051025/st_2490234689_b.fit\"\n",
    "\n",
    "\n",
    "i = fits.getdata(image)\n",
    "io.imsave(\"test.tif\",i.astype('uint16'))\n",
    "c = cv2.imread(\"test.tif\",-1)\n"
   ]
  },
  {
   "cell_type": "code",
   "execution_count": 25,
   "metadata": {},
   "outputs": [
    {
     "data": {
      "text/plain": [
       "numpy.ndarray"
      ]
     },
     "execution_count": 25,
     "metadata": {},
     "output_type": "execute_result"
    }
   ],
   "source": [
    "type(c)"
   ]
  },
  {
   "cell_type": "code",
   "execution_count": 37,
   "metadata": {},
   "outputs": [
    {
     "name": "stdout",
     "output_type": "stream",
     "text": [
      "uint16\n"
     ]
    }
   ],
   "source": [
    "print(c.dtype)"
   ]
  },
  {
   "cell_type": "code",
   "execution_count": 39,
   "metadata": {},
   "outputs": [
    {
     "data": {
      "text/plain": [
       "array([[3, 1, 4, ..., 1, 3, 2],\n",
       "       [1, 3, 1, ..., 4, 4, 1],\n",
       "       [5, 6, 2, ..., 4, 1, 6],\n",
       "       ...,\n",
       "       [4, 3, 4, ..., 2, 1, 6],\n",
       "       [1, 1, 5, ..., 3, 3, 1],\n",
       "       [1, 6, 1, ..., 4, 1, 2]], dtype=int16)"
      ]
     },
     "execution_count": 39,
     "metadata": {},
     "output_type": "execute_result"
    }
   ],
   "source": [
    "i"
   ]
  },
  {
   "cell_type": "code",
   "execution_count": 38,
   "metadata": {},
   "outputs": [
    {
     "data": {
      "text/plain": [
       "array([[3, 1, 4, ..., 1, 3, 2],\n",
       "       [1, 3, 1, ..., 4, 4, 1],\n",
       "       [5, 6, 2, ..., 4, 1, 6],\n",
       "       ...,\n",
       "       [4, 3, 4, ..., 2, 1, 6],\n",
       "       [1, 1, 5, ..., 3, 3, 1],\n",
       "       [1, 6, 1, ..., 4, 1, 2]], dtype=uint16)"
      ]
     },
     "execution_count": 38,
     "metadata": {},
     "output_type": "execute_result"
    }
   ],
   "source": [
    "c"
   ]
  },
  {
   "cell_type": "code",
   "execution_count": 41,
   "metadata": {},
   "outputs": [
    {
     "name": "stdout",
     "output_type": "stream",
     "text": [
      "True\n"
     ]
    }
   ],
   "source": [
    "print((i == c).all())"
   ]
  },
  {
   "cell_type": "code",
   "execution_count": 42,
   "metadata": {},
   "outputs": [],
   "source": [
    "fits.writeto(\"test.fits\", c, overwrite=True)"
   ]
  },
  {
   "cell_type": "code",
   "execution_count": null,
   "metadata": {},
   "outputs": [],
   "source": []
  }
 ],
 "metadata": {
  "kernelspec": {
   "display_name": "Python 3",
   "language": "python",
   "name": "python3"
  },
  "language_info": {
   "codemirror_mode": {
    "name": "ipython",
    "version": 3
   },
   "file_extension": ".py",
   "mimetype": "text/x-python",
   "name": "python",
   "nbconvert_exporter": "python",
   "pygments_lexer": "ipython3",
   "version": "3.8.15"
  },
  "orig_nbformat": 4
 },
 "nbformat": 4,
 "nbformat_minor": 2
}
