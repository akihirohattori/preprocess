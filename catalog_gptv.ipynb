{
 "cells": [
  {
   "cell_type": "code",
   "execution_count": 3,
   "metadata": {},
   "outputs": [],
   "source": [
    "import os\n",
    "import glob\n",
    "from astropy.io import fits\n",
    "import matplotlib.pyplot as plt\n",
    "from matplotlib.backends.backend_pdf import PdfPages\n",
    "import re"
   ]
  },
  {
   "cell_type": "code",
   "execution_count": 1,
   "metadata": {},
   "outputs": [],
   "source": [
    "def atoi(text):\n",
    "    return int(text) if text.isdigit() else text\n",
    "\n",
    "def natural_keys(text):\n",
    "    return [ atoi(c) for c in re.split(r'(\\d+)', text) ]"
   ]
  },
  {
   "cell_type": "code",
   "execution_count": 7,
   "metadata": {},
   "outputs": [],
   "source": [
    "# ベースディレクトリ\n",
    "home_dir = os.path.expanduser(\"~\")\n",
    "base_dir = os.path.join(home_dir, \"Documents/after_graduate2/HAY_A_AMICA_3_HAYAMICA_V1_0/data/\")\n",
    "\n",
    "# 出力PDFファイルのベースパス\n",
    "output_pdf_base = '/Users/hattoriakihiro/Documents/after_graduate2/Catalog'\n",
    "\n",
    "# 1ページに表示する画像の数\n",
    "images_per_page = 5\n",
    "\n",
    "# ベースディレクトリ内のサブディレクトリを検索\n",
    "subdirectories = [d for d in os.listdir(base_dir) if os.path.isdir(os.path.join(base_dir, d))]"
   ]
  },
  {
   "cell_type": "code",
   "execution_count": 9,
   "metadata": {},
   "outputs": [],
   "source": [
    "for subdir in subdirectories:\n",
    "    # サブディレクトリ内の画像ファイルを取得\n",
    "    image_files = sorted(glob.glob(os.path.join(base_dir, subdir, '*.fit')), key = natural_keys)\n",
    "    \n",
    "    if len(image_files) == 0:\n",
    "        # 画像が存在しない場合、スキップ\n",
    "        continue\n",
    "\n",
    "    # PDFファイルの出力パスを設定\n",
    "    output_pdf = os.path.join(output_pdf_base, f'{subdir}_images.pdf')\n",
    "\n",
    "    # PDFページを作成\n",
    "    pdf_pages = PdfPages(output_pdf)\n",
    "    # 画像をページごとにプロットし、PDFに追加\n",
    "    for i in range(0, len(image_files), images_per_page):\n",
    "        plt.figure(figsize=(20, 20))\n",
    "\n",
    "        for j in range(i, min(i + images_per_page, len(image_files))):\n",
    "            image_path = image_files[j]\n",
    "            hdulist = fits.open(image_path)\n",
    "            image = hdulist[0].data\n",
    "\n",
    "            plt.subplot(1, images_per_page, j - i + 1)\n",
    "            plt.imshow(image,cmap = \"gray\")\n",
    "            plt.axis('off')\n",
    "            plt.title(os.path.basename(image_path))\n",
    "\n",
    "        # PDFページに追加\n",
    "        pdf_pages.savefig()\n",
    "        plt.close()\n",
    "\n",
    "    # PDFを保存してファイルを閉じる\n",
    "    pdf_pages.close()\n"
   ]
  }
 ],
 "metadata": {
  "kernelspec": {
   "display_name": "Python 3",
   "language": "python",
   "name": "python3"
  },
  "language_info": {
   "codemirror_mode": {
    "name": "ipython",
    "version": 3
   },
   "file_extension": ".py",
   "mimetype": "text/x-python",
   "name": "python",
   "nbconvert_exporter": "python",
   "pygments_lexer": "ipython3",
   "version": "3.8.12"
  },
  "orig_nbformat": 4
 },
 "nbformat": 4,
 "nbformat_minor": 2
}
